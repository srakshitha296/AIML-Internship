{
 "cells": [
  {
   "cell_type": "markdown",
   "id": "697333f3",
   "metadata": {},
   "source": [
    "# <center>Total Price Prediction</center>"
   ]
  },
  {
   "cell_type": "code",
   "execution_count": 356,
   "id": "c370a210",
   "metadata": {},
   "outputs": [],
   "source": [
    "#import libraries\n",
    "import pandas as pd\n",
    "import numpy as np"
   ]
  },
  {
   "cell_type": "markdown",
   "id": "807add3d",
   "metadata": {},
   "source": [
    "### Load the data"
   ]
  },
  {
   "cell_type": "code",
   "execution_count": 357,
   "id": "1e5b85df",
   "metadata": {
    "scrolled": false
   },
   "outputs": [
    {
     "data": {
      "text/html": [
       "<div>\n",
       "<style scoped>\n",
       "    .dataframe tbody tr th:only-of-type {\n",
       "        vertical-align: middle;\n",
       "    }\n",
       "\n",
       "    .dataframe tbody tr th {\n",
       "        vertical-align: top;\n",
       "    }\n",
       "\n",
       "    .dataframe thead th {\n",
       "        text-align: right;\n",
       "    }\n",
       "</style>\n",
       "<table border=\"1\" class=\"dataframe\">\n",
       "  <thead>\n",
       "    <tr style=\"text-align: right;\">\n",
       "      <th></th>\n",
       "      <th>Customer ID</th>\n",
       "      <th>Country</th>\n",
       "      <th>State</th>\n",
       "      <th>Postal Code</th>\n",
       "      <th>Gender</th>\n",
       "      <th>Senior Citizen</th>\n",
       "      <th>Partner</th>\n",
       "      <th>Dependents</th>\n",
       "      <th>tenure</th>\n",
       "      <th>Phone Service</th>\n",
       "      <th>...</th>\n",
       "      <th>Device Protection</th>\n",
       "      <th>Tech Support</th>\n",
       "      <th>Streaming TV</th>\n",
       "      <th>Streaming Movies</th>\n",
       "      <th>Contract</th>\n",
       "      <th>Paperless Billing</th>\n",
       "      <th>Payment Method</th>\n",
       "      <th>Monthly Charges</th>\n",
       "      <th>Total Charges</th>\n",
       "      <th>Churn</th>\n",
       "    </tr>\n",
       "  </thead>\n",
       "  <tbody>\n",
       "    <tr>\n",
       "      <th>0</th>\n",
       "      <td>7590-VHVEA</td>\n",
       "      <td>Australia</td>\n",
       "      <td>New South Wales</td>\n",
       "      <td>2000</td>\n",
       "      <td>Female</td>\n",
       "      <td>0</td>\n",
       "      <td>Yes</td>\n",
       "      <td>No</td>\n",
       "      <td>1.0</td>\n",
       "      <td>No</td>\n",
       "      <td>...</td>\n",
       "      <td>No</td>\n",
       "      <td>No</td>\n",
       "      <td>No</td>\n",
       "      <td>No</td>\n",
       "      <td>Month-to-month</td>\n",
       "      <td>Yes</td>\n",
       "      <td>Electronic check</td>\n",
       "      <td>29.85</td>\n",
       "      <td>29.85</td>\n",
       "      <td>No</td>\n",
       "    </tr>\n",
       "    <tr>\n",
       "      <th>1</th>\n",
       "      <td>7590-VHVEG</td>\n",
       "      <td>Australia</td>\n",
       "      <td>New South Wales</td>\n",
       "      <td>2035</td>\n",
       "      <td>Female</td>\n",
       "      <td>0</td>\n",
       "      <td>Yes</td>\n",
       "      <td>No</td>\n",
       "      <td>1.0</td>\n",
       "      <td>No</td>\n",
       "      <td>...</td>\n",
       "      <td>No</td>\n",
       "      <td>No</td>\n",
       "      <td>No</td>\n",
       "      <td>No</td>\n",
       "      <td>Month-to-month</td>\n",
       "      <td>Yes</td>\n",
       "      <td>Electronic check</td>\n",
       "      <td>29.85</td>\n",
       "      <td>29.85</td>\n",
       "      <td>No</td>\n",
       "    </tr>\n",
       "    <tr>\n",
       "      <th>2</th>\n",
       "      <td>5575-GNVDE</td>\n",
       "      <td>Australia</td>\n",
       "      <td>New South Wales</td>\n",
       "      <td>2014</td>\n",
       "      <td>Male</td>\n",
       "      <td>0</td>\n",
       "      <td>No</td>\n",
       "      <td>No</td>\n",
       "      <td>34.0</td>\n",
       "      <td>Yes</td>\n",
       "      <td>...</td>\n",
       "      <td>Yes</td>\n",
       "      <td>No</td>\n",
       "      <td>No</td>\n",
       "      <td>No</td>\n",
       "      <td>One year</td>\n",
       "      <td>No</td>\n",
       "      <td>Mailed check</td>\n",
       "      <td>56.95</td>\n",
       "      <td>1889.50</td>\n",
       "      <td>No</td>\n",
       "    </tr>\n",
       "    <tr>\n",
       "      <th>3</th>\n",
       "      <td>3668-QPYBK</td>\n",
       "      <td>Australia</td>\n",
       "      <td>New South Wales</td>\n",
       "      <td>2041</td>\n",
       "      <td>Male</td>\n",
       "      <td>0</td>\n",
       "      <td>No</td>\n",
       "      <td>No</td>\n",
       "      <td>2.0</td>\n",
       "      <td>Yes</td>\n",
       "      <td>...</td>\n",
       "      <td>No</td>\n",
       "      <td>No</td>\n",
       "      <td>No</td>\n",
       "      <td>No</td>\n",
       "      <td>Month-to-month</td>\n",
       "      <td>Yes</td>\n",
       "      <td>Mailed check</td>\n",
       "      <td>53.85</td>\n",
       "      <td>108.15</td>\n",
       "      <td>Yes</td>\n",
       "    </tr>\n",
       "    <tr>\n",
       "      <th>4</th>\n",
       "      <td>7795-CFOCW</td>\n",
       "      <td>Australia</td>\n",
       "      <td>New South Wales</td>\n",
       "      <td>2050</td>\n",
       "      <td>Male</td>\n",
       "      <td>0</td>\n",
       "      <td>No</td>\n",
       "      <td>No</td>\n",
       "      <td>45.0</td>\n",
       "      <td>No</td>\n",
       "      <td>...</td>\n",
       "      <td>Yes</td>\n",
       "      <td>Yes</td>\n",
       "      <td>No</td>\n",
       "      <td>No</td>\n",
       "      <td>One year</td>\n",
       "      <td>No</td>\n",
       "      <td>Bank transfer (automatic)</td>\n",
       "      <td>42.3</td>\n",
       "      <td>1840.75</td>\n",
       "      <td>No</td>\n",
       "    </tr>\n",
       "  </tbody>\n",
       "</table>\n",
       "<p>5 rows × 24 columns</p>\n",
       "</div>"
      ],
      "text/plain": [
       "  Customer ID    Country            State  Postal Code  Gender  \\\n",
       "0  7590-VHVEA  Australia  New South Wales         2000  Female   \n",
       "1  7590-VHVEG  Australia  New South Wales         2035  Female   \n",
       "2  5575-GNVDE  Australia  New South Wales         2014    Male   \n",
       "3  3668-QPYBK  Australia  New South Wales         2041    Male   \n",
       "4  7795-CFOCW  Australia  New South Wales         2050    Male   \n",
       "\n",
       "   Senior Citizen Partner Dependents  tenure Phone Service  ...  \\\n",
       "0               0     Yes         No     1.0            No  ...   \n",
       "1               0     Yes         No     1.0            No  ...   \n",
       "2               0      No         No    34.0           Yes  ...   \n",
       "3               0      No         No     2.0           Yes  ...   \n",
       "4               0      No         No    45.0            No  ...   \n",
       "\n",
       "  Device Protection Tech Support Streaming TV Streaming Movies  \\\n",
       "0                No           No           No               No   \n",
       "1                No           No           No               No   \n",
       "2               Yes           No           No               No   \n",
       "3                No           No           No               No   \n",
       "4               Yes          Yes           No               No   \n",
       "\n",
       "         Contract Paperless Billing             Payment Method  \\\n",
       "0  Month-to-month               Yes           Electronic check   \n",
       "1  Month-to-month               Yes           Electronic check   \n",
       "2        One year                No               Mailed check   \n",
       "3  Month-to-month               Yes               Mailed check   \n",
       "4        One year                No  Bank transfer (automatic)   \n",
       "\n",
       "  Monthly Charges Total Charges Churn  \n",
       "0           29.85         29.85    No  \n",
       "1           29.85         29.85    No  \n",
       "2           56.95       1889.50    No  \n",
       "3           53.85        108.15   Yes  \n",
       "4            42.3       1840.75    No  \n",
       "\n",
       "[5 rows x 24 columns]"
      ]
     },
     "execution_count": 357,
     "metadata": {},
     "output_type": "execute_result"
    }
   ],
   "source": [
    "#load dataset into pandas dataframe\n",
    "df = pd.read_csv('C:\\\\Users\\\\sraks\\\\AIML Internship\\\\AIML-Internship\\\\TASK\\\\T01\\\\task01.csv')\n",
    "df.head()"
   ]
  },
  {
   "cell_type": "markdown",
   "id": "221a1780",
   "metadata": {},
   "source": [
    "### Data Cleaning and Preprocessing"
   ]
  },
  {
   "cell_type": "code",
   "execution_count": 358,
   "id": "7446a2a0",
   "metadata": {},
   "outputs": [
    {
     "data": {
      "text/plain": [
       "Customer ID          0\n",
       "Country              0\n",
       "State                0\n",
       "Postal Code          0\n",
       "Gender               0\n",
       "Senior Citizen       0\n",
       "Partner              0\n",
       "Dependents           0\n",
       "tenure               1\n",
       "Phone Service        0\n",
       "Multiple Lines       0\n",
       "Internet Service     1\n",
       "Online Security      1\n",
       "Online Backup        0\n",
       "Device Protection    0\n",
       "Tech Support         0\n",
       "Streaming TV         0\n",
       "Streaming Movies     0\n",
       "Contract             0\n",
       "Paperless Billing    0\n",
       "Payment Method       0\n",
       "Monthly Charges      2\n",
       "Total Charges        8\n",
       "Churn                0\n",
       "dtype: int64"
      ]
     },
     "execution_count": 358,
     "metadata": {},
     "output_type": "execute_result"
    }
   ],
   "source": [
    "#check for null values\n",
    "df.isnull().sum()"
   ]
  },
  {
   "cell_type": "code",
   "execution_count": 359,
   "id": "f4efc066",
   "metadata": {},
   "outputs": [
    {
     "data": {
      "text/plain": [
       "Customer ID          0\n",
       "Country              0\n",
       "State                0\n",
       "Postal Code          0\n",
       "Gender               0\n",
       "Senior Citizen       0\n",
       "Partner              0\n",
       "Dependents           0\n",
       "tenure               0\n",
       "Phone Service        0\n",
       "Multiple Lines       0\n",
       "Internet Service     0\n",
       "Online Security      0\n",
       "Online Backup        0\n",
       "Device Protection    0\n",
       "Tech Support         0\n",
       "Streaming TV         0\n",
       "Streaming Movies     0\n",
       "Contract             0\n",
       "Paperless Billing    0\n",
       "Payment Method       0\n",
       "Monthly Charges      0\n",
       "Total Charges        0\n",
       "Churn                0\n",
       "dtype: int64"
      ]
     },
     "execution_count": 359,
     "metadata": {},
     "output_type": "execute_result"
    }
   ],
   "source": [
    "#Since the data is huge and null values are very small it can be safely dropped\n",
    "dfv1 = df.dropna()\n",
    "dfv1.isna().sum()"
   ]
  },
  {
   "cell_type": "code",
   "execution_count": 360,
   "id": "6bf80132",
   "metadata": {},
   "outputs": [
    {
     "data": {
      "text/plain": [
       "array(['Australia'], dtype=object)"
      ]
     },
     "execution_count": 360,
     "metadata": {},
     "output_type": "execute_result"
    }
   ],
   "source": [
    "dfv1['Country'].unique()"
   ]
  },
  {
   "cell_type": "code",
   "execution_count": 361,
   "id": "741b0aa1",
   "metadata": {},
   "outputs": [
    {
     "data": {
      "text/plain": [
       "array(['New South Wales'], dtype=object)"
      ]
     },
     "execution_count": 361,
     "metadata": {},
     "output_type": "execute_result"
    }
   ],
   "source": [
    "dfv1['State'].unique()"
   ]
  },
  {
   "cell_type": "code",
   "execution_count": 362,
   "id": "88df89e6",
   "metadata": {
    "scrolled": true
   },
   "outputs": [
    {
     "data": {
      "text/html": [
       "<div>\n",
       "<style scoped>\n",
       "    .dataframe tbody tr th:only-of-type {\n",
       "        vertical-align: middle;\n",
       "    }\n",
       "\n",
       "    .dataframe tbody tr th {\n",
       "        vertical-align: top;\n",
       "    }\n",
       "\n",
       "    .dataframe thead th {\n",
       "        text-align: right;\n",
       "    }\n",
       "</style>\n",
       "<table border=\"1\" class=\"dataframe\">\n",
       "  <thead>\n",
       "    <tr style=\"text-align: right;\">\n",
       "      <th></th>\n",
       "      <th>Gender</th>\n",
       "      <th>Senior Citizen</th>\n",
       "      <th>Partner</th>\n",
       "      <th>Dependents</th>\n",
       "      <th>tenure</th>\n",
       "      <th>Phone Service</th>\n",
       "      <th>Multiple Lines</th>\n",
       "      <th>Internet Service</th>\n",
       "      <th>Online Security</th>\n",
       "      <th>Online Backup</th>\n",
       "      <th>Device Protection</th>\n",
       "      <th>Tech Support</th>\n",
       "      <th>Streaming TV</th>\n",
       "      <th>Streaming Movies</th>\n",
       "      <th>Contract</th>\n",
       "      <th>Paperless Billing</th>\n",
       "      <th>Payment Method</th>\n",
       "      <th>Monthly Charges</th>\n",
       "      <th>Total Charges</th>\n",
       "      <th>Churn</th>\n",
       "    </tr>\n",
       "  </thead>\n",
       "  <tbody>\n",
       "    <tr>\n",
       "      <th>0</th>\n",
       "      <td>Female</td>\n",
       "      <td>0</td>\n",
       "      <td>Yes</td>\n",
       "      <td>No</td>\n",
       "      <td>1.0</td>\n",
       "      <td>No</td>\n",
       "      <td>No phone service</td>\n",
       "      <td>DSL</td>\n",
       "      <td>No</td>\n",
       "      <td>Yes</td>\n",
       "      <td>No</td>\n",
       "      <td>No</td>\n",
       "      <td>No</td>\n",
       "      <td>No</td>\n",
       "      <td>Month-to-month</td>\n",
       "      <td>Yes</td>\n",
       "      <td>Electronic check</td>\n",
       "      <td>29.85</td>\n",
       "      <td>29.85</td>\n",
       "      <td>No</td>\n",
       "    </tr>\n",
       "    <tr>\n",
       "      <th>1</th>\n",
       "      <td>Female</td>\n",
       "      <td>0</td>\n",
       "      <td>Yes</td>\n",
       "      <td>No</td>\n",
       "      <td>1.0</td>\n",
       "      <td>No</td>\n",
       "      <td>No phone service</td>\n",
       "      <td>DSL</td>\n",
       "      <td>No</td>\n",
       "      <td>Yes</td>\n",
       "      <td>No</td>\n",
       "      <td>No</td>\n",
       "      <td>No</td>\n",
       "      <td>No</td>\n",
       "      <td>Month-to-month</td>\n",
       "      <td>Yes</td>\n",
       "      <td>Electronic check</td>\n",
       "      <td>29.85</td>\n",
       "      <td>29.85</td>\n",
       "      <td>No</td>\n",
       "    </tr>\n",
       "    <tr>\n",
       "      <th>2</th>\n",
       "      <td>Male</td>\n",
       "      <td>0</td>\n",
       "      <td>No</td>\n",
       "      <td>No</td>\n",
       "      <td>34.0</td>\n",
       "      <td>Yes</td>\n",
       "      <td>No</td>\n",
       "      <td>DSL</td>\n",
       "      <td>Yes</td>\n",
       "      <td>No</td>\n",
       "      <td>Yes</td>\n",
       "      <td>No</td>\n",
       "      <td>No</td>\n",
       "      <td>No</td>\n",
       "      <td>One year</td>\n",
       "      <td>No</td>\n",
       "      <td>Mailed check</td>\n",
       "      <td>56.95</td>\n",
       "      <td>1889.50</td>\n",
       "      <td>No</td>\n",
       "    </tr>\n",
       "    <tr>\n",
       "      <th>3</th>\n",
       "      <td>Male</td>\n",
       "      <td>0</td>\n",
       "      <td>No</td>\n",
       "      <td>No</td>\n",
       "      <td>2.0</td>\n",
       "      <td>Yes</td>\n",
       "      <td>No</td>\n",
       "      <td>DSL</td>\n",
       "      <td>Yes</td>\n",
       "      <td>Yes</td>\n",
       "      <td>No</td>\n",
       "      <td>No</td>\n",
       "      <td>No</td>\n",
       "      <td>No</td>\n",
       "      <td>Month-to-month</td>\n",
       "      <td>Yes</td>\n",
       "      <td>Mailed check</td>\n",
       "      <td>53.85</td>\n",
       "      <td>108.15</td>\n",
       "      <td>Yes</td>\n",
       "    </tr>\n",
       "    <tr>\n",
       "      <th>4</th>\n",
       "      <td>Male</td>\n",
       "      <td>0</td>\n",
       "      <td>No</td>\n",
       "      <td>No</td>\n",
       "      <td>45.0</td>\n",
       "      <td>No</td>\n",
       "      <td>No phone service</td>\n",
       "      <td>DSL</td>\n",
       "      <td>Yes</td>\n",
       "      <td>No</td>\n",
       "      <td>Yes</td>\n",
       "      <td>Yes</td>\n",
       "      <td>No</td>\n",
       "      <td>No</td>\n",
       "      <td>One year</td>\n",
       "      <td>No</td>\n",
       "      <td>Bank transfer (automatic)</td>\n",
       "      <td>42.3</td>\n",
       "      <td>1840.75</td>\n",
       "      <td>No</td>\n",
       "    </tr>\n",
       "  </tbody>\n",
       "</table>\n",
       "</div>"
      ],
      "text/plain": [
       "   Gender  Senior Citizen Partner Dependents  tenure Phone Service  \\\n",
       "0  Female               0     Yes         No     1.0            No   \n",
       "1  Female               0     Yes         No     1.0            No   \n",
       "2    Male               0      No         No    34.0           Yes   \n",
       "3    Male               0      No         No     2.0           Yes   \n",
       "4    Male               0      No         No    45.0            No   \n",
       "\n",
       "     Multiple Lines Internet Service Online Security Online Backup  \\\n",
       "0  No phone service              DSL              No           Yes   \n",
       "1  No phone service              DSL              No           Yes   \n",
       "2                No              DSL             Yes            No   \n",
       "3                No              DSL             Yes           Yes   \n",
       "4  No phone service              DSL             Yes            No   \n",
       "\n",
       "  Device Protection Tech Support Streaming TV Streaming Movies  \\\n",
       "0                No           No           No               No   \n",
       "1                No           No           No               No   \n",
       "2               Yes           No           No               No   \n",
       "3                No           No           No               No   \n",
       "4               Yes          Yes           No               No   \n",
       "\n",
       "         Contract Paperless Billing             Payment Method  \\\n",
       "0  Month-to-month               Yes           Electronic check   \n",
       "1  Month-to-month               Yes           Electronic check   \n",
       "2        One year                No               Mailed check   \n",
       "3  Month-to-month               Yes               Mailed check   \n",
       "4        One year                No  Bank transfer (automatic)   \n",
       "\n",
       "  Monthly Charges  Total Charges Churn  \n",
       "0           29.85          29.85    No  \n",
       "1           29.85          29.85    No  \n",
       "2           56.95        1889.50    No  \n",
       "3           53.85         108.15   Yes  \n",
       "4            42.3        1840.75    No  "
      ]
     },
     "execution_count": 362,
     "metadata": {},
     "output_type": "execute_result"
    }
   ],
   "source": [
    "#Drop the factors that doesnt effect our prediction.\n",
    "dfv2 = dfv1.drop(['Customer ID','Country','State','Postal Code'], axis = 'columns')\n",
    "dfv2.head()"
   ]
  },
  {
   "cell_type": "code",
   "execution_count": 363,
   "id": "97d8a949",
   "metadata": {},
   "outputs": [
    {
     "data": {
      "text/plain": [
       "array(['Female', 'Male', 'female'], dtype=object)"
      ]
     },
     "execution_count": 363,
     "metadata": {},
     "output_type": "execute_result"
    }
   ],
   "source": [
    "dfv2['Gender'].unique()"
   ]
  },
  {
   "cell_type": "code",
   "execution_count": 364,
   "id": "5449c6b0",
   "metadata": {},
   "outputs": [
    {
     "data": {
      "text/plain": [
       "Gender\n",
       "female    2460\n",
       "male      2526\n",
       "Name: Gender, dtype: int64"
      ]
     },
     "execution_count": 364,
     "metadata": {},
     "output_type": "execute_result"
    }
   ],
   "source": [
    "dfv2['Gender']=dfv2['Gender'].apply(lambda x : x.lower())\n",
    "dfv2['Gender'].unique()\n",
    "dfv2.groupby('Gender')['Gender'].agg('count')"
   ]
  },
  {
   "cell_type": "markdown",
   "id": "ddd4b98b",
   "metadata": {},
   "source": [
    "Data Cleaning and Preprocessing"
   ]
  },
  {
   "cell_type": "code",
   "execution_count": 365,
   "id": "312622d3",
   "metadata": {},
   "outputs": [
    {
     "data": {
      "text/plain": [
       "Gender\n",
       "0    2460\n",
       "1    2526\n",
       "Name: Gender, dtype: int64"
      ]
     },
     "execution_count": 365,
     "metadata": {},
     "output_type": "execute_result"
    }
   ],
   "source": [
    "dfv2['Gender']=dfv2['Gender'].apply(lambda x : 0 if x=='female' else 1)\n",
    "dfv2.groupby('Gender')['Gender'].agg('count')"
   ]
  },
  {
   "cell_type": "code",
   "execution_count": 366,
   "id": "467ec63a",
   "metadata": {
    "scrolled": true
   },
   "outputs": [
    {
     "data": {
      "text/plain": [
       "Partner\n",
       "No     2589\n",
       "Yes    2397\n",
       "Name: Partner, dtype: int64"
      ]
     },
     "execution_count": 366,
     "metadata": {},
     "output_type": "execute_result"
    }
   ],
   "source": [
    "dfv2['Partner'].unique()\n",
    "dfv2.groupby('Partner')['Partner'].agg('count')"
   ]
  },
  {
   "cell_type": "code",
   "execution_count": 367,
   "id": "741aa946",
   "metadata": {},
   "outputs": [
    {
     "data": {
      "text/plain": [
       "Partner\n",
       "0    2589\n",
       "1    2397\n",
       "Name: Partner, dtype: int64"
      ]
     },
     "execution_count": 367,
     "metadata": {},
     "output_type": "execute_result"
    }
   ],
   "source": [
    "dfv2['Partner']=dfv2['Partner'].apply(lambda x : 1 if x == 'Yes' else 0)\n",
    "dfv2.groupby('Partner')['Partner'].agg('count')"
   ]
  },
  {
   "cell_type": "code",
   "execution_count": 368,
   "id": "6fb01169",
   "metadata": {
    "scrolled": true
   },
   "outputs": [
    {
     "data": {
      "text/plain": [
       "array(['No', 'Yes'], dtype=object)"
      ]
     },
     "execution_count": 368,
     "metadata": {},
     "output_type": "execute_result"
    }
   ],
   "source": [
    "dfv2['Dependents'].unique()"
   ]
  },
  {
   "cell_type": "code",
   "execution_count": 369,
   "id": "8588685b",
   "metadata": {},
   "outputs": [
    {
     "data": {
      "text/plain": [
       "Dependents\n",
       "No     3517\n",
       "Yes    1469\n",
       "Name: Dependents, dtype: int64"
      ]
     },
     "execution_count": 369,
     "metadata": {},
     "output_type": "execute_result"
    }
   ],
   "source": [
    "dfv2.groupby('Dependents')['Dependents'].agg('count')"
   ]
  },
  {
   "cell_type": "code",
   "execution_count": 370,
   "id": "9e506387",
   "metadata": {},
   "outputs": [
    {
     "data": {
      "text/plain": [
       "Dependents\n",
       "0    3517\n",
       "1    1469\n",
       "Name: Dependents, dtype: int64"
      ]
     },
     "execution_count": 370,
     "metadata": {},
     "output_type": "execute_result"
    }
   ],
   "source": [
    "dfv2['Dependents']=dfv2['Dependents'].apply(lambda x : 1 if x == 'Yes' else 0)\n",
    "dfv2.groupby('Dependents')['Dependents'].agg('count')"
   ]
  },
  {
   "cell_type": "code",
   "execution_count": 371,
   "id": "7bbcf935",
   "metadata": {
    "scrolled": false
   },
   "outputs": [
    {
     "data": {
      "text/plain": [
       "array(['No', 'Yes', ' '], dtype=object)"
      ]
     },
     "execution_count": 371,
     "metadata": {},
     "output_type": "execute_result"
    }
   ],
   "source": [
    "dfv2['Phone Service'].unique() "
   ]
  },
  {
   "cell_type": "code",
   "execution_count": 372,
   "id": "3bc06f7d",
   "metadata": {},
   "outputs": [
    {
     "data": {
      "text/plain": [
       "Phone Service\n",
       "          1\n",
       "No      461\n",
       "Yes    4524\n",
       "Name: Phone Service, dtype: int64"
      ]
     },
     "execution_count": 372,
     "metadata": {},
     "output_type": "execute_result"
    }
   ],
   "source": [
    "dfv2.groupby('Phone Service')['Phone Service'].agg('count')"
   ]
  },
  {
   "cell_type": "code",
   "execution_count": 373,
   "id": "53700b02",
   "metadata": {},
   "outputs": [
    {
     "data": {
      "text/plain": [
       "(4986, 20)"
      ]
     },
     "execution_count": 373,
     "metadata": {},
     "output_type": "execute_result"
    }
   ],
   "source": [
    "dfv2.shape"
   ]
  },
  {
   "cell_type": "code",
   "execution_count": 374,
   "id": "b3f73dae",
   "metadata": {},
   "outputs": [
    {
     "data": {
      "text/plain": [
       "(4985, 20)"
      ]
     },
     "execution_count": 374,
     "metadata": {},
     "output_type": "execute_result"
    }
   ],
   "source": [
    "#dropped the row containing space\n",
    "dfv3 = dfv2[dfv2['Phone Service']!=' ']\n",
    "dfv3.shape"
   ]
  },
  {
   "cell_type": "code",
   "execution_count": 375,
   "id": "1b337af9",
   "metadata": {},
   "outputs": [
    {
     "name": "stderr",
     "output_type": "stream",
     "text": [
      "C:\\Users\\sraks\\AppData\\Local\\Temp\\ipykernel_21844\\3592634444.py:1: SettingWithCopyWarning: \n",
      "A value is trying to be set on a copy of a slice from a DataFrame.\n",
      "Try using .loc[row_indexer,col_indexer] = value instead\n",
      "\n",
      "See the caveats in the documentation: https://pandas.pydata.org/pandas-docs/stable/user_guide/indexing.html#returning-a-view-versus-a-copy\n",
      "  dfv3['Phone Service']=dfv3['Phone Service'].apply(lambda x : 1 if x == 'Yes' else 0)\n"
     ]
    },
    {
     "data": {
      "text/plain": [
       "Phone Service\n",
       "0     461\n",
       "1    4524\n",
       "Name: Phone Service, dtype: int64"
      ]
     },
     "execution_count": 375,
     "metadata": {},
     "output_type": "execute_result"
    }
   ],
   "source": [
    "dfv3['Phone Service']=dfv3['Phone Service'].apply(lambda x : 1 if x == 'Yes' else 0)\n",
    "dfv3.groupby('Phone Service')['Phone Service'].agg('count')"
   ]
  },
  {
   "cell_type": "code",
   "execution_count": 376,
   "id": "ebf96037",
   "metadata": {},
   "outputs": [
    {
     "data": {
      "text/plain": [
       "array(['No phone service', 'No', 'Yes', ' ', 'N0'], dtype=object)"
      ]
     },
     "execution_count": 376,
     "metadata": {},
     "output_type": "execute_result"
    }
   ],
   "source": [
    "dfv3['Multiple Lines'].unique()"
   ]
  },
  {
   "cell_type": "code",
   "execution_count": 377,
   "id": "25760e13",
   "metadata": {},
   "outputs": [
    {
     "data": {
      "text/plain": [
       "Multiple Lines\n",
       "                       2\n",
       "N0                     1\n",
       "No                  2393\n",
       "No phone service     461\n",
       "Yes                 2128\n",
       "Name: Multiple Lines, dtype: int64"
      ]
     },
     "execution_count": 377,
     "metadata": {},
     "output_type": "execute_result"
    }
   ],
   "source": [
    "dfv3.groupby('Multiple Lines')['Multiple Lines'].agg('count')"
   ]
  },
  {
   "cell_type": "code",
   "execution_count": 378,
   "id": "cb0fdfc6",
   "metadata": {
    "scrolled": true
   },
   "outputs": [
    {
     "name": "stderr",
     "output_type": "stream",
     "text": [
      "C:\\Users\\sraks\\AppData\\Local\\Temp\\ipykernel_21844\\3455773104.py:2: SettingWithCopyWarning: \n",
      "A value is trying to be set on a copy of a slice from a DataFrame.\n",
      "Try using .loc[row_indexer,col_indexer] = value instead\n",
      "\n",
      "See the caveats in the documentation: https://pandas.pydata.org/pandas-docs/stable/user_guide/indexing.html#returning-a-view-versus-a-copy\n",
      "  dfv4[\"Multiple Lines\"] = np.select([dfv4[\"Multiple Lines\"]=='Yes', dfv4[\"Multiple Lines\"]=='No phone service'], [2,1], default = 0)\n"
     ]
    },
    {
     "data": {
      "text/plain": [
       "Multiple Lines\n",
       "0    2394\n",
       "1     461\n",
       "2    2128\n",
       "Name: Multiple Lines, dtype: int64"
      ]
     },
     "execution_count": 378,
     "metadata": {},
     "output_type": "execute_result"
    }
   ],
   "source": [
    "dfv4=dfv3[dfv3['Multiple Lines']!=' ']\n",
    "dfv4[\"Multiple Lines\"] = np.select([dfv4[\"Multiple Lines\"]=='Yes', dfv4[\"Multiple Lines\"]=='No phone service'], [2,1], default = 0)\n",
    "dfv4.groupby('Multiple Lines')['Multiple Lines'].agg('count')"
   ]
  },
  {
   "cell_type": "code",
   "execution_count": 379,
   "id": "fa46c3e7",
   "metadata": {},
   "outputs": [
    {
     "data": {
      "text/plain": [
       "(4983, 20)"
      ]
     },
     "execution_count": 379,
     "metadata": {},
     "output_type": "execute_result"
    }
   ],
   "source": [
    "dfv4.shape"
   ]
  },
  {
   "cell_type": "code",
   "execution_count": 380,
   "id": "b4400901",
   "metadata": {},
   "outputs": [
    {
     "data": {
      "text/plain": [
       "array(['DSL', 'Fiber optic', 'No'], dtype=object)"
      ]
     },
     "execution_count": 380,
     "metadata": {},
     "output_type": "execute_result"
    }
   ],
   "source": [
    "dfv4['Internet Service'].unique()"
   ]
  },
  {
   "cell_type": "code",
   "execution_count": 381,
   "id": "b33134cf",
   "metadata": {
    "scrolled": true
   },
   "outputs": [
    {
     "data": {
      "text/plain": [
       "Internet Service\n",
       "DSL            1708\n",
       "Fiber optic    2186\n",
       "No             1089\n",
       "Name: Internet Service, dtype: int64"
      ]
     },
     "execution_count": 381,
     "metadata": {},
     "output_type": "execute_result"
    }
   ],
   "source": [
    "dfv4.groupby('Internet Service')['Internet Service'].agg('count')"
   ]
  },
  {
   "cell_type": "code",
   "execution_count": 382,
   "id": "e6530a68",
   "metadata": {},
   "outputs": [
    {
     "name": "stderr",
     "output_type": "stream",
     "text": [
      "C:\\Users\\sraks\\AppData\\Local\\Temp\\ipykernel_21844\\3158345500.py:1: SettingWithCopyWarning: \n",
      "A value is trying to be set on a copy of a slice from a DataFrame.\n",
      "Try using .loc[row_indexer,col_indexer] = value instead\n",
      "\n",
      "See the caveats in the documentation: https://pandas.pydata.org/pandas-docs/stable/user_guide/indexing.html#returning-a-view-versus-a-copy\n",
      "  dfv4['Internet Service']=np.select([dfv4['Internet Service']=='DSL', dfv4['Internet Service']=='Fiber optic'],\n"
     ]
    },
    {
     "data": {
      "text/plain": [
       "Internet Service\n",
       "0    1089\n",
       "1    1708\n",
       "2    2186\n",
       "Name: Internet Service, dtype: int64"
      ]
     },
     "execution_count": 382,
     "metadata": {},
     "output_type": "execute_result"
    }
   ],
   "source": [
    "dfv4['Internet Service']=np.select([dfv4['Internet Service']=='DSL', dfv4['Internet Service']=='Fiber optic'], \n",
    "                                   [1, 2], \n",
    "                                   default=0)\n",
    "dfv4.groupby('Internet Service')['Internet Service'].agg('count')"
   ]
  },
  {
   "cell_type": "code",
   "execution_count": 383,
   "id": "21b801d0",
   "metadata": {},
   "outputs": [
    {
     "data": {
      "text/plain": [
       "array(['No', 'Yes', 'No internet service'], dtype=object)"
      ]
     },
     "execution_count": 383,
     "metadata": {},
     "output_type": "execute_result"
    }
   ],
   "source": [
    "dfv4['Online Security'].unique()"
   ]
  },
  {
   "cell_type": "code",
   "execution_count": 384,
   "id": "11efe488",
   "metadata": {},
   "outputs": [
    {
     "data": {
      "text/plain": [
       "Online Security\n",
       "No                     2465\n",
       "No internet service    1089\n",
       "Yes                    1429\n",
       "Name: Online Security, dtype: int64"
      ]
     },
     "execution_count": 384,
     "metadata": {},
     "output_type": "execute_result"
    }
   ],
   "source": [
    "dfv4.groupby('Online Security')['Online Security'].agg('count')"
   ]
  },
  {
   "cell_type": "code",
   "execution_count": 385,
   "id": "b302030a",
   "metadata": {},
   "outputs": [
    {
     "name": "stderr",
     "output_type": "stream",
     "text": [
      "C:\\Users\\sraks\\AppData\\Local\\Temp\\ipykernel_21844\\696192688.py:1: SettingWithCopyWarning: \n",
      "A value is trying to be set on a copy of a slice from a DataFrame.\n",
      "Try using .loc[row_indexer,col_indexer] = value instead\n",
      "\n",
      "See the caveats in the documentation: https://pandas.pydata.org/pandas-docs/stable/user_guide/indexing.html#returning-a-view-versus-a-copy\n",
      "  dfv4['Online Security']=np.select([dfv4['Online Security']=='Yes', dfv4['Online Security']=='No'],\n"
     ]
    },
    {
     "data": {
      "text/plain": [
       "Online Security\n",
       "0    2465\n",
       "1    1089\n",
       "2    1429\n",
       "Name: Online Security, dtype: int64"
      ]
     },
     "execution_count": 385,
     "metadata": {},
     "output_type": "execute_result"
    }
   ],
   "source": [
    "dfv4['Online Security']=np.select([dfv4['Online Security']=='Yes', dfv4['Online Security']=='No'], \n",
    "                                   [2, 0], \n",
    "                                   default=1)\n",
    "dfv4.groupby('Online Security')['Online Security'].agg('count')"
   ]
  },
  {
   "cell_type": "code",
   "execution_count": 386,
   "id": "84be335f",
   "metadata": {
    "scrolled": false
   },
   "outputs": [
    {
     "data": {
      "text/plain": [
       "array(['Yes', 'No', 'No internet service'], dtype=object)"
      ]
     },
     "execution_count": 386,
     "metadata": {},
     "output_type": "execute_result"
    }
   ],
   "source": [
    "dfv4['Online Backup'].unique()"
   ]
  },
  {
   "cell_type": "code",
   "execution_count": 387,
   "id": "aafa6b5c",
   "metadata": {},
   "outputs": [
    {
     "data": {
      "text/plain": [
       "Online Backup\n",
       "No                     2174\n",
       "No internet service    1089\n",
       "Yes                    1720\n",
       "Name: Online Backup, dtype: int64"
      ]
     },
     "execution_count": 387,
     "metadata": {},
     "output_type": "execute_result"
    }
   ],
   "source": [
    "dfv4.groupby('Online Backup')['Online Backup'].agg('count')"
   ]
  },
  {
   "cell_type": "code",
   "execution_count": 388,
   "id": "0da33129",
   "metadata": {},
   "outputs": [
    {
     "name": "stderr",
     "output_type": "stream",
     "text": [
      "C:\\Users\\sraks\\AppData\\Local\\Temp\\ipykernel_21844\\2666829695.py:1: SettingWithCopyWarning: \n",
      "A value is trying to be set on a copy of a slice from a DataFrame.\n",
      "Try using .loc[row_indexer,col_indexer] = value instead\n",
      "\n",
      "See the caveats in the documentation: https://pandas.pydata.org/pandas-docs/stable/user_guide/indexing.html#returning-a-view-versus-a-copy\n",
      "  dfv4['Online Backup']=np.select([dfv4['Online Backup']=='Yes', dfv4['Online Backup']=='No'],\n"
     ]
    },
    {
     "data": {
      "text/plain": [
       "Online Backup\n",
       "0    2174\n",
       "1    1089\n",
       "2    1720\n",
       "Name: Online Backup, dtype: int64"
      ]
     },
     "execution_count": 388,
     "metadata": {},
     "output_type": "execute_result"
    }
   ],
   "source": [
    "dfv4['Online Backup']=np.select([dfv4['Online Backup']=='Yes', dfv4['Online Backup']=='No'], \n",
    "                                   [2, 0], \n",
    "                                   default=1)\n",
    "dfv4.groupby('Online Backup')['Online Backup'].agg('count')"
   ]
  },
  {
   "cell_type": "code",
   "execution_count": 389,
   "id": "5ffdd16a",
   "metadata": {},
   "outputs": [
    {
     "data": {
      "text/plain": [
       "array(['No', 'Yes', 'No internet service', 'N0'], dtype=object)"
      ]
     },
     "execution_count": 389,
     "metadata": {},
     "output_type": "execute_result"
    }
   ],
   "source": [
    "dfv4['Device Protection'].unique()"
   ]
  },
  {
   "cell_type": "code",
   "execution_count": 390,
   "id": "0f85b4e7",
   "metadata": {},
   "outputs": [
    {
     "data": {
      "text/plain": [
       "Device Protection\n",
       "N0                        1\n",
       "No                     2170\n",
       "No internet service    1089\n",
       "Yes                    1723\n",
       "Name: Device Protection, dtype: int64"
      ]
     },
     "execution_count": 390,
     "metadata": {},
     "output_type": "execute_result"
    }
   ],
   "source": [
    "dfv4.groupby('Device Protection')['Device Protection'].agg('count')"
   ]
  },
  {
   "cell_type": "code",
   "execution_count": 391,
   "id": "3a312eff",
   "metadata": {},
   "outputs": [
    {
     "name": "stderr",
     "output_type": "stream",
     "text": [
      "C:\\Users\\sraks\\AppData\\Local\\Temp\\ipykernel_21844\\722281262.py:1: SettingWithCopyWarning: \n",
      "A value is trying to be set on a copy of a slice from a DataFrame.\n",
      "Try using .loc[row_indexer,col_indexer] = value instead\n",
      "\n",
      "See the caveats in the documentation: https://pandas.pydata.org/pandas-docs/stable/user_guide/indexing.html#returning-a-view-versus-a-copy\n",
      "  dfv4['Device Protection']=np.select([dfv4['Device Protection']=='Yes', dfv4['Device Protection']=='No internet service'],\n"
     ]
    },
    {
     "data": {
      "text/plain": [
       "Device Protection\n",
       "0    2171\n",
       "1    1089\n",
       "2    1723\n",
       "Name: Device Protection, dtype: int64"
      ]
     },
     "execution_count": 391,
     "metadata": {},
     "output_type": "execute_result"
    }
   ],
   "source": [
    "dfv4['Device Protection']=np.select([dfv4['Device Protection']=='Yes', dfv4['Device Protection']=='No internet service'], \n",
    "                                   [2, 1], \n",
    "                                   default=0)\n",
    "dfv4.groupby('Device Protection')['Device Protection'].agg('count')"
   ]
  },
  {
   "cell_type": "code",
   "execution_count": 392,
   "id": "11ca20ae",
   "metadata": {},
   "outputs": [
    {
     "data": {
      "text/plain": [
       "array(['No', 'Yes', 'No internet service'], dtype=object)"
      ]
     },
     "execution_count": 392,
     "metadata": {},
     "output_type": "execute_result"
    }
   ],
   "source": [
    "dfv4['Tech Support'].unique()"
   ]
  },
  {
   "cell_type": "code",
   "execution_count": 393,
   "id": "ef840ca7",
   "metadata": {
    "scrolled": true
   },
   "outputs": [
    {
     "data": {
      "text/plain": [
       "Tech Support\n",
       "No                     2473\n",
       "No internet service    1089\n",
       "Yes                    1421\n",
       "Name: Tech Support, dtype: int64"
      ]
     },
     "execution_count": 393,
     "metadata": {},
     "output_type": "execute_result"
    }
   ],
   "source": [
    "dfv4.groupby('Tech Support')['Tech Support'].agg('count')"
   ]
  },
  {
   "cell_type": "code",
   "execution_count": 394,
   "id": "fe20313f",
   "metadata": {},
   "outputs": [
    {
     "name": "stderr",
     "output_type": "stream",
     "text": [
      "C:\\Users\\sraks\\AppData\\Local\\Temp\\ipykernel_21844\\2832822212.py:1: SettingWithCopyWarning: \n",
      "A value is trying to be set on a copy of a slice from a DataFrame.\n",
      "Try using .loc[row_indexer,col_indexer] = value instead\n",
      "\n",
      "See the caveats in the documentation: https://pandas.pydata.org/pandas-docs/stable/user_guide/indexing.html#returning-a-view-versus-a-copy\n",
      "  dfv4['Tech Support']=np.select([dfv4['Tech Support']=='Yes', dfv4['Tech Support']=='No'],\n"
     ]
    },
    {
     "data": {
      "text/plain": [
       "Tech Support\n",
       "0    2473\n",
       "1    1089\n",
       "2    1421\n",
       "Name: Tech Support, dtype: int64"
      ]
     },
     "execution_count": 394,
     "metadata": {},
     "output_type": "execute_result"
    }
   ],
   "source": [
    "dfv4['Tech Support']=np.select([dfv4['Tech Support']=='Yes', dfv4['Tech Support']=='No'], \n",
    "                                   [2, 0], \n",
    "                                   default=1)\n",
    "dfv4.groupby('Tech Support')['Tech Support'].agg('count')"
   ]
  },
  {
   "cell_type": "code",
   "execution_count": 395,
   "id": "ae93ddea",
   "metadata": {
    "scrolled": true
   },
   "outputs": [
    {
     "data": {
      "text/plain": [
       "Streaming TV\n",
       "N0                        1\n",
       "No                     1980\n",
       "No internet service    1088\n",
       "No internetservice        1\n",
       "Yes                    1913\n",
       "Name: Streaming TV, dtype: int64"
      ]
     },
     "execution_count": 395,
     "metadata": {},
     "output_type": "execute_result"
    }
   ],
   "source": [
    "dfv4['Streaming TV'].unique()\n",
    "dfv4.groupby('Streaming TV')['Streaming TV'].agg('count')"
   ]
  },
  {
   "cell_type": "code",
   "execution_count": 396,
   "id": "a893e85a",
   "metadata": {},
   "outputs": [
    {
     "name": "stderr",
     "output_type": "stream",
     "text": [
      "C:\\Users\\sraks\\AppData\\Local\\Temp\\ipykernel_21844\\663273780.py:1: SettingWithCopyWarning: \n",
      "A value is trying to be set on a copy of a slice from a DataFrame.\n",
      "Try using .loc[row_indexer,col_indexer] = value instead\n",
      "\n",
      "See the caveats in the documentation: https://pandas.pydata.org/pandas-docs/stable/user_guide/indexing.html#returning-a-view-versus-a-copy\n",
      "  dfv4['Streaming TV']=np.select([dfv4['Streaming TV']=='Yes', dfv4['Streaming TV']=='No internet service', dfv4['Streaming TV']=='No internetservice'],\n"
     ]
    },
    {
     "data": {
      "text/plain": [
       "Streaming TV\n",
       "0    1981\n",
       "1    1089\n",
       "2    1913\n",
       "Name: Streaming TV, dtype: int64"
      ]
     },
     "execution_count": 396,
     "metadata": {},
     "output_type": "execute_result"
    }
   ],
   "source": [
    "dfv4['Streaming TV']=np.select([dfv4['Streaming TV']=='Yes', dfv4['Streaming TV']=='No internet service', dfv4['Streaming TV']=='No internetservice'], \n",
    "                                   [2, 1, 1], \n",
    "                                   default=0)\n",
    "dfv4.groupby('Streaming TV')['Streaming TV'].agg('count')"
   ]
  },
  {
   "cell_type": "code",
   "execution_count": 397,
   "id": "c467f893",
   "metadata": {},
   "outputs": [
    {
     "data": {
      "text/plain": [
       "Streaming Movies\n",
       "                          1\n",
       "No                     1950\n",
       "No internet service    1088\n",
       "Yes                    1944\n",
       "Name: Streaming Movies, dtype: int64"
      ]
     },
     "execution_count": 397,
     "metadata": {},
     "output_type": "execute_result"
    }
   ],
   "source": [
    "dfv4['Streaming Movies'].unique()\n",
    "dfv4.groupby('Streaming Movies')['Streaming Movies'].agg('count')"
   ]
  },
  {
   "cell_type": "code",
   "execution_count": 398,
   "id": "c55a309c",
   "metadata": {},
   "outputs": [
    {
     "data": {
      "text/plain": [
       "Streaming Movies\n",
       "0    1951\n",
       "1    1088\n",
       "2    1944\n",
       "Name: Streaming Movies, dtype: int64"
      ]
     },
     "execution_count": 398,
     "metadata": {},
     "output_type": "execute_result"
    }
   ],
   "source": [
    "dfv5 = dfv4[dfv4['Streaming Movies']!=' ']\n",
    "dfv5['Streaming Movies']=np.select([dfv5['Streaming Movies']=='Yes', dfv5['Streaming Movies']=='No internet service'], \n",
    "                                   [2, 1], \n",
    "                                   default=0)\n",
    "dfv5.groupby('Streaming Movies')['Streaming Movies'].agg('count')"
   ]
  },
  {
   "cell_type": "code",
   "execution_count": 399,
   "id": "86a02870",
   "metadata": {},
   "outputs": [
    {
     "data": {
      "text/plain": [
       "array(['Month-to-month', 'One year', 'Two year'], dtype=object)"
      ]
     },
     "execution_count": 399,
     "metadata": {},
     "output_type": "execute_result"
    }
   ],
   "source": [
    "dfv5['Contract'].unique()"
   ]
  },
  {
   "cell_type": "code",
   "execution_count": 400,
   "id": "4e3d1ade",
   "metadata": {},
   "outputs": [
    {
     "data": {
      "text/plain": [
       "Contract\n",
       "Month-to-month    2770\n",
       "One year          1027\n",
       "Two year          1186\n",
       "Name: Contract, dtype: int64"
      ]
     },
     "execution_count": 400,
     "metadata": {},
     "output_type": "execute_result"
    }
   ],
   "source": [
    "dfv5.groupby('Contract')['Contract'].agg('count')"
   ]
  },
  {
   "cell_type": "code",
   "execution_count": 401,
   "id": "fdccd5e4",
   "metadata": {},
   "outputs": [
    {
     "data": {
      "text/plain": [
       "Contract\n",
       "0    2770\n",
       "1    1027\n",
       "2    1186\n",
       "Name: Contract, dtype: int64"
      ]
     },
     "execution_count": 401,
     "metadata": {},
     "output_type": "execute_result"
    }
   ],
   "source": [
    "dfv5['Contract']=np.select([dfv5['Contract']=='Month-to-month', dfv5['Contract']=='One year'], \n",
    "                           [0, 1],\n",
    "                           default=2)\n",
    "dfv5.groupby('Contract')['Contract'].agg('count')"
   ]
  },
  {
   "cell_type": "code",
   "execution_count": 402,
   "id": "5d5d4090",
   "metadata": {},
   "outputs": [
    {
     "data": {
      "text/plain": [
       "array(['Yes', 'No'], dtype=object)"
      ]
     },
     "execution_count": 402,
     "metadata": {},
     "output_type": "execute_result"
    }
   ],
   "source": [
    "dfv5['Paperless Billing'].unique()"
   ]
  },
  {
   "cell_type": "code",
   "execution_count": 403,
   "id": "4ef9e74a",
   "metadata": {},
   "outputs": [
    {
     "data": {
      "text/plain": [
       "Paperless Billing\n",
       "No     2039\n",
       "Yes    2944\n",
       "Name: Paperless Billing, dtype: int64"
      ]
     },
     "execution_count": 403,
     "metadata": {},
     "output_type": "execute_result"
    }
   ],
   "source": [
    "dfv5.groupby('Paperless Billing')['Paperless Billing'].agg('count')"
   ]
  },
  {
   "cell_type": "code",
   "execution_count": 404,
   "id": "dd25801b",
   "metadata": {},
   "outputs": [
    {
     "data": {
      "text/plain": [
       "Paperless Billing\n",
       "0    2039\n",
       "1    2944\n",
       "Name: Paperless Billing, dtype: int64"
      ]
     },
     "execution_count": 404,
     "metadata": {},
     "output_type": "execute_result"
    }
   ],
   "source": [
    "dfv5['Paperless Billing']=dfv5['Paperless Billing'].apply(lambda x : 1 if x == 'Yes' else 0)\n",
    "dfv5.groupby('Paperless Billing')['Paperless Billing'].agg('count')"
   ]
  },
  {
   "cell_type": "code",
   "execution_count": 405,
   "id": "ad813914",
   "metadata": {
    "scrolled": true
   },
   "outputs": [
    {
     "data": {
      "text/plain": [
       "array(['Electronic check', 'Mailed check', 'Bank transfer (automatic)',\n",
       "       'Credit card (automatic)'], dtype=object)"
      ]
     },
     "execution_count": 405,
     "metadata": {},
     "output_type": "execute_result"
    }
   ],
   "source": [
    "dfv5['Payment Method'].unique()"
   ]
  },
  {
   "cell_type": "code",
   "execution_count": 406,
   "id": "851eab4d",
   "metadata": {},
   "outputs": [
    {
     "data": {
      "text/plain": [
       "Payment Method\n",
       "Bank transfer (automatic)    1101\n",
       "Credit card (automatic)      1086\n",
       "Electronic check             1667\n",
       "Mailed check                 1129\n",
       "Name: Payment Method, dtype: int64"
      ]
     },
     "execution_count": 406,
     "metadata": {},
     "output_type": "execute_result"
    }
   ],
   "source": [
    "dfv5.groupby('Payment Method')['Payment Method'].agg('count')"
   ]
  },
  {
   "cell_type": "code",
   "execution_count": 407,
   "id": "5e4882a6",
   "metadata": {},
   "outputs": [],
   "source": [
    "dfv5['Payment Method']=np.select([dfv5['Payment Method']=='Bank transfer (automatic)', dfv5['Payment Method']=='Credit card (automatic)', dfv5['Payment Method']=='Electronic check'],\n",
    "                                 [0,1,2],\n",
    "                                 default=3)\n"
   ]
  },
  {
   "cell_type": "code",
   "execution_count": 408,
   "id": "4402c642",
   "metadata": {},
   "outputs": [
    {
     "data": {
      "text/plain": [
       "Payment Method\n",
       "0    1101\n",
       "1    1086\n",
       "2    1667\n",
       "3    1129\n",
       "Name: Payment Method, dtype: int64"
      ]
     },
     "execution_count": 408,
     "metadata": {},
     "output_type": "execute_result"
    }
   ],
   "source": [
    "dfv5.groupby('Payment Method')['Payment Method'].agg('count')"
   ]
  },
  {
   "cell_type": "code",
   "execution_count": 409,
   "id": "610699b9",
   "metadata": {
    "scrolled": true
   },
   "outputs": [
    {
     "data": {
      "text/plain": [
       "array(['No', 'Yes'], dtype=object)"
      ]
     },
     "execution_count": 409,
     "metadata": {},
     "output_type": "execute_result"
    }
   ],
   "source": [
    "dfv5.Churn.unique()"
   ]
  },
  {
   "cell_type": "code",
   "execution_count": 410,
   "id": "0aa2f1d9",
   "metadata": {},
   "outputs": [
    {
     "data": {
      "text/plain": [
       "Churn\n",
       "No     3672\n",
       "Yes    1311\n",
       "Name: Churn, dtype: int64"
      ]
     },
     "execution_count": 410,
     "metadata": {},
     "output_type": "execute_result"
    }
   ],
   "source": [
    "dfv5.groupby('Churn')['Churn'].agg('count')"
   ]
  },
  {
   "cell_type": "code",
   "execution_count": 411,
   "id": "ecae3c19",
   "metadata": {},
   "outputs": [
    {
     "data": {
      "text/plain": [
       "Churn\n",
       "0    3672\n",
       "1    1311\n",
       "Name: Churn, dtype: int64"
      ]
     },
     "execution_count": 411,
     "metadata": {},
     "output_type": "execute_result"
    }
   ],
   "source": [
    "dfv5.Churn=dfv5.Churn.apply(lambda x : 1 if x == 'Yes' else 0)\n",
    "dfv5.groupby('Churn')['Churn'].agg('count')"
   ]
  },
  {
   "cell_type": "code",
   "execution_count": 412,
   "id": "4cf94441",
   "metadata": {},
   "outputs": [
    {
     "data": {
      "text/html": [
       "<div>\n",
       "<style scoped>\n",
       "    .dataframe tbody tr th:only-of-type {\n",
       "        vertical-align: middle;\n",
       "    }\n",
       "\n",
       "    .dataframe tbody tr th {\n",
       "        vertical-align: top;\n",
       "    }\n",
       "\n",
       "    .dataframe thead th {\n",
       "        text-align: right;\n",
       "    }\n",
       "</style>\n",
       "<table border=\"1\" class=\"dataframe\">\n",
       "  <thead>\n",
       "    <tr style=\"text-align: right;\">\n",
       "      <th></th>\n",
       "      <th>Gender</th>\n",
       "      <th>Senior Citizen</th>\n",
       "      <th>Partner</th>\n",
       "      <th>Dependents</th>\n",
       "      <th>tenure</th>\n",
       "      <th>Phone Service</th>\n",
       "      <th>Multiple Lines</th>\n",
       "      <th>Internet Service</th>\n",
       "      <th>Online Security</th>\n",
       "      <th>Online Backup</th>\n",
       "      <th>Device Protection</th>\n",
       "      <th>Tech Support</th>\n",
       "      <th>Streaming TV</th>\n",
       "      <th>Streaming Movies</th>\n",
       "      <th>Contract</th>\n",
       "      <th>Paperless Billing</th>\n",
       "      <th>Payment Method</th>\n",
       "      <th>Monthly Charges</th>\n",
       "      <th>Total Charges</th>\n",
       "      <th>Churn</th>\n",
       "    </tr>\n",
       "  </thead>\n",
       "  <tbody>\n",
       "    <tr>\n",
       "      <th>0</th>\n",
       "      <td>0</td>\n",
       "      <td>0</td>\n",
       "      <td>1</td>\n",
       "      <td>0</td>\n",
       "      <td>1.0</td>\n",
       "      <td>0</td>\n",
       "      <td>1</td>\n",
       "      <td>1</td>\n",
       "      <td>0</td>\n",
       "      <td>2</td>\n",
       "      <td>0</td>\n",
       "      <td>0</td>\n",
       "      <td>0</td>\n",
       "      <td>0</td>\n",
       "      <td>0</td>\n",
       "      <td>1</td>\n",
       "      <td>2</td>\n",
       "      <td>29.85</td>\n",
       "      <td>29.85</td>\n",
       "      <td>0</td>\n",
       "    </tr>\n",
       "    <tr>\n",
       "      <th>1</th>\n",
       "      <td>0</td>\n",
       "      <td>0</td>\n",
       "      <td>1</td>\n",
       "      <td>0</td>\n",
       "      <td>1.0</td>\n",
       "      <td>0</td>\n",
       "      <td>1</td>\n",
       "      <td>1</td>\n",
       "      <td>0</td>\n",
       "      <td>2</td>\n",
       "      <td>0</td>\n",
       "      <td>0</td>\n",
       "      <td>0</td>\n",
       "      <td>0</td>\n",
       "      <td>0</td>\n",
       "      <td>1</td>\n",
       "      <td>2</td>\n",
       "      <td>29.85</td>\n",
       "      <td>29.85</td>\n",
       "      <td>0</td>\n",
       "    </tr>\n",
       "    <tr>\n",
       "      <th>2</th>\n",
       "      <td>1</td>\n",
       "      <td>0</td>\n",
       "      <td>0</td>\n",
       "      <td>0</td>\n",
       "      <td>34.0</td>\n",
       "      <td>1</td>\n",
       "      <td>0</td>\n",
       "      <td>1</td>\n",
       "      <td>2</td>\n",
       "      <td>0</td>\n",
       "      <td>2</td>\n",
       "      <td>0</td>\n",
       "      <td>0</td>\n",
       "      <td>0</td>\n",
       "      <td>1</td>\n",
       "      <td>0</td>\n",
       "      <td>3</td>\n",
       "      <td>56.95</td>\n",
       "      <td>1889.50</td>\n",
       "      <td>0</td>\n",
       "    </tr>\n",
       "    <tr>\n",
       "      <th>3</th>\n",
       "      <td>1</td>\n",
       "      <td>0</td>\n",
       "      <td>0</td>\n",
       "      <td>0</td>\n",
       "      <td>2.0</td>\n",
       "      <td>1</td>\n",
       "      <td>0</td>\n",
       "      <td>1</td>\n",
       "      <td>2</td>\n",
       "      <td>2</td>\n",
       "      <td>0</td>\n",
       "      <td>0</td>\n",
       "      <td>0</td>\n",
       "      <td>0</td>\n",
       "      <td>0</td>\n",
       "      <td>1</td>\n",
       "      <td>3</td>\n",
       "      <td>53.85</td>\n",
       "      <td>108.15</td>\n",
       "      <td>1</td>\n",
       "    </tr>\n",
       "    <tr>\n",
       "      <th>4</th>\n",
       "      <td>1</td>\n",
       "      <td>0</td>\n",
       "      <td>0</td>\n",
       "      <td>0</td>\n",
       "      <td>45.0</td>\n",
       "      <td>0</td>\n",
       "      <td>1</td>\n",
       "      <td>1</td>\n",
       "      <td>2</td>\n",
       "      <td>0</td>\n",
       "      <td>2</td>\n",
       "      <td>2</td>\n",
       "      <td>0</td>\n",
       "      <td>0</td>\n",
       "      <td>1</td>\n",
       "      <td>0</td>\n",
       "      <td>0</td>\n",
       "      <td>42.3</td>\n",
       "      <td>1840.75</td>\n",
       "      <td>0</td>\n",
       "    </tr>\n",
       "    <tr>\n",
       "      <th>...</th>\n",
       "      <td>...</td>\n",
       "      <td>...</td>\n",
       "      <td>...</td>\n",
       "      <td>...</td>\n",
       "      <td>...</td>\n",
       "      <td>...</td>\n",
       "      <td>...</td>\n",
       "      <td>...</td>\n",
       "      <td>...</td>\n",
       "      <td>...</td>\n",
       "      <td>...</td>\n",
       "      <td>...</td>\n",
       "      <td>...</td>\n",
       "      <td>...</td>\n",
       "      <td>...</td>\n",
       "      <td>...</td>\n",
       "      <td>...</td>\n",
       "      <td>...</td>\n",
       "      <td>...</td>\n",
       "      <td>...</td>\n",
       "    </tr>\n",
       "    <tr>\n",
       "      <th>4993</th>\n",
       "      <td>1</td>\n",
       "      <td>0</td>\n",
       "      <td>1</td>\n",
       "      <td>0</td>\n",
       "      <td>51.0</td>\n",
       "      <td>0</td>\n",
       "      <td>1</td>\n",
       "      <td>1</td>\n",
       "      <td>0</td>\n",
       "      <td>2</td>\n",
       "      <td>0</td>\n",
       "      <td>0</td>\n",
       "      <td>0</td>\n",
       "      <td>0</td>\n",
       "      <td>0</td>\n",
       "      <td>1</td>\n",
       "      <td>1</td>\n",
       "      <td>30.05</td>\n",
       "      <td>1529.45</td>\n",
       "      <td>0</td>\n",
       "    </tr>\n",
       "    <tr>\n",
       "      <th>4994</th>\n",
       "      <td>1</td>\n",
       "      <td>0</td>\n",
       "      <td>1</td>\n",
       "      <td>1</td>\n",
       "      <td>72.0</td>\n",
       "      <td>0</td>\n",
       "      <td>1</td>\n",
       "      <td>1</td>\n",
       "      <td>2</td>\n",
       "      <td>2</td>\n",
       "      <td>2</td>\n",
       "      <td>2</td>\n",
       "      <td>2</td>\n",
       "      <td>2</td>\n",
       "      <td>2</td>\n",
       "      <td>1</td>\n",
       "      <td>0</td>\n",
       "      <td>65.65</td>\n",
       "      <td>4664.50</td>\n",
       "      <td>0</td>\n",
       "    </tr>\n",
       "    <tr>\n",
       "      <th>4995</th>\n",
       "      <td>0</td>\n",
       "      <td>0</td>\n",
       "      <td>0</td>\n",
       "      <td>0</td>\n",
       "      <td>18.0</td>\n",
       "      <td>1</td>\n",
       "      <td>0</td>\n",
       "      <td>2</td>\n",
       "      <td>2</td>\n",
       "      <td>0</td>\n",
       "      <td>0</td>\n",
       "      <td>0</td>\n",
       "      <td>2</td>\n",
       "      <td>2</td>\n",
       "      <td>0</td>\n",
       "      <td>1</td>\n",
       "      <td>2</td>\n",
       "      <td>96.05</td>\n",
       "      <td>1740.70</td>\n",
       "      <td>1</td>\n",
       "    </tr>\n",
       "    <tr>\n",
       "      <th>4996</th>\n",
       "      <td>0</td>\n",
       "      <td>0</td>\n",
       "      <td>0</td>\n",
       "      <td>0</td>\n",
       "      <td>7.0</td>\n",
       "      <td>1</td>\n",
       "      <td>2</td>\n",
       "      <td>2</td>\n",
       "      <td>0</td>\n",
       "      <td>0</td>\n",
       "      <td>0</td>\n",
       "      <td>0</td>\n",
       "      <td>0</td>\n",
       "      <td>0</td>\n",
       "      <td>0</td>\n",
       "      <td>1</td>\n",
       "      <td>0</td>\n",
       "      <td>75.1</td>\n",
       "      <td>552.95</td>\n",
       "      <td>1</td>\n",
       "    </tr>\n",
       "    <tr>\n",
       "      <th>4997</th>\n",
       "      <td>0</td>\n",
       "      <td>0</td>\n",
       "      <td>0</td>\n",
       "      <td>0</td>\n",
       "      <td>47.0</td>\n",
       "      <td>1</td>\n",
       "      <td>2</td>\n",
       "      <td>1</td>\n",
       "      <td>2</td>\n",
       "      <td>2</td>\n",
       "      <td>0</td>\n",
       "      <td>2</td>\n",
       "      <td>0</td>\n",
       "      <td>2</td>\n",
       "      <td>2</td>\n",
       "      <td>0</td>\n",
       "      <td>3</td>\n",
       "      <td>74.05</td>\n",
       "      <td>3496.30</td>\n",
       "      <td>0</td>\n",
       "    </tr>\n",
       "  </tbody>\n",
       "</table>\n",
       "<p>4983 rows × 20 columns</p>\n",
       "</div>"
      ],
      "text/plain": [
       "      Gender  Senior Citizen  Partner  Dependents  tenure  Phone Service  \\\n",
       "0          0               0        1           0     1.0              0   \n",
       "1          0               0        1           0     1.0              0   \n",
       "2          1               0        0           0    34.0              1   \n",
       "3          1               0        0           0     2.0              1   \n",
       "4          1               0        0           0    45.0              0   \n",
       "...      ...             ...      ...         ...     ...            ...   \n",
       "4993       1               0        1           0    51.0              0   \n",
       "4994       1               0        1           1    72.0              0   \n",
       "4995       0               0        0           0    18.0              1   \n",
       "4996       0               0        0           0     7.0              1   \n",
       "4997       0               0        0           0    47.0              1   \n",
       "\n",
       "      Multiple Lines  Internet Service  Online Security  Online Backup  \\\n",
       "0                  1                 1                0              2   \n",
       "1                  1                 1                0              2   \n",
       "2                  0                 1                2              0   \n",
       "3                  0                 1                2              2   \n",
       "4                  1                 1                2              0   \n",
       "...              ...               ...              ...            ...   \n",
       "4993               1                 1                0              2   \n",
       "4994               1                 1                2              2   \n",
       "4995               0                 2                2              0   \n",
       "4996               2                 2                0              0   \n",
       "4997               2                 1                2              2   \n",
       "\n",
       "      Device Protection  Tech Support  Streaming TV  Streaming Movies  \\\n",
       "0                     0             0             0                 0   \n",
       "1                     0             0             0                 0   \n",
       "2                     2             0             0                 0   \n",
       "3                     0             0             0                 0   \n",
       "4                     2             2             0                 0   \n",
       "...                 ...           ...           ...               ...   \n",
       "4993                  0             0             0                 0   \n",
       "4994                  2             2             2                 2   \n",
       "4995                  0             0             2                 2   \n",
       "4996                  0             0             0                 0   \n",
       "4997                  0             2             0                 2   \n",
       "\n",
       "      Contract  Paperless Billing  Payment Method Monthly Charges  \\\n",
       "0            0                  1               2           29.85   \n",
       "1            0                  1               2           29.85   \n",
       "2            1                  0               3           56.95   \n",
       "3            0                  1               3           53.85   \n",
       "4            1                  0               0            42.3   \n",
       "...        ...                ...             ...             ...   \n",
       "4993         0                  1               1           30.05   \n",
       "4994         2                  1               0           65.65   \n",
       "4995         0                  1               2           96.05   \n",
       "4996         0                  1               0            75.1   \n",
       "4997         2                  0               3           74.05   \n",
       "\n",
       "      Total Charges  Churn  \n",
       "0             29.85      0  \n",
       "1             29.85      0  \n",
       "2           1889.50      0  \n",
       "3            108.15      1  \n",
       "4           1840.75      0  \n",
       "...             ...    ...  \n",
       "4993        1529.45      0  \n",
       "4994        4664.50      0  \n",
       "4995        1740.70      1  \n",
       "4996         552.95      1  \n",
       "4997        3496.30      0  \n",
       "\n",
       "[4983 rows x 20 columns]"
      ]
     },
     "execution_count": 412,
     "metadata": {},
     "output_type": "execute_result"
    }
   ],
   "source": [
    "dfv5"
   ]
  },
  {
   "cell_type": "markdown",
   "id": "6a5c6fbc",
   "metadata": {},
   "source": [
    "is_float function converts the datapoints to float values."
   ]
  },
  {
   "cell_type": "code",
   "execution_count": 413,
   "id": "03febddd",
   "metadata": {
    "scrolled": true
   },
   "outputs": [
    {
     "data": {
      "text/html": [
       "<div>\n",
       "<style scoped>\n",
       "    .dataframe tbody tr th:only-of-type {\n",
       "        vertical-align: middle;\n",
       "    }\n",
       "\n",
       "    .dataframe tbody tr th {\n",
       "        vertical-align: top;\n",
       "    }\n",
       "\n",
       "    .dataframe thead th {\n",
       "        text-align: right;\n",
       "    }\n",
       "</style>\n",
       "<table border=\"1\" class=\"dataframe\">\n",
       "  <thead>\n",
       "    <tr style=\"text-align: right;\">\n",
       "      <th></th>\n",
       "      <th>Gender</th>\n",
       "      <th>Senior Citizen</th>\n",
       "      <th>Partner</th>\n",
       "      <th>Dependents</th>\n",
       "      <th>tenure</th>\n",
       "      <th>Phone Service</th>\n",
       "      <th>Multiple Lines</th>\n",
       "      <th>Internet Service</th>\n",
       "      <th>Online Security</th>\n",
       "      <th>Online Backup</th>\n",
       "      <th>Device Protection</th>\n",
       "      <th>Tech Support</th>\n",
       "      <th>Streaming TV</th>\n",
       "      <th>Streaming Movies</th>\n",
       "      <th>Contract</th>\n",
       "      <th>Paperless Billing</th>\n",
       "      <th>Payment Method</th>\n",
       "      <th>Monthly Charges</th>\n",
       "      <th>Total Charges</th>\n",
       "      <th>Churn</th>\n",
       "    </tr>\n",
       "  </thead>\n",
       "  <tbody>\n",
       "    <tr>\n",
       "      <th>4774</th>\n",
       "      <td>1</td>\n",
       "      <td>0</td>\n",
       "      <td>0</td>\n",
       "      <td>0</td>\n",
       "      <td>44.0</td>\n",
       "      <td>0</td>\n",
       "      <td>1</td>\n",
       "      <td>1</td>\n",
       "      <td>0</td>\n",
       "      <td>2</td>\n",
       "      <td>2</td>\n",
       "      <td>0</td>\n",
       "      <td>2</td>\n",
       "      <td>2</td>\n",
       "      <td>1</td>\n",
       "      <td>1</td>\n",
       "      <td>3</td>\n",
       "      <td>53,95</td>\n",
       "      <td>2375.4</td>\n",
       "      <td>1</td>\n",
       "    </tr>\n",
       "  </tbody>\n",
       "</table>\n",
       "</div>"
      ],
      "text/plain": [
       "      Gender  Senior Citizen  Partner  Dependents  tenure  Phone Service  \\\n",
       "4774       1               0        0           0    44.0              0   \n",
       "\n",
       "      Multiple Lines  Internet Service  Online Security  Online Backup  \\\n",
       "4774               1                 1                0              2   \n",
       "\n",
       "      Device Protection  Tech Support  Streaming TV  Streaming Movies  \\\n",
       "4774                  2             0             2                 2   \n",
       "\n",
       "      Contract  Paperless Billing  Payment Method Monthly Charges  \\\n",
       "4774         1                  1               3           53,95   \n",
       "\n",
       "      Total Charges  Churn  \n",
       "4774         2375.4      1  "
      ]
     },
     "execution_count": 413,
     "metadata": {},
     "output_type": "execute_result"
    }
   ],
   "source": [
    "def is_float(x):\n",
    "    try:\n",
    "        float(x)\n",
    "    except:\n",
    "        return False\n",
    "    return True\n",
    "\n",
    "#prints the dataframe containing the datapoints other than float in Monthly Charges.\n",
    "dfv5[~dfv5['Monthly Charges'].apply(is_float)]\n"
   ]
  },
  {
   "cell_type": "code",
   "execution_count": 414,
   "id": "c9c1ff00",
   "metadata": {},
   "outputs": [
    {
     "name": "stderr",
     "output_type": "stream",
     "text": [
      "C:\\Users\\sraks\\AppData\\Local\\Temp\\ipykernel_21844\\3906737598.py:2: SettingWithCopyWarning: \n",
      "A value is trying to be set on a copy of a slice from a DataFrame\n",
      "\n",
      "See the caveats in the documentation: https://pandas.pydata.org/pandas-docs/stable/user_guide/indexing.html#returning-a-view-versus-a-copy\n",
      "  dfv5['Monthly Charges'].loc[4774]=53.95\n"
     ]
    },
    {
     "data": {
      "text/plain": [
       "53.95"
      ]
     },
     "execution_count": 414,
     "metadata": {},
     "output_type": "execute_result"
    }
   ],
   "source": [
    "#Replace the string value 53,95 by 53.95\n",
    "dfv5['Monthly Charges'].loc[4774]=53.95\n",
    "dfv5['Monthly Charges'].loc[4774]"
   ]
  },
  {
   "cell_type": "markdown",
   "id": "701689ff",
   "metadata": {},
   "source": [
    "Plot a scatter plot"
   ]
  },
  {
   "cell_type": "code",
   "execution_count": 417,
   "id": "48aaaeea",
   "metadata": {},
   "outputs": [
    {
     "data": {
      "text/plain": [
       "['Gender',\n",
       " 'Senior Citizen',\n",
       " 'Partner',\n",
       " 'Dependents',\n",
       " 'tenure',\n",
       " 'Phone Service',\n",
       " 'Multiple Lines',\n",
       " 'Internet Service',\n",
       " 'Online Security',\n",
       " 'Online Backup',\n",
       " 'Device Protection',\n",
       " 'Tech Support',\n",
       " 'Streaming TV',\n",
       " 'Streaming Movies',\n",
       " 'Contract',\n",
       " 'Paperless Billing',\n",
       " 'Payment Method',\n",
       " 'Monthly Charges',\n",
       " 'Churn']"
      ]
     },
     "execution_count": 417,
     "metadata": {},
     "output_type": "execute_result"
    }
   ],
   "source": [
    "import matplotlib.pyplot as plt\n",
    "%matplotlib inline\n",
    "cn = list(dfv5.columns)\n",
    "cn\n",
    "remove = [-2]\n",
    "for i in remove:\n",
    "    cn.pop(i)  \n",
    "cn"
   ]
  },
  {
   "cell_type": "code",
   "execution_count": 418,
   "id": "94beb16c",
   "metadata": {},
   "outputs": [
    {
     "data": {
      "image/png": "[encoded data removed]",
      "text/plain": [
       "<Figure size 640x480 with 1 Axes>"
      ]
     },
     "metadata": {},
     "output_type": "display_data"
    }
   ],
   "source": [
    "dfv5['Monthly Charges']=dfv5['Monthly Charges'].astype(float)\n",
    "d = dfv5.copy()\n",
    "d = d.astype(int)\n",
    "for i in cn:\n",
    "    plt.scatter(d[i], d['Total Charges'])"
   ]
  },
  {
   "cell_type": "code",
   "execution_count": 419,
   "id": "5a6a7850",
   "metadata": {},
   "outputs": [
    {
     "data": {
      "text/plain": [
       "Gender                 int64\n",
       "Senior Citizen         int64\n",
       "Partner                int64\n",
       "Dependents             int64\n",
       "tenure               float64\n",
       "Phone Service          int64\n",
       "Multiple Lines         int32\n",
       "Internet Service       int32\n",
       "Online Security        int32\n",
       "Online Backup          int32\n",
       "Device Protection      int32\n",
       "Tech Support           int32\n",
       "Streaming TV           int32\n",
       "Streaming Movies       int32\n",
       "Contract               int32\n",
       "Paperless Billing      int64\n",
       "Payment Method         int32\n",
       "Monthly Charges      float64\n",
       "Total Charges        float64\n",
       "Churn                  int64\n",
       "dtype: object"
      ]
     },
     "execution_count": 419,
     "metadata": {},
     "output_type": "execute_result"
    }
   ],
   "source": [
    "dfv5.dtypes"
   ]
  },
  {
   "cell_type": "markdown",
   "id": "feb78a05",
   "metadata": {},
   "source": [
    "### Split the data set into Training set and Testing set."
   ]
  },
  {
   "cell_type": "code",
   "execution_count": 420,
   "id": "9172e08e",
   "metadata": {},
   "outputs": [
    {
     "data": {
      "text/plain": [
       "(3986, 997)"
      ]
     },
     "execution_count": 420,
     "metadata": {},
     "output_type": "execute_result"
    }
   ],
   "source": [
    "from sklearn.model_selection import train_test_split\n",
    "x_train, x_test, y_train, y_test = train_test_split(dfv5.drop(['Total Charges'], axis = \"columns\"), dfv5['Total Charges'], test_size=0.2)\n",
    "len(x_train), len(x_test)"
   ]
  },
  {
   "cell_type": "markdown",
   "id": "847f51b2",
   "metadata": {},
   "source": [
    "## Model Building"
   ]
  },
  {
   "cell_type": "markdown",
   "id": "28163263",
   "metadata": {},
   "source": [
    "### Training the model using Linear Regressin"
   ]
  },
  {
   "cell_type": "code",
   "execution_count": 434,
   "id": "39f629a3",
   "metadata": {},
   "outputs": [
    {
     "data": {
      "text/plain": [
       "(0.9063399425538057, 0.9030955187656609)"
      ]
     },
     "execution_count": 434,
     "metadata": {},
     "output_type": "execute_result"
    }
   ],
   "source": [
    "from sklearn.linear_model import LinearRegression\n",
    "lmodel = LinearRegression()\n",
    "lmodel.fit(x_train, y_train)\n",
    "lmodel.score(x_train, y_train) , lmodel.score(x_test, y_test)"
   ]
  },
  {
   "cell_type": "markdown",
   "id": "8b187880",
   "metadata": {},
   "source": [
    "KFolad cross validation"
   ]
  },
  {
   "cell_type": "code",
   "execution_count": 435,
   "id": "cee56983",
   "metadata": {},
   "outputs": [
    {
     "data": {
      "text/plain": [
       "0.9047024748648257"
      ]
     },
     "execution_count": 435,
     "metadata": {},
     "output_type": "execute_result"
    }
   ],
   "source": [
    "from sklearn.model_selection import cross_val_score\n",
    "scores = cross_val_score(lmodel, dfv5.drop(['Total Charges'], axis = \"columns\"), dfv5['Total Charges'], cv = 5)\n",
    "avy_score = np.average(scores)\n",
    "avy_score"
   ]
  },
  {
   "cell_type": "markdown",
   "id": "7ec91922",
   "metadata": {},
   "source": [
    "### Training the model using Lesso Regularization (L1 Regularization)"
   ]
  },
  {
   "cell_type": "code",
   "execution_count": 436,
   "id": "76c30787",
   "metadata": {},
   "outputs": [
    {
     "data": {
      "text/plain": [
       "(0.9023416021064542, 0.9010376724745339)"
      ]
     },
     "execution_count": 436,
     "metadata": {},
     "output_type": "execute_result"
    }
   ],
   "source": [
    "from sklearn.linear_model import Lasso\n",
    "lreg = Lasso(alpha=40, max_iter = 100, tol = 0.1)\n",
    "lreg.fit(x_train, y_train)\n",
    "lreg.score(x_train, y_train), lreg.score(x_test, y_test)"
   ]
  },
  {
   "cell_type": "markdown",
   "id": "c8eb853f",
   "metadata": {},
   "source": [
    "KFold cross validation"
   ]
  },
  {
   "cell_type": "code",
   "execution_count": 437,
   "id": "d4bda299",
   "metadata": {},
   "outputs": [
    {
     "data": {
      "text/plain": [
       "0.9010019137943024"
      ]
     },
     "execution_count": 437,
     "metadata": {},
     "output_type": "execute_result"
    }
   ],
   "source": [
    "scores = cross_val_score(lreg, dfv5.drop(['Total Charges'], axis = \"columns\"), dfv5['Total Charges'], cv = 5)\n",
    "avy_score = np.average(scores)\n",
    "avy_score"
   ]
  },
  {
   "cell_type": "markdown",
   "id": "9e0b0405",
   "metadata": {},
   "source": [
    "### Training the model using Ridge Regression (L2 Regularization)"
   ]
  },
  {
   "cell_type": "code",
   "execution_count": 438,
   "id": "d03c418a",
   "metadata": {},
   "outputs": [
    {
     "data": {
      "text/plain": [
       "(0.9063203859555397, 0.9031024354195708)"
      ]
     },
     "execution_count": 438,
     "metadata": {},
     "output_type": "execute_result"
    }
   ],
   "source": [
    "from sklearn.linear_model import Ridge\n",
    "rreg = Ridge(alpha=40, max_iter = 100, tol = 0.1)\n",
    "rreg.fit(x_train, y_train)\n",
    "rreg.score(x_train, y_train), rreg.score(x_test, y_test)"
   ]
  },
  {
   "cell_type": "markdown",
   "id": "d8ac443d",
   "metadata": {},
   "source": [
    "KFold cross validation"
   ]
  },
  {
   "cell_type": "code",
   "execution_count": 439,
   "id": "06f9c953",
   "metadata": {},
   "outputs": [
    {
     "data": {
      "text/plain": [
       "0.9047074064066427"
      ]
     },
     "execution_count": 439,
     "metadata": {},
     "output_type": "execute_result"
    }
   ],
   "source": [
    "scores = cross_val_score(rreg, dfv5.drop(['Total Charges'], axis = \"columns\"), dfv5['Total Charges'], cv = 5)\n",
    "avy_score = np.average(scores)\n",
    "avy_score"
   ]
  },
  {
   "cell_type": "markdown",
   "id": "e09358ae",
   "metadata": {},
   "source": [
    "### Training the model using Decision Tree Regressor"
   ]
  },
  {
   "cell_type": "code",
   "execution_count": 440,
   "id": "3691688d",
   "metadata": {},
   "outputs": [
    {
     "data": {
      "text/plain": [
       "(0.9999992177267596, 0.9030955187656609)"
      ]
     },
     "execution_count": 440,
     "metadata": {},
     "output_type": "execute_result"
    }
   ],
   "source": [
    "from sklearn.tree import DecisionTreeRegressor\n",
    "dmodel = DecisionTreeRegressor()\n",
    "dmodel.fit(x_train, y_train)\n",
    "dmodel.score(x_train, y_train) , lmodel.score(x_test, y_test)"
   ]
  },
  {
   "cell_type": "markdown",
   "id": "886850ac",
   "metadata": {},
   "source": [
    "KFold cross validation"
   ]
  },
  {
   "cell_type": "code",
   "execution_count": 441,
   "id": "df0cf50b",
   "metadata": {},
   "outputs": [
    {
     "data": {
      "text/plain": [
       "0.9968514370859515"
      ]
     },
     "execution_count": 441,
     "metadata": {},
     "output_type": "execute_result"
    }
   ],
   "source": [
    "scores = cross_val_score(dmodel, dfv5.drop(['Total Charges'], axis = \"columns\"), dfv5['Total Charges'], cv = 5)\n",
    "avy_score = np.average(scores)\n",
    "avy_score"
   ]
  },
  {
   "cell_type": "markdown",
   "id": "c9a33735",
   "metadata": {},
   "source": [
    "### Training the model using Random Forest Regressor"
   ]
  },
  {
   "cell_type": "code",
   "execution_count": 449,
   "id": "118df62e",
   "metadata": {},
   "outputs": [
    {
     "data": {
      "text/plain": [
       "(0.9997061391389502, 0.9985050195932801)"
      ]
     },
     "execution_count": 449,
     "metadata": {},
     "output_type": "execute_result"
    }
   ],
   "source": [
    "from sklearn.ensemble import RandomForestRegressor\n",
    "rmodel = RandomForestRegressor(n_estimators = 10)\n",
    "rmodel.fit(x_train, y_train)\n",
    "rmodel.score(x_train, y_train) , rmodel.score(x_test, y_test)"
   ]
  },
  {
   "cell_type": "markdown",
   "id": "ae6bd1ab",
   "metadata": {},
   "source": [
    "KFold cross validation"
   ]
  },
  {
   "cell_type": "code",
   "execution_count": 450,
   "id": "9c0bb751",
   "metadata": {},
   "outputs": [
    {
     "data": {
      "text/plain": [
       "0.9984613688383714"
      ]
     },
     "execution_count": 450,
     "metadata": {},
     "output_type": "execute_result"
    }
   ],
   "source": [
    "scores = cross_val_score(rmodel, dfv5.drop(['Total Charges'], axis = \"columns\"), dfv5['Total Charges'], cv = 5)\n",
    "avy_score = np.average(scores)\n",
    "avy_score"
   ]
  },
  {
   "cell_type": "code",
   "execution_count": null,
   "id": "18ffdde9",
   "metadata": {},
   "outputs": [],
   "source": []
  }
 ],
 "metadata": {
  "kernelspec": {
   "display_name": "Python 3 (ipykernel)",
   "language": "python",
   "name": "python3"
  },
  "language_info": {
   "codemirror_mode": {
    "name": "ipython",
    "version": 3
   },
   "file_extension": ".py",
   "mimetype": "text/x-python",
   "name": "python",
   "nbconvert_exporter": "python",
   "pygments_lexer": "ipython3",
   "version": "3.11.5"
  }
 },
 "nbformat": 4,
 "nbformat_minor": 5
}
