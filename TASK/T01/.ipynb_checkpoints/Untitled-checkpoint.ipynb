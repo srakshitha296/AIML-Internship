{
 "cells": [
  {
   "cell_type": "code",
   "execution_count": 787,
   "id": "c370a210",
   "metadata": {},
   "outputs": [],
   "source": [
    "#import libraries\n",
    "import pandas as pd\n",
    "import numpy as np"
   ]
  },
  {
   "cell_type": "code",
   "execution_count": 788,
   "id": "1e5b85df",
   "metadata": {
    "scrolled": false
   },
   "outputs": [
    {
     "data": {
      "text/html": [
       "<div>\n",
       "<style scoped>\n",
       "    .dataframe tbody tr th:only-of-type {\n",
       "        vertical-align: middle;\n",
       "    }\n",
       "\n",
       "    .dataframe tbody tr th {\n",
       "        vertical-align: top;\n",
       "    }\n",
       "\n",
       "    .dataframe thead th {\n",
       "        text-align: right;\n",
       "    }\n",
       "</style>\n",
       "<table border=\"1\" class=\"dataframe\">\n",
       "  <thead>\n",
       "    <tr style=\"text-align: right;\">\n",
       "      <th></th>\n",
       "      <th>Customer ID</th>\n",
       "      <th>Country</th>\n",
       "      <th>State</th>\n",
       "      <th>Postal Code</th>\n",
       "      <th>Gender</th>\n",
       "      <th>Senior Citizen</th>\n",
       "      <th>Partner</th>\n",
       "      <th>Dependents</th>\n",
       "      <th>tenure</th>\n",
       "      <th>Phone Service</th>\n",
       "      <th>...</th>\n",
       "      <th>Device Protection</th>\n",
       "      <th>Tech Support</th>\n",
       "      <th>Streaming TV</th>\n",
       "      <th>Streaming Movies</th>\n",
       "      <th>Contract</th>\n",
       "      <th>Paperless Billing</th>\n",
       "      <th>Payment Method</th>\n",
       "      <th>Monthly Charges</th>\n",
       "      <th>Total Charges</th>\n",
       "      <th>Churn</th>\n",
       "    </tr>\n",
       "  </thead>\n",
       "  <tbody>\n",
       "    <tr>\n",
       "      <th>0</th>\n",
       "      <td>7590-VHVEA</td>\n",
       "      <td>Australia</td>\n",
       "      <td>New South Wales</td>\n",
       "      <td>2000</td>\n",
       "      <td>Female</td>\n",
       "      <td>0</td>\n",
       "      <td>Yes</td>\n",
       "      <td>No</td>\n",
       "      <td>1.0</td>\n",
       "      <td>No</td>\n",
       "      <td>...</td>\n",
       "      <td>No</td>\n",
       "      <td>No</td>\n",
       "      <td>No</td>\n",
       "      <td>No</td>\n",
       "      <td>Month-to-month</td>\n",
       "      <td>Yes</td>\n",
       "      <td>Electronic check</td>\n",
       "      <td>29.85</td>\n",
       "      <td>29.85</td>\n",
       "      <td>No</td>\n",
       "    </tr>\n",
       "    <tr>\n",
       "      <th>1</th>\n",
       "      <td>7590-VHVEG</td>\n",
       "      <td>Australia</td>\n",
       "      <td>New South Wales</td>\n",
       "      <td>2035</td>\n",
       "      <td>Female</td>\n",
       "      <td>0</td>\n",
       "      <td>Yes</td>\n",
       "      <td>No</td>\n",
       "      <td>1.0</td>\n",
       "      <td>No</td>\n",
       "      <td>...</td>\n",
       "      <td>No</td>\n",
       "      <td>No</td>\n",
       "      <td>No</td>\n",
       "      <td>No</td>\n",
       "      <td>Month-to-month</td>\n",
       "      <td>Yes</td>\n",
       "      <td>Electronic check</td>\n",
       "      <td>29.85</td>\n",
       "      <td>29.85</td>\n",
       "      <td>No</td>\n",
       "    </tr>\n",
       "    <tr>\n",
       "      <th>2</th>\n",
       "      <td>5575-GNVDE</td>\n",
       "      <td>Australia</td>\n",
       "      <td>New South Wales</td>\n",
       "      <td>2014</td>\n",
       "      <td>Male</td>\n",
       "      <td>0</td>\n",
       "      <td>No</td>\n",
       "      <td>No</td>\n",
       "      <td>34.0</td>\n",
       "      <td>Yes</td>\n",
       "      <td>...</td>\n",
       "      <td>Yes</td>\n",
       "      <td>No</td>\n",
       "      <td>No</td>\n",
       "      <td>No</td>\n",
       "      <td>One year</td>\n",
       "      <td>No</td>\n",
       "      <td>Mailed check</td>\n",
       "      <td>56.95</td>\n",
       "      <td>1889.50</td>\n",
       "      <td>No</td>\n",
       "    </tr>\n",
       "    <tr>\n",
       "      <th>3</th>\n",
       "      <td>3668-QPYBK</td>\n",
       "      <td>Australia</td>\n",
       "      <td>New South Wales</td>\n",
       "      <td>2041</td>\n",
       "      <td>Male</td>\n",
       "      <td>0</td>\n",
       "      <td>No</td>\n",
       "      <td>No</td>\n",
       "      <td>2.0</td>\n",
       "      <td>Yes</td>\n",
       "      <td>...</td>\n",
       "      <td>No</td>\n",
       "      <td>No</td>\n",
       "      <td>No</td>\n",
       "      <td>No</td>\n",
       "      <td>Month-to-month</td>\n",
       "      <td>Yes</td>\n",
       "      <td>Mailed check</td>\n",
       "      <td>53.85</td>\n",
       "      <td>108.15</td>\n",
       "      <td>Yes</td>\n",
       "    </tr>\n",
       "    <tr>\n",
       "      <th>4</th>\n",
       "      <td>7795-CFOCW</td>\n",
       "      <td>Australia</td>\n",
       "      <td>New South Wales</td>\n",
       "      <td>2050</td>\n",
       "      <td>Male</td>\n",
       "      <td>0</td>\n",
       "      <td>No</td>\n",
       "      <td>No</td>\n",
       "      <td>45.0</td>\n",
       "      <td>No</td>\n",
       "      <td>...</td>\n",
       "      <td>Yes</td>\n",
       "      <td>Yes</td>\n",
       "      <td>No</td>\n",
       "      <td>No</td>\n",
       "      <td>One year</td>\n",
       "      <td>No</td>\n",
       "      <td>Bank transfer (automatic)</td>\n",
       "      <td>42.3</td>\n",
       "      <td>1840.75</td>\n",
       "      <td>No</td>\n",
       "    </tr>\n",
       "    <tr>\n",
       "      <th>...</th>\n",
       "      <td>...</td>\n",
       "      <td>...</td>\n",
       "      <td>...</td>\n",
       "      <td>...</td>\n",
       "      <td>...</td>\n",
       "      <td>...</td>\n",
       "      <td>...</td>\n",
       "      <td>...</td>\n",
       "      <td>...</td>\n",
       "      <td>...</td>\n",
       "      <td>...</td>\n",
       "      <td>...</td>\n",
       "      <td>...</td>\n",
       "      <td>...</td>\n",
       "      <td>...</td>\n",
       "      <td>...</td>\n",
       "      <td>...</td>\n",
       "      <td>...</td>\n",
       "      <td>...</td>\n",
       "      <td>...</td>\n",
       "      <td>...</td>\n",
       "    </tr>\n",
       "    <tr>\n",
       "      <th>4993</th>\n",
       "      <td>7740-KKCXF</td>\n",
       "      <td>Australia</td>\n",
       "      <td>New South Wales</td>\n",
       "      <td>2043</td>\n",
       "      <td>Male</td>\n",
       "      <td>0</td>\n",
       "      <td>Yes</td>\n",
       "      <td>No</td>\n",
       "      <td>51.0</td>\n",
       "      <td>No</td>\n",
       "      <td>...</td>\n",
       "      <td>No</td>\n",
       "      <td>No</td>\n",
       "      <td>No</td>\n",
       "      <td>No</td>\n",
       "      <td>Month-to-month</td>\n",
       "      <td>Yes</td>\n",
       "      <td>Credit card (automatic)</td>\n",
       "      <td>30.05</td>\n",
       "      <td>1529.45</td>\n",
       "      <td>No</td>\n",
       "    </tr>\n",
       "    <tr>\n",
       "      <th>4994</th>\n",
       "      <td>5360-XGYAZ</td>\n",
       "      <td>Australia</td>\n",
       "      <td>New South Wales</td>\n",
       "      <td>2021</td>\n",
       "      <td>Male</td>\n",
       "      <td>0</td>\n",
       "      <td>Yes</td>\n",
       "      <td>Yes</td>\n",
       "      <td>72.0</td>\n",
       "      <td>No</td>\n",
       "      <td>...</td>\n",
       "      <td>Yes</td>\n",
       "      <td>Yes</td>\n",
       "      <td>Yes</td>\n",
       "      <td>Yes</td>\n",
       "      <td>Two year</td>\n",
       "      <td>Yes</td>\n",
       "      <td>Bank transfer (automatic)</td>\n",
       "      <td>65.65</td>\n",
       "      <td>4664.50</td>\n",
       "      <td>No</td>\n",
       "    </tr>\n",
       "    <tr>\n",
       "      <th>4995</th>\n",
       "      <td>9692-TUSXH</td>\n",
       "      <td>Australia</td>\n",
       "      <td>New South Wales</td>\n",
       "      <td>2014</td>\n",
       "      <td>Female</td>\n",
       "      <td>0</td>\n",
       "      <td>No</td>\n",
       "      <td>No</td>\n",
       "      <td>18.0</td>\n",
       "      <td>Yes</td>\n",
       "      <td>...</td>\n",
       "      <td>No</td>\n",
       "      <td>No</td>\n",
       "      <td>Yes</td>\n",
       "      <td>Yes</td>\n",
       "      <td>Month-to-month</td>\n",
       "      <td>Yes</td>\n",
       "      <td>Electronic check</td>\n",
       "      <td>96.05</td>\n",
       "      <td>1740.70</td>\n",
       "      <td>Yes</td>\n",
       "    </tr>\n",
       "    <tr>\n",
       "      <th>4996</th>\n",
       "      <td>7912-SYRQT</td>\n",
       "      <td>Australia</td>\n",
       "      <td>New South Wales</td>\n",
       "      <td>2052</td>\n",
       "      <td>Female</td>\n",
       "      <td>0</td>\n",
       "      <td>No</td>\n",
       "      <td>No</td>\n",
       "      <td>7.0</td>\n",
       "      <td>Yes</td>\n",
       "      <td>...</td>\n",
       "      <td>No</td>\n",
       "      <td>No</td>\n",
       "      <td>No</td>\n",
       "      <td>No</td>\n",
       "      <td>Month-to-month</td>\n",
       "      <td>Yes</td>\n",
       "      <td>Bank transfer (automatic)</td>\n",
       "      <td>75.1</td>\n",
       "      <td>552.95</td>\n",
       "      <td>Yes</td>\n",
       "    </tr>\n",
       "    <tr>\n",
       "      <th>4997</th>\n",
       "      <td>3557-HTYWR</td>\n",
       "      <td>Australia</td>\n",
       "      <td>New South Wales</td>\n",
       "      <td>2056</td>\n",
       "      <td>Female</td>\n",
       "      <td>0</td>\n",
       "      <td>No</td>\n",
       "      <td>No</td>\n",
       "      <td>47.0</td>\n",
       "      <td>Yes</td>\n",
       "      <td>...</td>\n",
       "      <td>No</td>\n",
       "      <td>Yes</td>\n",
       "      <td>No</td>\n",
       "      <td>Yes</td>\n",
       "      <td>Two year</td>\n",
       "      <td>No</td>\n",
       "      <td>Mailed check</td>\n",
       "      <td>74.05</td>\n",
       "      <td>3496.30</td>\n",
       "      <td>No</td>\n",
       "    </tr>\n",
       "  </tbody>\n",
       "</table>\n",
       "<p>4998 rows × 24 columns</p>\n",
       "</div>"
      ],
      "text/plain": [
       "     Customer ID    Country            State  Postal Code  Gender  \\\n",
       "0     7590-VHVEA  Australia  New South Wales         2000  Female   \n",
       "1     7590-VHVEG  Australia  New South Wales         2035  Female   \n",
       "2     5575-GNVDE  Australia  New South Wales         2014    Male   \n",
       "3     3668-QPYBK  Australia  New South Wales         2041    Male   \n",
       "4     7795-CFOCW  Australia  New South Wales         2050    Male   \n",
       "...          ...        ...              ...          ...     ...   \n",
       "4993  7740-KKCXF  Australia  New South Wales         2043    Male   \n",
       "4994  5360-XGYAZ  Australia  New South Wales         2021    Male   \n",
       "4995  9692-TUSXH  Australia  New South Wales         2014  Female   \n",
       "4996  7912-SYRQT  Australia  New South Wales         2052  Female   \n",
       "4997  3557-HTYWR  Australia  New South Wales         2056  Female   \n",
       "\n",
       "      Senior Citizen Partner Dependents  tenure Phone Service  ...  \\\n",
       "0                  0     Yes         No     1.0            No  ...   \n",
       "1                  0     Yes         No     1.0            No  ...   \n",
       "2                  0      No         No    34.0           Yes  ...   \n",
       "3                  0      No         No     2.0           Yes  ...   \n",
       "4                  0      No         No    45.0            No  ...   \n",
       "...              ...     ...        ...     ...           ...  ...   \n",
       "4993               0     Yes         No    51.0            No  ...   \n",
       "4994               0     Yes        Yes    72.0            No  ...   \n",
       "4995               0      No         No    18.0           Yes  ...   \n",
       "4996               0      No         No     7.0           Yes  ...   \n",
       "4997               0      No         No    47.0           Yes  ...   \n",
       "\n",
       "     Device Protection Tech Support Streaming TV Streaming Movies  \\\n",
       "0                   No           No           No               No   \n",
       "1                   No           No           No               No   \n",
       "2                  Yes           No           No               No   \n",
       "3                   No           No           No               No   \n",
       "4                  Yes          Yes           No               No   \n",
       "...                ...          ...          ...              ...   \n",
       "4993                No           No           No               No   \n",
       "4994               Yes          Yes          Yes              Yes   \n",
       "4995                No           No          Yes              Yes   \n",
       "4996                No           No           No               No   \n",
       "4997                No          Yes           No              Yes   \n",
       "\n",
       "            Contract Paperless Billing             Payment Method  \\\n",
       "0     Month-to-month               Yes           Electronic check   \n",
       "1     Month-to-month               Yes           Electronic check   \n",
       "2           One year                No               Mailed check   \n",
       "3     Month-to-month               Yes               Mailed check   \n",
       "4           One year                No  Bank transfer (automatic)   \n",
       "...              ...               ...                        ...   \n",
       "4993  Month-to-month               Yes    Credit card (automatic)   \n",
       "4994        Two year               Yes  Bank transfer (automatic)   \n",
       "4995  Month-to-month               Yes           Electronic check   \n",
       "4996  Month-to-month               Yes  Bank transfer (automatic)   \n",
       "4997        Two year                No               Mailed check   \n",
       "\n",
       "     Monthly Charges Total Charges Churn  \n",
       "0              29.85         29.85    No  \n",
       "1              29.85         29.85    No  \n",
       "2              56.95       1889.50    No  \n",
       "3              53.85        108.15   Yes  \n",
       "4               42.3       1840.75    No  \n",
       "...              ...           ...   ...  \n",
       "4993           30.05       1529.45    No  \n",
       "4994           65.65       4664.50    No  \n",
       "4995           96.05       1740.70   Yes  \n",
       "4996            75.1        552.95   Yes  \n",
       "4997           74.05       3496.30    No  \n",
       "\n",
       "[4998 rows x 24 columns]"
      ]
     },
     "execution_count": 788,
     "metadata": {},
     "output_type": "execute_result"
    }
   ],
   "source": [
    "#load sataset\n",
    "df = pd.read_csv('C:\\\\Users\\\\sraks\\\\AIML Internship\\\\TASK\\T01\\\\task01.csv')\n",
    "df"
   ]
  },
  {
   "cell_type": "code",
   "execution_count": 789,
   "id": "7446a2a0",
   "metadata": {},
   "outputs": [
    {
     "data": {
      "text/plain": [
       "Customer ID          0\n",
       "Country              0\n",
       "State                0\n",
       "Postal Code          0\n",
       "Gender               0\n",
       "Senior Citizen       0\n",
       "Partner              0\n",
       "Dependents           0\n",
       "tenure               1\n",
       "Phone Service        0\n",
       "Multiple Lines       0\n",
       "Internet Service     1\n",
       "Online Security      1\n",
       "Online Backup        0\n",
       "Device Protection    0\n",
       "Tech Support         0\n",
       "Streaming TV         0\n",
       "Streaming Movies     0\n",
       "Contract             0\n",
       "Paperless Billing    0\n",
       "Payment Method       0\n",
       "Monthly Charges      2\n",
       "Total Charges        8\n",
       "Churn                0\n",
       "dtype: int64"
      ]
     },
     "execution_count": 789,
     "metadata": {},
     "output_type": "execute_result"
    }
   ],
   "source": [
    "#check for null values\n",
    "df.isnull().sum()"
   ]
  },
  {
   "cell_type": "code",
   "execution_count": 790,
   "id": "f4efc066",
   "metadata": {},
   "outputs": [
    {
     "data": {
      "text/plain": [
       "Customer ID          0\n",
       "Country              0\n",
       "State                0\n",
       "Postal Code          0\n",
       "Gender               0\n",
       "Senior Citizen       0\n",
       "Partner              0\n",
       "Dependents           0\n",
       "tenure               0\n",
       "Phone Service        0\n",
       "Multiple Lines       0\n",
       "Internet Service     0\n",
       "Online Security      0\n",
       "Online Backup        0\n",
       "Device Protection    0\n",
       "Tech Support         0\n",
       "Streaming TV         0\n",
       "Streaming Movies     0\n",
       "Contract             0\n",
       "Paperless Billing    0\n",
       "Payment Method       0\n",
       "Monthly Charges      0\n",
       "Total Charges        0\n",
       "Churn                0\n",
       "dtype: int64"
      ]
     },
     "execution_count": 790,
     "metadata": {},
     "output_type": "execute_result"
    }
   ],
   "source": [
    "#Since the data is huge and null values are very small it can be safely dropped\n",
    "dfv1 = df.dropna()\n",
    "dfv1.isna().sum()"
   ]
  },
  {
   "cell_type": "code",
   "execution_count": 791,
   "id": "6bf80132",
   "metadata": {},
   "outputs": [
    {
     "data": {
      "text/plain": [
       "array(['Australia'], dtype=object)"
      ]
     },
     "execution_count": 791,
     "metadata": {},
     "output_type": "execute_result"
    }
   ],
   "source": [
    "dfv1['Country'].unique()"
   ]
  },
  {
   "cell_type": "code",
   "execution_count": 792,
   "id": "741b0aa1",
   "metadata": {},
   "outputs": [
    {
     "data": {
      "text/plain": [
       "array(['New South Wales'], dtype=object)"
      ]
     },
     "execution_count": 792,
     "metadata": {},
     "output_type": "execute_result"
    }
   ],
   "source": [
    "dfv1['State'].unique()"
   ]
  },
  {
   "cell_type": "code",
   "execution_count": 793,
   "id": "88df89e6",
   "metadata": {
    "scrolled": true
   },
   "outputs": [
    {
     "data": {
      "text/html": [
       "<div>\n",
       "<style scoped>\n",
       "    .dataframe tbody tr th:only-of-type {\n",
       "        vertical-align: middle;\n",
       "    }\n",
       "\n",
       "    .dataframe tbody tr th {\n",
       "        vertical-align: top;\n",
       "    }\n",
       "\n",
       "    .dataframe thead th {\n",
       "        text-align: right;\n",
       "    }\n",
       "</style>\n",
       "<table border=\"1\" class=\"dataframe\">\n",
       "  <thead>\n",
       "    <tr style=\"text-align: right;\">\n",
       "      <th></th>\n",
       "      <th>Gender</th>\n",
       "      <th>Senior Citizen</th>\n",
       "      <th>Partner</th>\n",
       "      <th>Dependents</th>\n",
       "      <th>tenure</th>\n",
       "      <th>Phone Service</th>\n",
       "      <th>Multiple Lines</th>\n",
       "      <th>Internet Service</th>\n",
       "      <th>Online Security</th>\n",
       "      <th>Online Backup</th>\n",
       "      <th>Device Protection</th>\n",
       "      <th>Tech Support</th>\n",
       "      <th>Streaming TV</th>\n",
       "      <th>Streaming Movies</th>\n",
       "      <th>Contract</th>\n",
       "      <th>Paperless Billing</th>\n",
       "      <th>Payment Method</th>\n",
       "      <th>Monthly Charges</th>\n",
       "      <th>Total Charges</th>\n",
       "      <th>Churn</th>\n",
       "    </tr>\n",
       "  </thead>\n",
       "  <tbody>\n",
       "    <tr>\n",
       "      <th>0</th>\n",
       "      <td>Female</td>\n",
       "      <td>0</td>\n",
       "      <td>Yes</td>\n",
       "      <td>No</td>\n",
       "      <td>1.0</td>\n",
       "      <td>No</td>\n",
       "      <td>No phone service</td>\n",
       "      <td>DSL</td>\n",
       "      <td>No</td>\n",
       "      <td>Yes</td>\n",
       "      <td>No</td>\n",
       "      <td>No</td>\n",
       "      <td>No</td>\n",
       "      <td>No</td>\n",
       "      <td>Month-to-month</td>\n",
       "      <td>Yes</td>\n",
       "      <td>Electronic check</td>\n",
       "      <td>29.85</td>\n",
       "      <td>29.85</td>\n",
       "      <td>No</td>\n",
       "    </tr>\n",
       "    <tr>\n",
       "      <th>1</th>\n",
       "      <td>Female</td>\n",
       "      <td>0</td>\n",
       "      <td>Yes</td>\n",
       "      <td>No</td>\n",
       "      <td>1.0</td>\n",
       "      <td>No</td>\n",
       "      <td>No phone service</td>\n",
       "      <td>DSL</td>\n",
       "      <td>No</td>\n",
       "      <td>Yes</td>\n",
       "      <td>No</td>\n",
       "      <td>No</td>\n",
       "      <td>No</td>\n",
       "      <td>No</td>\n",
       "      <td>Month-to-month</td>\n",
       "      <td>Yes</td>\n",
       "      <td>Electronic check</td>\n",
       "      <td>29.85</td>\n",
       "      <td>29.85</td>\n",
       "      <td>No</td>\n",
       "    </tr>\n",
       "    <tr>\n",
       "      <th>2</th>\n",
       "      <td>Male</td>\n",
       "      <td>0</td>\n",
       "      <td>No</td>\n",
       "      <td>No</td>\n",
       "      <td>34.0</td>\n",
       "      <td>Yes</td>\n",
       "      <td>No</td>\n",
       "      <td>DSL</td>\n",
       "      <td>Yes</td>\n",
       "      <td>No</td>\n",
       "      <td>Yes</td>\n",
       "      <td>No</td>\n",
       "      <td>No</td>\n",
       "      <td>No</td>\n",
       "      <td>One year</td>\n",
       "      <td>No</td>\n",
       "      <td>Mailed check</td>\n",
       "      <td>56.95</td>\n",
       "      <td>1889.50</td>\n",
       "      <td>No</td>\n",
       "    </tr>\n",
       "    <tr>\n",
       "      <th>3</th>\n",
       "      <td>Male</td>\n",
       "      <td>0</td>\n",
       "      <td>No</td>\n",
       "      <td>No</td>\n",
       "      <td>2.0</td>\n",
       "      <td>Yes</td>\n",
       "      <td>No</td>\n",
       "      <td>DSL</td>\n",
       "      <td>Yes</td>\n",
       "      <td>Yes</td>\n",
       "      <td>No</td>\n",
       "      <td>No</td>\n",
       "      <td>No</td>\n",
       "      <td>No</td>\n",
       "      <td>Month-to-month</td>\n",
       "      <td>Yes</td>\n",
       "      <td>Mailed check</td>\n",
       "      <td>53.85</td>\n",
       "      <td>108.15</td>\n",
       "      <td>Yes</td>\n",
       "    </tr>\n",
       "    <tr>\n",
       "      <th>4</th>\n",
       "      <td>Male</td>\n",
       "      <td>0</td>\n",
       "      <td>No</td>\n",
       "      <td>No</td>\n",
       "      <td>45.0</td>\n",
       "      <td>No</td>\n",
       "      <td>No phone service</td>\n",
       "      <td>DSL</td>\n",
       "      <td>Yes</td>\n",
       "      <td>No</td>\n",
       "      <td>Yes</td>\n",
       "      <td>Yes</td>\n",
       "      <td>No</td>\n",
       "      <td>No</td>\n",
       "      <td>One year</td>\n",
       "      <td>No</td>\n",
       "      <td>Bank transfer (automatic)</td>\n",
       "      <td>42.3</td>\n",
       "      <td>1840.75</td>\n",
       "      <td>No</td>\n",
       "    </tr>\n",
       "  </tbody>\n",
       "</table>\n",
       "</div>"
      ],
      "text/plain": [
       "   Gender  Senior Citizen Partner Dependents  tenure Phone Service  \\\n",
       "0  Female               0     Yes         No     1.0            No   \n",
       "1  Female               0     Yes         No     1.0            No   \n",
       "2    Male               0      No         No    34.0           Yes   \n",
       "3    Male               0      No         No     2.0           Yes   \n",
       "4    Male               0      No         No    45.0            No   \n",
       "\n",
       "     Multiple Lines Internet Service Online Security Online Backup  \\\n",
       "0  No phone service              DSL              No           Yes   \n",
       "1  No phone service              DSL              No           Yes   \n",
       "2                No              DSL             Yes            No   \n",
       "3                No              DSL             Yes           Yes   \n",
       "4  No phone service              DSL             Yes            No   \n",
       "\n",
       "  Device Protection Tech Support Streaming TV Streaming Movies  \\\n",
       "0                No           No           No               No   \n",
       "1                No           No           No               No   \n",
       "2               Yes           No           No               No   \n",
       "3                No           No           No               No   \n",
       "4               Yes          Yes           No               No   \n",
       "\n",
       "         Contract Paperless Billing             Payment Method  \\\n",
       "0  Month-to-month               Yes           Electronic check   \n",
       "1  Month-to-month               Yes           Electronic check   \n",
       "2        One year                No               Mailed check   \n",
       "3  Month-to-month               Yes               Mailed check   \n",
       "4        One year                No  Bank transfer (automatic)   \n",
       "\n",
       "  Monthly Charges  Total Charges Churn  \n",
       "0           29.85          29.85    No  \n",
       "1           29.85          29.85    No  \n",
       "2           56.95        1889.50    No  \n",
       "3           53.85         108.15   Yes  \n",
       "4            42.3        1840.75    No  "
      ]
     },
     "execution_count": 793,
     "metadata": {},
     "output_type": "execute_result"
    }
   ],
   "source": [
    "#Drop the factors that doesnt effect\n",
    "dfv2 = dfv1.drop(['Customer ID','Country','State','Postal Code'], axis = 'columns')\n",
    "dfv2.head()"
   ]
  },
  {
   "cell_type": "code",
   "execution_count": 794,
   "id": "97d8a949",
   "metadata": {},
   "outputs": [
    {
     "data": {
      "text/plain": [
       "array(['Female', 'Male', 'female'], dtype=object)"
      ]
     },
     "execution_count": 794,
     "metadata": {},
     "output_type": "execute_result"
    }
   ],
   "source": [
    "dfv2['Gender'].unique()"
   ]
  },
  {
   "cell_type": "code",
   "execution_count": 795,
   "id": "5449c6b0",
   "metadata": {},
   "outputs": [
    {
     "data": {
      "text/plain": [
       "array(['female', 'male'], dtype=object)"
      ]
     },
     "execution_count": 795,
     "metadata": {},
     "output_type": "execute_result"
    }
   ],
   "source": [
    "dfv2['Gender']=dfv2['Gender'].apply(lambda x : x.lower())\n",
    "dfv2['Gender'].unique()"
   ]
  },
  {
   "cell_type": "code",
   "execution_count": 796,
   "id": "6fb01169",
   "metadata": {},
   "outputs": [
    {
     "data": {
      "text/plain": [
       "array(['No', 'Yes'], dtype=object)"
      ]
     },
     "execution_count": 796,
     "metadata": {},
     "output_type": "execute_result"
    }
   ],
   "source": [
    "dfv2['Dependents'].unique()"
   ]
  },
  {
   "cell_type": "code",
   "execution_count": 797,
   "id": "7bbcf935",
   "metadata": {
    "scrolled": false
   },
   "outputs": [
    {
     "data": {
      "text/plain": [
       "array(['No', 'Yes', ' '], dtype=object)"
      ]
     },
     "execution_count": 797,
     "metadata": {},
     "output_type": "execute_result"
    }
   ],
   "source": [
    "dfv2['Phone Service'].unique() "
   ]
  },
  {
   "cell_type": "code",
   "execution_count": 798,
   "id": "2ce85558",
   "metadata": {},
   "outputs": [
    {
     "data": {
      "text/plain": [
       "Phone Service\n",
       "          1\n",
       "No      461\n",
       "Yes    4524\n",
       "Name: Phone Service, dtype: int64"
      ]
     },
     "execution_count": 798,
     "metadata": {},
     "output_type": "execute_result"
    }
   ],
   "source": [
    "dfv2.groupby('Phone Service')['Phone Service'].agg('count')"
   ]
  },
  {
   "cell_type": "code",
   "execution_count": 799,
   "id": "2468affc",
   "metadata": {},
   "outputs": [
    {
     "data": {
      "text/plain": [
       "Phone Service\n",
       "no      462\n",
       "yes    4524\n",
       "Name: Phone Service, dtype: int64"
      ]
     },
     "execution_count": 799,
     "metadata": {},
     "output_type": "execute_result"
    }
   ],
   "source": [
    "dfv2['Phone Service']=dfv2['Phone Service'].apply(lambda x : 'yes' if x == 'Yes' else 'no')\n",
    "dfv2.groupby('Phone Service')['Phone Service'].agg('count')"
   ]
  },
  {
   "cell_type": "code",
   "execution_count": 800,
   "id": "ebf96037",
   "metadata": {},
   "outputs": [
    {
     "data": {
      "text/plain": [
       "array(['No phone service', 'No', 'Yes', ' ', 'N0'], dtype=object)"
      ]
     },
     "execution_count": 800,
     "metadata": {},
     "output_type": "execute_result"
    }
   ],
   "source": [
    "dfv2['Multiple Lines'].unique()"
   ]
  },
  {
   "cell_type": "code",
   "execution_count": 801,
   "id": "25760e13",
   "metadata": {},
   "outputs": [
    {
     "data": {
      "text/plain": [
       "Multiple Lines\n",
       "                       2\n",
       "N0                     1\n",
       "No                  2393\n",
       "No phone service     461\n",
       "Yes                 2129\n",
       "Name: Multiple Lines, dtype: int64"
      ]
     },
     "execution_count": 801,
     "metadata": {},
     "output_type": "execute_result"
    }
   ],
   "source": [
    "dfv2.groupby('Multiple Lines')['Multiple Lines'].agg('count')"
   ]
  },
  {
   "cell_type": "code",
   "execution_count": 802,
   "id": "cb0fdfc6",
   "metadata": {
    "scrolled": true
   },
   "outputs": [
    {
     "data": {
      "text/plain": [
       "Multiple Lines\n",
       "No phone service     461\n",
       "no                  2396\n",
       "yes                 2129\n",
       "Name: Multiple Lines, dtype: int64"
      ]
     },
     "execution_count": 802,
     "metadata": {},
     "output_type": "execute_result"
    }
   ],
   "source": [
    "dfv2[\"Multiple Lines\"] = np.select([dfv2[\"Multiple Lines\"]=='Yes', dfv2[\"Multiple Lines\"]=='No phone service'],\n",
    "  [\"yes\", \"No phone service\"],\n",
    "  default=\"no\")\n",
    "dfv2.groupby('Multiple Lines')['Multiple Lines'].agg('count')"
   ]
  },
  {
   "cell_type": "code",
   "execution_count": 803,
   "id": "b4400901",
   "metadata": {},
   "outputs": [
    {
     "data": {
      "text/plain": [
       "array(['DSL', 'Fiber optic', 'No'], dtype=object)"
      ]
     },
     "execution_count": 803,
     "metadata": {},
     "output_type": "execute_result"
    }
   ],
   "source": [
    "dfv2['Internet Service'].unique()"
   ]
  },
  {
   "cell_type": "code",
   "execution_count": 804,
   "id": "b33134cf",
   "metadata": {},
   "outputs": [
    {
     "data": {
      "text/plain": [
       "Internet Service\n",
       "DSL            1708\n",
       "Fiber optic    2187\n",
       "No             1091\n",
       "Name: Internet Service, dtype: int64"
      ]
     },
     "execution_count": 804,
     "metadata": {},
     "output_type": "execute_result"
    }
   ],
   "source": [
    "dfv2.groupby('Internet Service')['Internet Service'].agg('count')"
   ]
  },
  {
   "cell_type": "code",
   "execution_count": 805,
   "id": "21b801d0",
   "metadata": {},
   "outputs": [
    {
     "data": {
      "text/plain": [
       "array(['No', 'Yes', 'No internet service'], dtype=object)"
      ]
     },
     "execution_count": 805,
     "metadata": {},
     "output_type": "execute_result"
    }
   ],
   "source": [
    "dfv2['Online Security'].unique()"
   ]
  },
  {
   "cell_type": "code",
   "execution_count": 806,
   "id": "11efe488",
   "metadata": {},
   "outputs": [
    {
     "data": {
      "text/plain": [
       "Online Security\n",
       "No                     2466\n",
       "No internet service    1091\n",
       "Yes                    1429\n",
       "Name: Online Security, dtype: int64"
      ]
     },
     "execution_count": 806,
     "metadata": {},
     "output_type": "execute_result"
    }
   ],
   "source": [
    "dfv2.groupby('Online Security')['Online Security'].agg('count')"
   ]
  },
  {
   "cell_type": "code",
   "execution_count": 807,
   "id": "b302030a",
   "metadata": {},
   "outputs": [],
   "source": [
    "#dfv2['Online Security']=dfv2['Online Security'].apply(lambda x : x.split(' ')[0])\n",
    "#dfv2['Online Security']=dfv2['Online Security'].apply(lambda x : 'yes' if x == 'Yes' else 'no')\n",
    "#dfv2.groupby('Online Security')['Online Security'].agg('count')"
   ]
  },
  {
   "cell_type": "code",
   "execution_count": 808,
   "id": "88481187",
   "metadata": {},
   "outputs": [
    {
     "data": {
      "text/plain": [
       "Online Security\n",
       "No internet service    1091\n",
       "no                     2466\n",
       "yes                    1429\n",
       "Name: Online Security, dtype: int64"
      ]
     },
     "execution_count": 808,
     "metadata": {},
     "output_type": "execute_result"
    }
   ],
   "source": [
    "dfv2[\"Online Security\"] = np.select([dfv2[\"Online Security\"]=='Yes', dfv2[\"Online Security\"]=='No internet service'],\n",
    "  [\"yes\", \"No internet service\"],\n",
    "  default=\"no\")\n",
    "dfv2.groupby('Online Security')['Online Security'].agg('count')"
   ]
  },
  {
   "cell_type": "code",
   "execution_count": 809,
   "id": "84be335f",
   "metadata": {
    "scrolled": false
   },
   "outputs": [
    {
     "data": {
      "text/plain": [
       "array(['Yes', 'No', 'No internet service'], dtype=object)"
      ]
     },
     "execution_count": 809,
     "metadata": {},
     "output_type": "execute_result"
    }
   ],
   "source": [
    "dfv2['Online Backup'].unique()"
   ]
  },
  {
   "cell_type": "code",
   "execution_count": 810,
   "id": "aafa6b5c",
   "metadata": {},
   "outputs": [
    {
     "data": {
      "text/plain": [
       "Online Backup\n",
       "No                     2174\n",
       "No internet service    1091\n",
       "Yes                    1721\n",
       "Name: Online Backup, dtype: int64"
      ]
     },
     "execution_count": 810,
     "metadata": {},
     "output_type": "execute_result"
    }
   ],
   "source": [
    "dfv2.groupby('Online Backup')['Online Backup'].agg('count')"
   ]
  },
  {
   "cell_type": "code",
   "execution_count": 811,
   "id": "0da33129",
   "metadata": {},
   "outputs": [
    {
     "data": {
      "text/plain": [
       "Online Backup\n",
       "No internet service    1091\n",
       "no                     2174\n",
       "yes                    1721\n",
       "Name: Online Backup, dtype: int64"
      ]
     },
     "execution_count": 811,
     "metadata": {},
     "output_type": "execute_result"
    }
   ],
   "source": [
    "#dfv2['Online Backup']=dfv2['Online Backup'].apply(lambda x : x.split(' ')[0])\n",
    "#dfv2.groupby('Online Backup')['Online Backup'].agg('count')\n",
    "dfv2[\"Online Backup\"] = np.select([dfv2[\"Online Backup\"]=='Yes', dfv2[\"Online Backup\"]=='No internet service'],\n",
    "  [\"yes\", \"No internet service\"],\n",
    "  default=\"no\")\n",
    "dfv2.groupby('Online Backup')['Online Backup'].agg('count')"
   ]
  },
  {
   "cell_type": "code",
   "execution_count": 812,
   "id": "5ffdd16a",
   "metadata": {},
   "outputs": [
    {
     "data": {
      "text/plain": [
       "array(['No', 'Yes', 'No internet service', 'N0'], dtype=object)"
      ]
     },
     "execution_count": 812,
     "metadata": {},
     "output_type": "execute_result"
    }
   ],
   "source": [
    "dfv2['Device Protection'].unique()"
   ]
  },
  {
   "cell_type": "code",
   "execution_count": 813,
   "id": "0f85b4e7",
   "metadata": {},
   "outputs": [
    {
     "data": {
      "text/plain": [
       "Device Protection\n",
       "N0                        1\n",
       "No                     2170\n",
       "No internet service    1091\n",
       "Yes                    1724\n",
       "Name: Device Protection, dtype: int64"
      ]
     },
     "execution_count": 813,
     "metadata": {},
     "output_type": "execute_result"
    }
   ],
   "source": [
    "dfv2.groupby('Device Protection')['Device Protection'].agg('count')"
   ]
  },
  {
   "cell_type": "code",
   "execution_count": 814,
   "id": "3a312eff",
   "metadata": {},
   "outputs": [
    {
     "data": {
      "text/plain": [
       "Device Protection\n",
       "No internet service    1091\n",
       "no                     2171\n",
       "yes                    1724\n",
       "Name: Device Protection, dtype: int64"
      ]
     },
     "execution_count": 814,
     "metadata": {},
     "output_type": "execute_result"
    }
   ],
   "source": [
    "#dfv2['Device Protection']=dfv2['Device Protection'].apply(lambda x : x.split(' ')[0])\n",
    "#dfv2['Device Protection']=dfv2['Device Protection'].apply(lambda x : 'yes' if x == 'Yes' else 'no')\n",
    "#dfv2.groupby('Device Protection')['Device Protection'].agg('count')\n",
    "dfv2[\"Device Protection\"] = np.select([dfv2[\"Device Protection\"]=='Yes', dfv2[\"Device Protection\"]=='No internet service'],\n",
    "  [\"yes\", \"No internet service\"],\n",
    "  default=\"no\")\n",
    "dfv2.groupby('Device Protection')['Device Protection'].agg('count')"
   ]
  },
  {
   "cell_type": "code",
   "execution_count": 815,
   "id": "11ca20ae",
   "metadata": {},
   "outputs": [
    {
     "data": {
      "text/plain": [
       "array(['No', 'Yes', 'No internet service'], dtype=object)"
      ]
     },
     "execution_count": 815,
     "metadata": {},
     "output_type": "execute_result"
    }
   ],
   "source": [
    "dfv2['Tech Support'].unique()"
   ]
  },
  {
   "cell_type": "code",
   "execution_count": 816,
   "id": "ef840ca7",
   "metadata": {
    "scrolled": true
   },
   "outputs": [
    {
     "data": {
      "text/plain": [
       "Tech Support\n",
       "No                     2474\n",
       "No internet service    1091\n",
       "Yes                    1421\n",
       "Name: Tech Support, dtype: int64"
      ]
     },
     "execution_count": 816,
     "metadata": {},
     "output_type": "execute_result"
    }
   ],
   "source": [
    "#dfv2['Online Backup']=dfv2['Online Backup'].apply(lambda x : x.split(' ')[0])\n",
    "dfv2.groupby('Tech Support')['Tech Support'].agg('count')"
   ]
  },
  {
   "cell_type": "code",
   "execution_count": 817,
   "id": "ae93ddea",
   "metadata": {
    "scrolled": true
   },
   "outputs": [
    {
     "data": {
      "text/plain": [
       "Streaming TV\n",
       "N0                        1\n",
       "No                     1980\n",
       "No internet service    1090\n",
       "No internetservice        1\n",
       "Yes                    1914\n",
       "Name: Streaming TV, dtype: int64"
      ]
     },
     "execution_count": 817,
     "metadata": {},
     "output_type": "execute_result"
    }
   ],
   "source": [
    "dfv2['Streaming TV'].unique()\n",
    "dfv2.groupby('Streaming TV')['Streaming TV'].agg('count')"
   ]
  },
  {
   "cell_type": "code",
   "execution_count": 818,
   "id": "a893e85a",
   "metadata": {},
   "outputs": [
    {
     "data": {
      "text/plain": [
       "Streaming TV\n",
       "No internet service    1091\n",
       "no                     1981\n",
       "yes                    1914\n",
       "Name: Streaming TV, dtype: int64"
      ]
     },
     "execution_count": 818,
     "metadata": {},
     "output_type": "execute_result"
    }
   ],
   "source": [
    "#dfv2['Streaming TV']=dfv2['Streaming TV'].apply(lambda x : x.split(' ')[0])\n",
    "#dfv2['Streaming TV']=dfv2['Streaming TV'].apply(lambda x : 'yes' if x == 'Yes' else 'no')\n",
    "#dfv2.groupby('Streaming TV')['Streaming TV'].agg('count')\n",
    "dfv2[\"Streaming TV\"] = np.select([dfv2[\"Streaming TV\"]=='Yes', dfv2[\"Streaming TV\"]=='No internet service', dfv2[\"Streaming TV\"]=='No internetservice'],\n",
    "  [\"yes\", \"No internet service\",\"No internet service\"],\n",
    "  default=\"no\")\n",
    "dfv2.groupby('Streaming TV')['Streaming TV'].agg('count')"
   ]
  },
  {
   "cell_type": "code",
   "execution_count": 819,
   "id": "c467f893",
   "metadata": {},
   "outputs": [
    {
     "data": {
      "text/plain": [
       "Streaming Movies\n",
       "                          1\n",
       "No                     1950\n",
       "No internet service    1090\n",
       "Yes                    1945\n",
       "Name: Streaming Movies, dtype: int64"
      ]
     },
     "execution_count": 819,
     "metadata": {},
     "output_type": "execute_result"
    }
   ],
   "source": [
    "dfv2['Streaming Movies'].unique()\n",
    "dfv2.groupby('Streaming Movies')['Streaming Movies'].agg('count')"
   ]
  },
  {
   "cell_type": "code",
   "execution_count": 820,
   "id": "c55a309c",
   "metadata": {},
   "outputs": [
    {
     "data": {
      "text/plain": [
       "Streaming Movies\n",
       "No internet service    1090\n",
       "no                     1951\n",
       "yes                    1945\n",
       "Name: Streaming Movies, dtype: int64"
      ]
     },
     "execution_count": 820,
     "metadata": {},
     "output_type": "execute_result"
    }
   ],
   "source": [
    "dfv2[\"Streaming Movies\"] = np.select([dfv2[\"Streaming Movies\"]=='Yes', dfv2[\"Streaming Movies\"]=='No internet service'],\n",
    "  [\"yes\", \"No internet service\"],\n",
    "  default=\"no\")\n",
    "dfv2.groupby('Streaming Movies')['Streaming Movies'].agg('count')"
   ]
  },
  {
   "cell_type": "code",
   "execution_count": 821,
   "id": "86a02870",
   "metadata": {},
   "outputs": [
    {
     "data": {
      "text/plain": [
       "array(['Month-to-month', 'One year', 'Two year'], dtype=object)"
      ]
     },
     "execution_count": 821,
     "metadata": {},
     "output_type": "execute_result"
    }
   ],
   "source": [
    "dfv2['Contract'].unique()"
   ]
  },
  {
   "cell_type": "code",
   "execution_count": 822,
   "id": "5d5d4090",
   "metadata": {},
   "outputs": [
    {
     "data": {
      "text/plain": [
       "array(['Yes', 'No'], dtype=object)"
      ]
     },
     "execution_count": 822,
     "metadata": {},
     "output_type": "execute_result"
    }
   ],
   "source": [
    "dfv2['Paperless Billing'].unique()"
   ]
  },
  {
   "cell_type": "code",
   "execution_count": 823,
   "id": "ad813914",
   "metadata": {},
   "outputs": [
    {
     "data": {
      "text/plain": [
       "array(['Electronic check', 'Mailed check', 'Bank transfer (automatic)',\n",
       "       'Credit card (automatic)'], dtype=object)"
      ]
     },
     "execution_count": 823,
     "metadata": {},
     "output_type": "execute_result"
    }
   ],
   "source": [
    "dfv2['Payment Method'].unique()"
   ]
  },
  {
   "cell_type": "code",
   "execution_count": 824,
   "id": "4cf94441",
   "metadata": {},
   "outputs": [
    {
     "data": {
      "text/html": [
       "<div>\n",
       "<style scoped>\n",
       "    .dataframe tbody tr th:only-of-type {\n",
       "        vertical-align: middle;\n",
       "    }\n",
       "\n",
       "    .dataframe tbody tr th {\n",
       "        vertical-align: top;\n",
       "    }\n",
       "\n",
       "    .dataframe thead th {\n",
       "        text-align: right;\n",
       "    }\n",
       "</style>\n",
       "<table border=\"1\" class=\"dataframe\">\n",
       "  <thead>\n",
       "    <tr style=\"text-align: right;\">\n",
       "      <th></th>\n",
       "      <th>Gender</th>\n",
       "      <th>Senior Citizen</th>\n",
       "      <th>Partner</th>\n",
       "      <th>Dependents</th>\n",
       "      <th>tenure</th>\n",
       "      <th>Phone Service</th>\n",
       "      <th>Multiple Lines</th>\n",
       "      <th>Internet Service</th>\n",
       "      <th>Online Security</th>\n",
       "      <th>Online Backup</th>\n",
       "      <th>Device Protection</th>\n",
       "      <th>Tech Support</th>\n",
       "      <th>Streaming TV</th>\n",
       "      <th>Streaming Movies</th>\n",
       "      <th>Contract</th>\n",
       "      <th>Paperless Billing</th>\n",
       "      <th>Payment Method</th>\n",
       "      <th>Monthly Charges</th>\n",
       "      <th>Total Charges</th>\n",
       "      <th>Churn</th>\n",
       "    </tr>\n",
       "  </thead>\n",
       "  <tbody>\n",
       "    <tr>\n",
       "      <th>0</th>\n",
       "      <td>female</td>\n",
       "      <td>0</td>\n",
       "      <td>Yes</td>\n",
       "      <td>No</td>\n",
       "      <td>1.0</td>\n",
       "      <td>no</td>\n",
       "      <td>No phone service</td>\n",
       "      <td>DSL</td>\n",
       "      <td>no</td>\n",
       "      <td>yes</td>\n",
       "      <td>no</td>\n",
       "      <td>No</td>\n",
       "      <td>no</td>\n",
       "      <td>no</td>\n",
       "      <td>Month-to-month</td>\n",
       "      <td>Yes</td>\n",
       "      <td>Electronic check</td>\n",
       "      <td>29.85</td>\n",
       "      <td>29.85</td>\n",
       "      <td>No</td>\n",
       "    </tr>\n",
       "    <tr>\n",
       "      <th>1</th>\n",
       "      <td>female</td>\n",
       "      <td>0</td>\n",
       "      <td>Yes</td>\n",
       "      <td>No</td>\n",
       "      <td>1.0</td>\n",
       "      <td>no</td>\n",
       "      <td>No phone service</td>\n",
       "      <td>DSL</td>\n",
       "      <td>no</td>\n",
       "      <td>yes</td>\n",
       "      <td>no</td>\n",
       "      <td>No</td>\n",
       "      <td>no</td>\n",
       "      <td>no</td>\n",
       "      <td>Month-to-month</td>\n",
       "      <td>Yes</td>\n",
       "      <td>Electronic check</td>\n",
       "      <td>29.85</td>\n",
       "      <td>29.85</td>\n",
       "      <td>No</td>\n",
       "    </tr>\n",
       "    <tr>\n",
       "      <th>2</th>\n",
       "      <td>male</td>\n",
       "      <td>0</td>\n",
       "      <td>No</td>\n",
       "      <td>No</td>\n",
       "      <td>34.0</td>\n",
       "      <td>yes</td>\n",
       "      <td>no</td>\n",
       "      <td>DSL</td>\n",
       "      <td>yes</td>\n",
       "      <td>no</td>\n",
       "      <td>yes</td>\n",
       "      <td>No</td>\n",
       "      <td>no</td>\n",
       "      <td>no</td>\n",
       "      <td>One year</td>\n",
       "      <td>No</td>\n",
       "      <td>Mailed check</td>\n",
       "      <td>56.95</td>\n",
       "      <td>1889.50</td>\n",
       "      <td>No</td>\n",
       "    </tr>\n",
       "    <tr>\n",
       "      <th>3</th>\n",
       "      <td>male</td>\n",
       "      <td>0</td>\n",
       "      <td>No</td>\n",
       "      <td>No</td>\n",
       "      <td>2.0</td>\n",
       "      <td>yes</td>\n",
       "      <td>no</td>\n",
       "      <td>DSL</td>\n",
       "      <td>yes</td>\n",
       "      <td>yes</td>\n",
       "      <td>no</td>\n",
       "      <td>No</td>\n",
       "      <td>no</td>\n",
       "      <td>no</td>\n",
       "      <td>Month-to-month</td>\n",
       "      <td>Yes</td>\n",
       "      <td>Mailed check</td>\n",
       "      <td>53.85</td>\n",
       "      <td>108.15</td>\n",
       "      <td>Yes</td>\n",
       "    </tr>\n",
       "    <tr>\n",
       "      <th>4</th>\n",
       "      <td>male</td>\n",
       "      <td>0</td>\n",
       "      <td>No</td>\n",
       "      <td>No</td>\n",
       "      <td>45.0</td>\n",
       "      <td>no</td>\n",
       "      <td>No phone service</td>\n",
       "      <td>DSL</td>\n",
       "      <td>yes</td>\n",
       "      <td>no</td>\n",
       "      <td>yes</td>\n",
       "      <td>Yes</td>\n",
       "      <td>no</td>\n",
       "      <td>no</td>\n",
       "      <td>One year</td>\n",
       "      <td>No</td>\n",
       "      <td>Bank transfer (automatic)</td>\n",
       "      <td>42.3</td>\n",
       "      <td>1840.75</td>\n",
       "      <td>No</td>\n",
       "    </tr>\n",
       "    <tr>\n",
       "      <th>...</th>\n",
       "      <td>...</td>\n",
       "      <td>...</td>\n",
       "      <td>...</td>\n",
       "      <td>...</td>\n",
       "      <td>...</td>\n",
       "      <td>...</td>\n",
       "      <td>...</td>\n",
       "      <td>...</td>\n",
       "      <td>...</td>\n",
       "      <td>...</td>\n",
       "      <td>...</td>\n",
       "      <td>...</td>\n",
       "      <td>...</td>\n",
       "      <td>...</td>\n",
       "      <td>...</td>\n",
       "      <td>...</td>\n",
       "      <td>...</td>\n",
       "      <td>...</td>\n",
       "      <td>...</td>\n",
       "      <td>...</td>\n",
       "    </tr>\n",
       "    <tr>\n",
       "      <th>4993</th>\n",
       "      <td>male</td>\n",
       "      <td>0</td>\n",
       "      <td>Yes</td>\n",
       "      <td>No</td>\n",
       "      <td>51.0</td>\n",
       "      <td>no</td>\n",
       "      <td>No phone service</td>\n",
       "      <td>DSL</td>\n",
       "      <td>no</td>\n",
       "      <td>yes</td>\n",
       "      <td>no</td>\n",
       "      <td>No</td>\n",
       "      <td>no</td>\n",
       "      <td>no</td>\n",
       "      <td>Month-to-month</td>\n",
       "      <td>Yes</td>\n",
       "      <td>Credit card (automatic)</td>\n",
       "      <td>30.05</td>\n",
       "      <td>1529.45</td>\n",
       "      <td>No</td>\n",
       "    </tr>\n",
       "    <tr>\n",
       "      <th>4994</th>\n",
       "      <td>male</td>\n",
       "      <td>0</td>\n",
       "      <td>Yes</td>\n",
       "      <td>Yes</td>\n",
       "      <td>72.0</td>\n",
       "      <td>no</td>\n",
       "      <td>No phone service</td>\n",
       "      <td>DSL</td>\n",
       "      <td>yes</td>\n",
       "      <td>yes</td>\n",
       "      <td>yes</td>\n",
       "      <td>Yes</td>\n",
       "      <td>yes</td>\n",
       "      <td>yes</td>\n",
       "      <td>Two year</td>\n",
       "      <td>Yes</td>\n",
       "      <td>Bank transfer (automatic)</td>\n",
       "      <td>65.65</td>\n",
       "      <td>4664.50</td>\n",
       "      <td>No</td>\n",
       "    </tr>\n",
       "    <tr>\n",
       "      <th>4995</th>\n",
       "      <td>female</td>\n",
       "      <td>0</td>\n",
       "      <td>No</td>\n",
       "      <td>No</td>\n",
       "      <td>18.0</td>\n",
       "      <td>yes</td>\n",
       "      <td>no</td>\n",
       "      <td>Fiber optic</td>\n",
       "      <td>yes</td>\n",
       "      <td>no</td>\n",
       "      <td>no</td>\n",
       "      <td>No</td>\n",
       "      <td>yes</td>\n",
       "      <td>yes</td>\n",
       "      <td>Month-to-month</td>\n",
       "      <td>Yes</td>\n",
       "      <td>Electronic check</td>\n",
       "      <td>96.05</td>\n",
       "      <td>1740.70</td>\n",
       "      <td>Yes</td>\n",
       "    </tr>\n",
       "    <tr>\n",
       "      <th>4996</th>\n",
       "      <td>female</td>\n",
       "      <td>0</td>\n",
       "      <td>No</td>\n",
       "      <td>No</td>\n",
       "      <td>7.0</td>\n",
       "      <td>yes</td>\n",
       "      <td>yes</td>\n",
       "      <td>Fiber optic</td>\n",
       "      <td>no</td>\n",
       "      <td>no</td>\n",
       "      <td>no</td>\n",
       "      <td>No</td>\n",
       "      <td>no</td>\n",
       "      <td>no</td>\n",
       "      <td>Month-to-month</td>\n",
       "      <td>Yes</td>\n",
       "      <td>Bank transfer (automatic)</td>\n",
       "      <td>75.1</td>\n",
       "      <td>552.95</td>\n",
       "      <td>Yes</td>\n",
       "    </tr>\n",
       "    <tr>\n",
       "      <th>4997</th>\n",
       "      <td>female</td>\n",
       "      <td>0</td>\n",
       "      <td>No</td>\n",
       "      <td>No</td>\n",
       "      <td>47.0</td>\n",
       "      <td>yes</td>\n",
       "      <td>yes</td>\n",
       "      <td>DSL</td>\n",
       "      <td>yes</td>\n",
       "      <td>yes</td>\n",
       "      <td>no</td>\n",
       "      <td>Yes</td>\n",
       "      <td>no</td>\n",
       "      <td>yes</td>\n",
       "      <td>Two year</td>\n",
       "      <td>No</td>\n",
       "      <td>Mailed check</td>\n",
       "      <td>74.05</td>\n",
       "      <td>3496.30</td>\n",
       "      <td>No</td>\n",
       "    </tr>\n",
       "  </tbody>\n",
       "</table>\n",
       "<p>4986 rows × 20 columns</p>\n",
       "</div>"
      ],
      "text/plain": [
       "      Gender  Senior Citizen Partner Dependents  tenure Phone Service  \\\n",
       "0     female               0     Yes         No     1.0            no   \n",
       "1     female               0     Yes         No     1.0            no   \n",
       "2       male               0      No         No    34.0           yes   \n",
       "3       male               0      No         No     2.0           yes   \n",
       "4       male               0      No         No    45.0            no   \n",
       "...      ...             ...     ...        ...     ...           ...   \n",
       "4993    male               0     Yes         No    51.0            no   \n",
       "4994    male               0     Yes        Yes    72.0            no   \n",
       "4995  female               0      No         No    18.0           yes   \n",
       "4996  female               0      No         No     7.0           yes   \n",
       "4997  female               0      No         No    47.0           yes   \n",
       "\n",
       "        Multiple Lines Internet Service Online Security Online Backup  \\\n",
       "0     No phone service              DSL              no           yes   \n",
       "1     No phone service              DSL              no           yes   \n",
       "2                   no              DSL             yes            no   \n",
       "3                   no              DSL             yes           yes   \n",
       "4     No phone service              DSL             yes            no   \n",
       "...                ...              ...             ...           ...   \n",
       "4993  No phone service              DSL              no           yes   \n",
       "4994  No phone service              DSL             yes           yes   \n",
       "4995                no      Fiber optic             yes            no   \n",
       "4996               yes      Fiber optic              no            no   \n",
       "4997               yes              DSL             yes           yes   \n",
       "\n",
       "     Device Protection Tech Support Streaming TV Streaming Movies  \\\n",
       "0                   no           No           no               no   \n",
       "1                   no           No           no               no   \n",
       "2                  yes           No           no               no   \n",
       "3                   no           No           no               no   \n",
       "4                  yes          Yes           no               no   \n",
       "...                ...          ...          ...              ...   \n",
       "4993                no           No           no               no   \n",
       "4994               yes          Yes          yes              yes   \n",
       "4995                no           No          yes              yes   \n",
       "4996                no           No           no               no   \n",
       "4997                no          Yes           no              yes   \n",
       "\n",
       "            Contract Paperless Billing             Payment Method  \\\n",
       "0     Month-to-month               Yes           Electronic check   \n",
       "1     Month-to-month               Yes           Electronic check   \n",
       "2           One year                No               Mailed check   \n",
       "3     Month-to-month               Yes               Mailed check   \n",
       "4           One year                No  Bank transfer (automatic)   \n",
       "...              ...               ...                        ...   \n",
       "4993  Month-to-month               Yes    Credit card (automatic)   \n",
       "4994        Two year               Yes  Bank transfer (automatic)   \n",
       "4995  Month-to-month               Yes           Electronic check   \n",
       "4996  Month-to-month               Yes  Bank transfer (automatic)   \n",
       "4997        Two year                No               Mailed check   \n",
       "\n",
       "     Monthly Charges  Total Charges Churn  \n",
       "0              29.85          29.85    No  \n",
       "1              29.85          29.85    No  \n",
       "2              56.95        1889.50    No  \n",
       "3              53.85         108.15   Yes  \n",
       "4               42.3        1840.75    No  \n",
       "...              ...            ...   ...  \n",
       "4993           30.05        1529.45    No  \n",
       "4994           65.65        4664.50    No  \n",
       "4995           96.05        1740.70   Yes  \n",
       "4996            75.1         552.95   Yes  \n",
       "4997           74.05        3496.30    No  \n",
       "\n",
       "[4986 rows x 20 columns]"
      ]
     },
     "execution_count": 824,
     "metadata": {},
     "output_type": "execute_result"
    }
   ],
   "source": [
    "dfv2"
   ]
  },
  {
   "cell_type": "code",
   "execution_count": 825,
   "id": "03febddd",
   "metadata": {
    "scrolled": true
   },
   "outputs": [
    {
     "data": {
      "text/html": [
       "<div>\n",
       "<style scoped>\n",
       "    .dataframe tbody tr th:only-of-type {\n",
       "        vertical-align: middle;\n",
       "    }\n",
       "\n",
       "    .dataframe tbody tr th {\n",
       "        vertical-align: top;\n",
       "    }\n",
       "\n",
       "    .dataframe thead th {\n",
       "        text-align: right;\n",
       "    }\n",
       "</style>\n",
       "<table border=\"1\" class=\"dataframe\">\n",
       "  <thead>\n",
       "    <tr style=\"text-align: right;\">\n",
       "      <th></th>\n",
       "      <th>Gender</th>\n",
       "      <th>Senior Citizen</th>\n",
       "      <th>Partner</th>\n",
       "      <th>Dependents</th>\n",
       "      <th>tenure</th>\n",
       "      <th>Phone Service</th>\n",
       "      <th>Multiple Lines</th>\n",
       "      <th>Internet Service</th>\n",
       "      <th>Online Security</th>\n",
       "      <th>Online Backup</th>\n",
       "      <th>Device Protection</th>\n",
       "      <th>Tech Support</th>\n",
       "      <th>Streaming TV</th>\n",
       "      <th>Streaming Movies</th>\n",
       "      <th>Contract</th>\n",
       "      <th>Paperless Billing</th>\n",
       "      <th>Payment Method</th>\n",
       "      <th>Monthly Charges</th>\n",
       "      <th>Total Charges</th>\n",
       "      <th>Churn</th>\n",
       "    </tr>\n",
       "  </thead>\n",
       "  <tbody>\n",
       "    <tr>\n",
       "      <th>4774</th>\n",
       "      <td>male</td>\n",
       "      <td>0</td>\n",
       "      <td>No</td>\n",
       "      <td>No</td>\n",
       "      <td>44.0</td>\n",
       "      <td>no</td>\n",
       "      <td>No phone service</td>\n",
       "      <td>DSL</td>\n",
       "      <td>no</td>\n",
       "      <td>yes</td>\n",
       "      <td>yes</td>\n",
       "      <td>No</td>\n",
       "      <td>yes</td>\n",
       "      <td>yes</td>\n",
       "      <td>One year</td>\n",
       "      <td>Yes</td>\n",
       "      <td>Mailed check</td>\n",
       "      <td>53,95</td>\n",
       "      <td>2375.4</td>\n",
       "      <td>Yes</td>\n",
       "    </tr>\n",
       "  </tbody>\n",
       "</table>\n",
       "</div>"
      ],
      "text/plain": [
       "     Gender  Senior Citizen Partner Dependents  tenure Phone Service  \\\n",
       "4774   male               0      No         No    44.0            no   \n",
       "\n",
       "        Multiple Lines Internet Service Online Security Online Backup  \\\n",
       "4774  No phone service              DSL              no           yes   \n",
       "\n",
       "     Device Protection Tech Support Streaming TV Streaming Movies  Contract  \\\n",
       "4774               yes           No          yes              yes  One year   \n",
       "\n",
       "     Paperless Billing Payment Method Monthly Charges  Total Charges Churn  \n",
       "4774               Yes   Mailed check           53,95         2375.4   Yes  "
      ]
     },
     "execution_count": 825,
     "metadata": {},
     "output_type": "execute_result"
    }
   ],
   "source": [
    "def is_float(x):\n",
    "    try:\n",
    "        float(x)\n",
    "    except:\n",
    "        return False\n",
    "    return True\n",
    "dfv2[~dfv2['Monthly Charges'].apply(is_float)]\n"
   ]
  },
  {
   "cell_type": "code",
   "execution_count": 826,
   "id": "c9c1ff00",
   "metadata": {},
   "outputs": [
    {
     "name": "stderr",
     "output_type": "stream",
     "text": [
      "C:\\Users\\sraks\\AppData\\Local\\Temp\\ipykernel_21536\\723641959.py:1: SettingWithCopyWarning: \n",
      "A value is trying to be set on a copy of a slice from a DataFrame\n",
      "\n",
      "See the caveats in the documentation: https://pandas.pydata.org/pandas-docs/stable/user_guide/indexing.html#returning-a-view-versus-a-copy\n",
      "  dfv2['Monthly Charges'].loc[4774] = 53.95\n"
     ]
    },
    {
     "data": {
      "text/plain": [
       "53.95"
      ]
     },
     "execution_count": 826,
     "metadata": {},
     "output_type": "execute_result"
    }
   ],
   "source": [
    "dfv2['Monthly Charges'].loc[4774] = 53.95\n",
    "dfv2['Monthly Charges'].loc[4774]"
   ]
  },
  {
   "cell_type": "code",
   "execution_count": 827,
   "id": "0c25b6c6",
   "metadata": {
    "scrolled": true
   },
   "outputs": [
    {
     "data": {
      "text/html": [
       "<div>\n",
       "<style scoped>\n",
       "    .dataframe tbody tr th:only-of-type {\n",
       "        vertical-align: middle;\n",
       "    }\n",
       "\n",
       "    .dataframe tbody tr th {\n",
       "        vertical-align: top;\n",
       "    }\n",
       "\n",
       "    .dataframe thead th {\n",
       "        text-align: right;\n",
       "    }\n",
       "</style>\n",
       "<table border=\"1\" class=\"dataframe\">\n",
       "  <thead>\n",
       "    <tr style=\"text-align: right;\">\n",
       "      <th></th>\n",
       "      <th>Gender</th>\n",
       "      <th>Senior Citizen</th>\n",
       "      <th>Partner</th>\n",
       "      <th>Dependents</th>\n",
       "      <th>tenure</th>\n",
       "      <th>Phone Service</th>\n",
       "      <th>Multiple Lines</th>\n",
       "      <th>Internet Service</th>\n",
       "      <th>Online Security</th>\n",
       "      <th>Online Backup</th>\n",
       "      <th>Device Protection</th>\n",
       "      <th>Tech Support</th>\n",
       "      <th>Streaming TV</th>\n",
       "      <th>Streaming Movies</th>\n",
       "      <th>Contract</th>\n",
       "      <th>Paperless Billing</th>\n",
       "      <th>Payment Method</th>\n",
       "      <th>Monthly Charges</th>\n",
       "      <th>Total Charges</th>\n",
       "      <th>Churn</th>\n",
       "    </tr>\n",
       "  </thead>\n",
       "  <tbody>\n",
       "    <tr>\n",
       "      <th>0</th>\n",
       "      <td>0</td>\n",
       "      <td>0</td>\n",
       "      <td>1</td>\n",
       "      <td>0</td>\n",
       "      <td>1.0</td>\n",
       "      <td>0</td>\n",
       "      <td>0</td>\n",
       "      <td>0</td>\n",
       "      <td>1</td>\n",
       "      <td>2</td>\n",
       "      <td>1</td>\n",
       "      <td>0</td>\n",
       "      <td>1</td>\n",
       "      <td>1</td>\n",
       "      <td>0</td>\n",
       "      <td>1</td>\n",
       "      <td>2</td>\n",
       "      <td>29.85</td>\n",
       "      <td>29.85</td>\n",
       "      <td>0</td>\n",
       "    </tr>\n",
       "    <tr>\n",
       "      <th>1</th>\n",
       "      <td>0</td>\n",
       "      <td>0</td>\n",
       "      <td>1</td>\n",
       "      <td>0</td>\n",
       "      <td>1.0</td>\n",
       "      <td>0</td>\n",
       "      <td>0</td>\n",
       "      <td>0</td>\n",
       "      <td>1</td>\n",
       "      <td>2</td>\n",
       "      <td>1</td>\n",
       "      <td>0</td>\n",
       "      <td>1</td>\n",
       "      <td>1</td>\n",
       "      <td>0</td>\n",
       "      <td>1</td>\n",
       "      <td>2</td>\n",
       "      <td>29.85</td>\n",
       "      <td>29.85</td>\n",
       "      <td>0</td>\n",
       "    </tr>\n",
       "    <tr>\n",
       "      <th>2</th>\n",
       "      <td>1</td>\n",
       "      <td>0</td>\n",
       "      <td>0</td>\n",
       "      <td>0</td>\n",
       "      <td>34.0</td>\n",
       "      <td>1</td>\n",
       "      <td>1</td>\n",
       "      <td>0</td>\n",
       "      <td>2</td>\n",
       "      <td>1</td>\n",
       "      <td>2</td>\n",
       "      <td>0</td>\n",
       "      <td>1</td>\n",
       "      <td>1</td>\n",
       "      <td>1</td>\n",
       "      <td>0</td>\n",
       "      <td>3</td>\n",
       "      <td>56.95</td>\n",
       "      <td>1889.50</td>\n",
       "      <td>0</td>\n",
       "    </tr>\n",
       "    <tr>\n",
       "      <th>3</th>\n",
       "      <td>1</td>\n",
       "      <td>0</td>\n",
       "      <td>0</td>\n",
       "      <td>0</td>\n",
       "      <td>2.0</td>\n",
       "      <td>1</td>\n",
       "      <td>1</td>\n",
       "      <td>0</td>\n",
       "      <td>2</td>\n",
       "      <td>2</td>\n",
       "      <td>1</td>\n",
       "      <td>0</td>\n",
       "      <td>1</td>\n",
       "      <td>1</td>\n",
       "      <td>0</td>\n",
       "      <td>1</td>\n",
       "      <td>3</td>\n",
       "      <td>53.85</td>\n",
       "      <td>108.15</td>\n",
       "      <td>1</td>\n",
       "    </tr>\n",
       "    <tr>\n",
       "      <th>4</th>\n",
       "      <td>1</td>\n",
       "      <td>0</td>\n",
       "      <td>0</td>\n",
       "      <td>0</td>\n",
       "      <td>45.0</td>\n",
       "      <td>0</td>\n",
       "      <td>0</td>\n",
       "      <td>0</td>\n",
       "      <td>2</td>\n",
       "      <td>1</td>\n",
       "      <td>2</td>\n",
       "      <td>2</td>\n",
       "      <td>1</td>\n",
       "      <td>1</td>\n",
       "      <td>1</td>\n",
       "      <td>0</td>\n",
       "      <td>0</td>\n",
       "      <td>42.3</td>\n",
       "      <td>1840.75</td>\n",
       "      <td>0</td>\n",
       "    </tr>\n",
       "  </tbody>\n",
       "</table>\n",
       "</div>"
      ],
      "text/plain": [
       "   Gender  Senior Citizen  Partner  Dependents  tenure  Phone Service  \\\n",
       "0       0               0        1           0     1.0              0   \n",
       "1       0               0        1           0     1.0              0   \n",
       "2       1               0        0           0    34.0              1   \n",
       "3       1               0        0           0     2.0              1   \n",
       "4       1               0        0           0    45.0              0   \n",
       "\n",
       "   Multiple Lines  Internet Service  Online Security  Online Backup  \\\n",
       "0               0                 0                1              2   \n",
       "1               0                 0                1              2   \n",
       "2               1                 0                2              1   \n",
       "3               1                 0                2              2   \n",
       "4               0                 0                2              1   \n",
       "\n",
       "   Device Protection  Tech Support  Streaming TV  Streaming Movies  Contract  \\\n",
       "0                  1             0             1                 1         0   \n",
       "1                  1             0             1                 1         0   \n",
       "2                  2             0             1                 1         1   \n",
       "3                  1             0             1                 1         0   \n",
       "4                  2             2             1                 1         1   \n",
       "\n",
       "   Paperless Billing  Payment Method Monthly Charges  Total Charges  Churn  \n",
       "0                  1               2           29.85          29.85      0  \n",
       "1                  1               2           29.85          29.85      0  \n",
       "2                  0               3           56.95        1889.50      0  \n",
       "3                  1               3           53.85         108.15      1  \n",
       "4                  0               0            42.3        1840.75      0  "
      ]
     },
     "execution_count": 827,
     "metadata": {},
     "output_type": "execute_result"
    }
   ],
   "source": [
    "from sklearn.preprocessing import LabelEncoder\n",
    "le = LabelEncoder()\n",
    "dfv2.Gender = le.fit_transform(dfv2.Gender)\n",
    "dfv2.Partner = le.fit_transform(dfv2.Partner)\n",
    "dfv2.Dependents = le.fit_transform(dfv2.Dependents)\n",
    "dfv2['Phone Service']=le.fit_transform(dfv2['Phone Service'])\n",
    "dfv2['Multiple Lines']=le.fit_transform(dfv2['Multiple Lines'])\n",
    "dfv2['Internet Service']=le.fit_transform(dfv2['Internet Service'])\n",
    "dfv2['Online Security']=le.fit_transform(dfv2['Online Security'])\n",
    "dfv2['Online Backup']=le.fit_transform(dfv2['Online Backup'])\n",
    "dfv2['Device Protection']=le.fit_transform(dfv2['Device Protection'])\n",
    "dfv2['Tech Support']=le.fit_transform(dfv2['Tech Support'])\n",
    "dfv2['Streaming TV']=le.fit_transform(dfv2['Streaming TV'])\n",
    "dfv2['Streaming Movies']=le.fit_transform(dfv2['Streaming Movies'])\n",
    "dfv2['Contract']=le.fit_transform(dfv2['Contract'])\n",
    "dfv2['Paperless Billing']=le.fit_transform(dfv2['Paperless Billing'])\n",
    "dfv2['Payment Method']=le.fit_transform(dfv2['Payment Method'])\n",
    "dfv2['Churn']=le.fit_transform(dfv2['Churn'])\n",
    "dfv2.head()"
   ]
  },
  {
   "cell_type": "code",
   "execution_count": 828,
   "id": "bbfdddfc",
   "metadata": {},
   "outputs": [
    {
     "data": {
      "text/plain": [
       "(998, 3988)"
      ]
     },
     "execution_count": 828,
     "metadata": {},
     "output_type": "execute_result"
    }
   ],
   "source": [
    "from sklearn.model_selection import train_test_split\n",
    "x_train, x_test, y_train, y_test = train_test_split(dfv2.drop(['Churn'], axis = \"columns\"), dfv2.Churn, test_size=0.2)\n",
    "len(x_test), len(x_train)"
   ]
  },
  {
   "cell_type": "code",
   "execution_count": 829,
   "id": "56846d2c",
   "metadata": {},
   "outputs": [
    {
     "name": "stderr",
     "output_type": "stream",
     "text": [
      "C:\\Users\\sraks\\anaconda3\\Lib\\site-packages\\sklearn\\linear_model\\_logistic.py:460: ConvergenceWarning: lbfgs failed to converge (status=1):\n",
      "STOP: TOTAL NO. of ITERATIONS REACHED LIMIT.\n",
      "\n",
      "Increase the number of iterations (max_iter) or scale the data as shown in:\n",
      "    https://scikit-learn.org/stable/modules/preprocessing.html\n",
      "Please also refer to the documentation for alternative solver options:\n",
      "    https://scikit-learn.org/stable/modules/linear_model.html#logistic-regression\n",
      "  n_iter_i = _check_optimize_result(\n"
     ]
    },
    {
     "data": {
      "text/html": [
       "<style>#sk-container-id-17 {color: black;}#sk-container-id-17 pre{padding: 0;}#sk-container-id-17 div.sk-toggleable {background-color: white;}#sk-container-id-17 label.sk-toggleable__label {cursor: pointer;display: block;width: 100%;margin-bottom: 0;padding: 0.3em;box-sizing: border-box;text-align: center;}#sk-container-id-17 label.sk-toggleable__label-arrow:before {content: \"▸\";float: left;margin-right: 0.25em;color: #696969;}#sk-container-id-17 label.sk-toggleable__label-arrow:hover:before {color: black;}#sk-container-id-17 div.sk-estimator:hover label.sk-toggleable__label-arrow:before {color: black;}#sk-container-id-17 div.sk-toggleable__content {max-height: 0;max-width: 0;overflow: hidden;text-align: left;background-color: #f0f8ff;}#sk-container-id-17 div.sk-toggleable__content pre {margin: 0.2em;color: black;border-radius: 0.25em;background-color: #f0f8ff;}#sk-container-id-17 input.sk-toggleable__control:checked~div.sk-toggleable__content {max-height: 200px;max-width: 100%;overflow: auto;}#sk-container-id-17 input.sk-toggleable__control:checked~label.sk-toggleable__label-arrow:before {content: \"▾\";}#sk-container-id-17 div.sk-estimator input.sk-toggleable__control:checked~label.sk-toggleable__label {background-color: #d4ebff;}#sk-container-id-17 div.sk-label input.sk-toggleable__control:checked~label.sk-toggleable__label {background-color: #d4ebff;}#sk-container-id-17 input.sk-hidden--visually {border: 0;clip: rect(1px 1px 1px 1px);clip: rect(1px, 1px, 1px, 1px);height: 1px;margin: -1px;overflow: hidden;padding: 0;position: absolute;width: 1px;}#sk-container-id-17 div.sk-estimator {font-family: monospace;background-color: #f0f8ff;border: 1px dotted black;border-radius: 0.25em;box-sizing: border-box;margin-bottom: 0.5em;}#sk-container-id-17 div.sk-estimator:hover {background-color: #d4ebff;}#sk-container-id-17 div.sk-parallel-item::after {content: \"\";width: 100%;border-bottom: 1px solid gray;flex-grow: 1;}#sk-container-id-17 div.sk-label:hover label.sk-toggleable__label {background-color: #d4ebff;}#sk-container-id-17 div.sk-serial::before {content: \"\";position: absolute;border-left: 1px solid gray;box-sizing: border-box;top: 0;bottom: 0;left: 50%;z-index: 0;}#sk-container-id-17 div.sk-serial {display: flex;flex-direction: column;align-items: center;background-color: white;padding-right: 0.2em;padding-left: 0.2em;position: relative;}#sk-container-id-17 div.sk-item {position: relative;z-index: 1;}#sk-container-id-17 div.sk-parallel {display: flex;align-items: stretch;justify-content: center;background-color: white;position: relative;}#sk-container-id-17 div.sk-item::before, #sk-container-id-17 div.sk-parallel-item::before {content: \"\";position: absolute;border-left: 1px solid gray;box-sizing: border-box;top: 0;bottom: 0;left: 50%;z-index: -1;}#sk-container-id-17 div.sk-parallel-item {display: flex;flex-direction: column;z-index: 1;position: relative;background-color: white;}#sk-container-id-17 div.sk-parallel-item:first-child::after {align-self: flex-end;width: 50%;}#sk-container-id-17 div.sk-parallel-item:last-child::after {align-self: flex-start;width: 50%;}#sk-container-id-17 div.sk-parallel-item:only-child::after {width: 0;}#sk-container-id-17 div.sk-dashed-wrapped {border: 1px dashed gray;margin: 0 0.4em 0.5em 0.4em;box-sizing: border-box;padding-bottom: 0.4em;background-color: white;}#sk-container-id-17 div.sk-label label {font-family: monospace;font-weight: bold;display: inline-block;line-height: 1.2em;}#sk-container-id-17 div.sk-label-container {text-align: center;}#sk-container-id-17 div.sk-container {/* jupyter's `normalize.less` sets `[hidden] { display: none; }` but bootstrap.min.css set `[hidden] { display: none !important; }` so we also need the `!important` here to be able to override the default hidden behavior on the sphinx rendered scikit-learn.org. See: https://github.com/scikit-learn/scikit-learn/issues/21755 */display: inline-block !important;position: relative;}#sk-container-id-17 div.sk-text-repr-fallback {display: none;}</style><div id=\"sk-container-id-17\" class=\"sk-top-container\"><div class=\"sk-text-repr-fallback\"><pre>LogisticRegression()</pre><b>In a Jupyter environment, please rerun this cell to show the HTML representation or trust the notebook. <br />On GitHub, the HTML representation is unable to render, please try loading this page with nbviewer.org.</b></div><div class=\"sk-container\" hidden><div class=\"sk-item\"><div class=\"sk-estimator sk-toggleable\"><input class=\"sk-toggleable__control sk-hidden--visually\" id=\"sk-estimator-id-17\" type=\"checkbox\" checked><label for=\"sk-estimator-id-17\" class=\"sk-toggleable__label sk-toggleable__label-arrow\">LogisticRegression</label><div class=\"sk-toggleable__content\"><pre>LogisticRegression()</pre></div></div></div></div></div>"
      ],
      "text/plain": [
       "LogisticRegression()"
      ]
     },
     "execution_count": 829,
     "metadata": {},
     "output_type": "execute_result"
    }
   ],
   "source": [
    "from sklearn.linear_model import LogisticRegression\n",
    "reg = LogisticRegression()\n",
    "reg.fit(x_train, y_train)"
   ]
  },
  {
   "cell_type": "code",
   "execution_count": 830,
   "id": "6becc8b0",
   "metadata": {},
   "outputs": [
    {
     "data": {
      "text/plain": [
       "0.814629258517034"
      ]
     },
     "execution_count": 830,
     "metadata": {},
     "output_type": "execute_result"
    }
   ],
   "source": [
    "reg.score(x_test, y_test)"
   ]
  },
  {
   "cell_type": "code",
   "execution_count": 831,
   "id": "306e61a6",
   "metadata": {
    "scrolled": true
   },
   "outputs": [
    {
     "data": {
      "text/html": [
       "<style>#sk-container-id-18 {color: black;}#sk-container-id-18 pre{padding: 0;}#sk-container-id-18 div.sk-toggleable {background-color: white;}#sk-container-id-18 label.sk-toggleable__label {cursor: pointer;display: block;width: 100%;margin-bottom: 0;padding: 0.3em;box-sizing: border-box;text-align: center;}#sk-container-id-18 label.sk-toggleable__label-arrow:before {content: \"▸\";float: left;margin-right: 0.25em;color: #696969;}#sk-container-id-18 label.sk-toggleable__label-arrow:hover:before {color: black;}#sk-container-id-18 div.sk-estimator:hover label.sk-toggleable__label-arrow:before {color: black;}#sk-container-id-18 div.sk-toggleable__content {max-height: 0;max-width: 0;overflow: hidden;text-align: left;background-color: #f0f8ff;}#sk-container-id-18 div.sk-toggleable__content pre {margin: 0.2em;color: black;border-radius: 0.25em;background-color: #f0f8ff;}#sk-container-id-18 input.sk-toggleable__control:checked~div.sk-toggleable__content {max-height: 200px;max-width: 100%;overflow: auto;}#sk-container-id-18 input.sk-toggleable__control:checked~label.sk-toggleable__label-arrow:before {content: \"▾\";}#sk-container-id-18 div.sk-estimator input.sk-toggleable__control:checked~label.sk-toggleable__label {background-color: #d4ebff;}#sk-container-id-18 div.sk-label input.sk-toggleable__control:checked~label.sk-toggleable__label {background-color: #d4ebff;}#sk-container-id-18 input.sk-hidden--visually {border: 0;clip: rect(1px 1px 1px 1px);clip: rect(1px, 1px, 1px, 1px);height: 1px;margin: -1px;overflow: hidden;padding: 0;position: absolute;width: 1px;}#sk-container-id-18 div.sk-estimator {font-family: monospace;background-color: #f0f8ff;border: 1px dotted black;border-radius: 0.25em;box-sizing: border-box;margin-bottom: 0.5em;}#sk-container-id-18 div.sk-estimator:hover {background-color: #d4ebff;}#sk-container-id-18 div.sk-parallel-item::after {content: \"\";width: 100%;border-bottom: 1px solid gray;flex-grow: 1;}#sk-container-id-18 div.sk-label:hover label.sk-toggleable__label {background-color: #d4ebff;}#sk-container-id-18 div.sk-serial::before {content: \"\";position: absolute;border-left: 1px solid gray;box-sizing: border-box;top: 0;bottom: 0;left: 50%;z-index: 0;}#sk-container-id-18 div.sk-serial {display: flex;flex-direction: column;align-items: center;background-color: white;padding-right: 0.2em;padding-left: 0.2em;position: relative;}#sk-container-id-18 div.sk-item {position: relative;z-index: 1;}#sk-container-id-18 div.sk-parallel {display: flex;align-items: stretch;justify-content: center;background-color: white;position: relative;}#sk-container-id-18 div.sk-item::before, #sk-container-id-18 div.sk-parallel-item::before {content: \"\";position: absolute;border-left: 1px solid gray;box-sizing: border-box;top: 0;bottom: 0;left: 50%;z-index: -1;}#sk-container-id-18 div.sk-parallel-item {display: flex;flex-direction: column;z-index: 1;position: relative;background-color: white;}#sk-container-id-18 div.sk-parallel-item:first-child::after {align-self: flex-end;width: 50%;}#sk-container-id-18 div.sk-parallel-item:last-child::after {align-self: flex-start;width: 50%;}#sk-container-id-18 div.sk-parallel-item:only-child::after {width: 0;}#sk-container-id-18 div.sk-dashed-wrapped {border: 1px dashed gray;margin: 0 0.4em 0.5em 0.4em;box-sizing: border-box;padding-bottom: 0.4em;background-color: white;}#sk-container-id-18 div.sk-label label {font-family: monospace;font-weight: bold;display: inline-block;line-height: 1.2em;}#sk-container-id-18 div.sk-label-container {text-align: center;}#sk-container-id-18 div.sk-container {/* jupyter's `normalize.less` sets `[hidden] { display: none; }` but bootstrap.min.css set `[hidden] { display: none !important; }` so we also need the `!important` here to be able to override the default hidden behavior on the sphinx rendered scikit-learn.org. See: https://github.com/scikit-learn/scikit-learn/issues/21755 */display: inline-block !important;position: relative;}#sk-container-id-18 div.sk-text-repr-fallback {display: none;}</style><div id=\"sk-container-id-18\" class=\"sk-top-container\"><div class=\"sk-text-repr-fallback\"><pre>DecisionTreeClassifier()</pre><b>In a Jupyter environment, please rerun this cell to show the HTML representation or trust the notebook. <br />On GitHub, the HTML representation is unable to render, please try loading this page with nbviewer.org.</b></div><div class=\"sk-container\" hidden><div class=\"sk-item\"><div class=\"sk-estimator sk-toggleable\"><input class=\"sk-toggleable__control sk-hidden--visually\" id=\"sk-estimator-id-18\" type=\"checkbox\" checked><label for=\"sk-estimator-id-18\" class=\"sk-toggleable__label sk-toggleable__label-arrow\">DecisionTreeClassifier</label><div class=\"sk-toggleable__content\"><pre>DecisionTreeClassifier()</pre></div></div></div></div></div>"
      ],
      "text/plain": [
       "DecisionTreeClassifier()"
      ]
     },
     "execution_count": 831,
     "metadata": {},
     "output_type": "execute_result"
    }
   ],
   "source": [
    "from sklearn.tree import DecisionTreeClassifier\n",
    "dec = DecisionTreeClassifier()\n",
    "dec.fit(x_train, y_train)"
   ]
  },
  {
   "cell_type": "code",
   "execution_count": 832,
   "id": "a9330f20",
   "metadata": {},
   "outputs": [
    {
     "data": {
      "text/plain": [
       "0.7244488977955912"
      ]
     },
     "execution_count": 832,
     "metadata": {},
     "output_type": "execute_result"
    }
   ],
   "source": [
    "dec.score(x_test, y_test)"
   ]
  },
  {
   "cell_type": "code",
   "execution_count": 833,
   "id": "0a53df8d",
   "metadata": {},
   "outputs": [
    {
     "data": {
      "text/html": [
       "<style>#sk-container-id-19 {color: black;}#sk-container-id-19 pre{padding: 0;}#sk-container-id-19 div.sk-toggleable {background-color: white;}#sk-container-id-19 label.sk-toggleable__label {cursor: pointer;display: block;width: 100%;margin-bottom: 0;padding: 0.3em;box-sizing: border-box;text-align: center;}#sk-container-id-19 label.sk-toggleable__label-arrow:before {content: \"▸\";float: left;margin-right: 0.25em;color: #696969;}#sk-container-id-19 label.sk-toggleable__label-arrow:hover:before {color: black;}#sk-container-id-19 div.sk-estimator:hover label.sk-toggleable__label-arrow:before {color: black;}#sk-container-id-19 div.sk-toggleable__content {max-height: 0;max-width: 0;overflow: hidden;text-align: left;background-color: #f0f8ff;}#sk-container-id-19 div.sk-toggleable__content pre {margin: 0.2em;color: black;border-radius: 0.25em;background-color: #f0f8ff;}#sk-container-id-19 input.sk-toggleable__control:checked~div.sk-toggleable__content {max-height: 200px;max-width: 100%;overflow: auto;}#sk-container-id-19 input.sk-toggleable__control:checked~label.sk-toggleable__label-arrow:before {content: \"▾\";}#sk-container-id-19 div.sk-estimator input.sk-toggleable__control:checked~label.sk-toggleable__label {background-color: #d4ebff;}#sk-container-id-19 div.sk-label input.sk-toggleable__control:checked~label.sk-toggleable__label {background-color: #d4ebff;}#sk-container-id-19 input.sk-hidden--visually {border: 0;clip: rect(1px 1px 1px 1px);clip: rect(1px, 1px, 1px, 1px);height: 1px;margin: -1px;overflow: hidden;padding: 0;position: absolute;width: 1px;}#sk-container-id-19 div.sk-estimator {font-family: monospace;background-color: #f0f8ff;border: 1px dotted black;border-radius: 0.25em;box-sizing: border-box;margin-bottom: 0.5em;}#sk-container-id-19 div.sk-estimator:hover {background-color: #d4ebff;}#sk-container-id-19 div.sk-parallel-item::after {content: \"\";width: 100%;border-bottom: 1px solid gray;flex-grow: 1;}#sk-container-id-19 div.sk-label:hover label.sk-toggleable__label {background-color: #d4ebff;}#sk-container-id-19 div.sk-serial::before {content: \"\";position: absolute;border-left: 1px solid gray;box-sizing: border-box;top: 0;bottom: 0;left: 50%;z-index: 0;}#sk-container-id-19 div.sk-serial {display: flex;flex-direction: column;align-items: center;background-color: white;padding-right: 0.2em;padding-left: 0.2em;position: relative;}#sk-container-id-19 div.sk-item {position: relative;z-index: 1;}#sk-container-id-19 div.sk-parallel {display: flex;align-items: stretch;justify-content: center;background-color: white;position: relative;}#sk-container-id-19 div.sk-item::before, #sk-container-id-19 div.sk-parallel-item::before {content: \"\";position: absolute;border-left: 1px solid gray;box-sizing: border-box;top: 0;bottom: 0;left: 50%;z-index: -1;}#sk-container-id-19 div.sk-parallel-item {display: flex;flex-direction: column;z-index: 1;position: relative;background-color: white;}#sk-container-id-19 div.sk-parallel-item:first-child::after {align-self: flex-end;width: 50%;}#sk-container-id-19 div.sk-parallel-item:last-child::after {align-self: flex-start;width: 50%;}#sk-container-id-19 div.sk-parallel-item:only-child::after {width: 0;}#sk-container-id-19 div.sk-dashed-wrapped {border: 1px dashed gray;margin: 0 0.4em 0.5em 0.4em;box-sizing: border-box;padding-bottom: 0.4em;background-color: white;}#sk-container-id-19 div.sk-label label {font-family: monospace;font-weight: bold;display: inline-block;line-height: 1.2em;}#sk-container-id-19 div.sk-label-container {text-align: center;}#sk-container-id-19 div.sk-container {/* jupyter's `normalize.less` sets `[hidden] { display: none; }` but bootstrap.min.css set `[hidden] { display: none !important; }` so we also need the `!important` here to be able to override the default hidden behavior on the sphinx rendered scikit-learn.org. See: https://github.com/scikit-learn/scikit-learn/issues/21755 */display: inline-block !important;position: relative;}#sk-container-id-19 div.sk-text-repr-fallback {display: none;}</style><div id=\"sk-container-id-19\" class=\"sk-top-container\"><div class=\"sk-text-repr-fallback\"><pre>SVC()</pre><b>In a Jupyter environment, please rerun this cell to show the HTML representation or trust the notebook. <br />On GitHub, the HTML representation is unable to render, please try loading this page with nbviewer.org.</b></div><div class=\"sk-container\" hidden><div class=\"sk-item\"><div class=\"sk-estimator sk-toggleable\"><input class=\"sk-toggleable__control sk-hidden--visually\" id=\"sk-estimator-id-19\" type=\"checkbox\" checked><label for=\"sk-estimator-id-19\" class=\"sk-toggleable__label sk-toggleable__label-arrow\">SVC</label><div class=\"sk-toggleable__content\"><pre>SVC()</pre></div></div></div></div></div>"
      ],
      "text/plain": [
       "SVC()"
      ]
     },
     "execution_count": 833,
     "metadata": {},
     "output_type": "execute_result"
    }
   ],
   "source": [
    "from sklearn.svm import SVC\n",
    "S = SVC()\n",
    "S.fit(x_train, y_train)"
   ]
  },
  {
   "cell_type": "code",
   "execution_count": 834,
   "id": "043f411e",
   "metadata": {},
   "outputs": [
    {
     "data": {
      "text/plain": [
       "0.7244488977955912"
      ]
     },
     "execution_count": 834,
     "metadata": {},
     "output_type": "execute_result"
    }
   ],
   "source": [
    "dec.score(x_test, y_test)"
   ]
  },
  {
   "cell_type": "code",
   "execution_count": 835,
   "id": "64567ee8",
   "metadata": {},
   "outputs": [
    {
     "data": {
      "text/plain": [
       "0.7855711422845691"
      ]
     },
     "execution_count": 835,
     "metadata": {},
     "output_type": "execute_result"
    }
   ],
   "source": [
    "from sklearn.ensemble import RandomForestClassifier\n",
    "rf = RandomForestClassifier(n_estimators = 5)\n",
    "rf.fit(x_train, y_train)\n",
    "rf.score(x_test, y_test)"
   ]
  }
 ],
 "metadata": {
  "kernelspec": {
   "display_name": "Python 3 (ipykernel)",
   "language": "python",
   "name": "python3"
  },
  "language_info": {
   "codemirror_mode": {
    "name": "ipython",
    "version": 3
   },
   "file_extension": ".py",
   "mimetype": "text/x-python",
   "name": "python",
   "nbconvert_exporter": "python",
   "pygments_lexer": "ipython3",
   "version": "3.11.5"
  }
 },
 "nbformat": 4,
 "nbformat_minor": 5
}
