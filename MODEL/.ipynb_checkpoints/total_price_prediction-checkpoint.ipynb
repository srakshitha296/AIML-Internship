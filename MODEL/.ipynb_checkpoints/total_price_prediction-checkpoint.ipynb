{
 "cells": [
  {
   "cell_type": "markdown",
   "id": "697333f3",
   "metadata": {},
   "source": [
    "# <center>Total Price Prediction</center>"
   ]
  },
  {
   "cell_type": "code",
   "execution_count": 1,
   "id": "c370a210",
   "metadata": {},
   "outputs": [],
   "source": [
    "#import libraries\n",
    "import pandas as pd\n",
    "import numpy as np"
   ]
  },
  {
   "cell_type": "markdown",
   "id": "c512cdb8",
   "metadata": {},
   "source": [
    "### Load the data"
   ]
  },
  {
   "cell_type": "code",
   "execution_count": 2,
   "id": "1e5b85df",
   "metadata": {
    "scrolled": false
   },
   "outputs": [
    {
     "data": {
      "text/html": [
       "<div>\n",
       "<style scoped>\n",
       "    .dataframe tbody tr th:only-of-type {\n",
       "        vertical-align: middle;\n",
       "    }\n",
       "\n",
       "    .dataframe tbody tr th {\n",
       "        vertical-align: top;\n",
       "    }\n",
       "\n",
       "    .dataframe thead th {\n",
       "        text-align: right;\n",
       "    }\n",
       "</style>\n",
       "<table border=\"1\" class=\"dataframe\">\n",
       "  <thead>\n",
       "    <tr style=\"text-align: right;\">\n",
       "      <th></th>\n",
       "      <th>Customer ID</th>\n",
       "      <th>Country</th>\n",
       "      <th>State</th>\n",
       "      <th>Postal Code</th>\n",
       "      <th>Gender</th>\n",
       "      <th>Senior Citizen</th>\n",
       "      <th>Partner</th>\n",
       "      <th>Dependents</th>\n",
       "      <th>tenure</th>\n",
       "      <th>Phone Service</th>\n",
       "      <th>...</th>\n",
       "      <th>Device Protection</th>\n",
       "      <th>Tech Support</th>\n",
       "      <th>Streaming TV</th>\n",
       "      <th>Streaming Movies</th>\n",
       "      <th>Contract</th>\n",
       "      <th>Paperless Billing</th>\n",
       "      <th>Payment Method</th>\n",
       "      <th>Monthly Charges</th>\n",
       "      <th>Total Charges</th>\n",
       "      <th>Churn</th>\n",
       "    </tr>\n",
       "  </thead>\n",
       "  <tbody>\n",
       "    <tr>\n",
       "      <th>0</th>\n",
       "      <td>7590-VHVEA</td>\n",
       "      <td>Australia</td>\n",
       "      <td>New South Wales</td>\n",
       "      <td>2000</td>\n",
       "      <td>Female</td>\n",
       "      <td>0</td>\n",
       "      <td>Yes</td>\n",
       "      <td>No</td>\n",
       "      <td>1.0</td>\n",
       "      <td>No</td>\n",
       "      <td>...</td>\n",
       "      <td>No</td>\n",
       "      <td>No</td>\n",
       "      <td>No</td>\n",
       "      <td>No</td>\n",
       "      <td>Month-to-month</td>\n",
       "      <td>Yes</td>\n",
       "      <td>Electronic check</td>\n",
       "      <td>29.85</td>\n",
       "      <td>29.85</td>\n",
       "      <td>No</td>\n",
       "    </tr>\n",
       "    <tr>\n",
       "      <th>1</th>\n",
       "      <td>7590-VHVEG</td>\n",
       "      <td>Australia</td>\n",
       "      <td>New South Wales</td>\n",
       "      <td>2035</td>\n",
       "      <td>Female</td>\n",
       "      <td>0</td>\n",
       "      <td>Yes</td>\n",
       "      <td>No</td>\n",
       "      <td>1.0</td>\n",
       "      <td>No</td>\n",
       "      <td>...</td>\n",
       "      <td>No</td>\n",
       "      <td>No</td>\n",
       "      <td>No</td>\n",
       "      <td>No</td>\n",
       "      <td>Month-to-month</td>\n",
       "      <td>Yes</td>\n",
       "      <td>Electronic check</td>\n",
       "      <td>29.85</td>\n",
       "      <td>29.85</td>\n",
       "      <td>No</td>\n",
       "    </tr>\n",
       "    <tr>\n",
       "      <th>2</th>\n",
       "      <td>5575-GNVDE</td>\n",
       "      <td>Australia</td>\n",
       "      <td>New South Wales</td>\n",
       "      <td>2014</td>\n",
       "      <td>Male</td>\n",
       "      <td>0</td>\n",
       "      <td>No</td>\n",
       "      <td>No</td>\n",
       "      <td>34.0</td>\n",
       "      <td>Yes</td>\n",
       "      <td>...</td>\n",
       "      <td>Yes</td>\n",
       "      <td>No</td>\n",
       "      <td>No</td>\n",
       "      <td>No</td>\n",
       "      <td>One year</td>\n",
       "      <td>No</td>\n",
       "      <td>Mailed check</td>\n",
       "      <td>56.95</td>\n",
       "      <td>1889.50</td>\n",
       "      <td>No</td>\n",
       "    </tr>\n",
       "    <tr>\n",
       "      <th>3</th>\n",
       "      <td>3668-QPYBK</td>\n",
       "      <td>Australia</td>\n",
       "      <td>New South Wales</td>\n",
       "      <td>2041</td>\n",
       "      <td>Male</td>\n",
       "      <td>0</td>\n",
       "      <td>No</td>\n",
       "      <td>No</td>\n",
       "      <td>2.0</td>\n",
       "      <td>Yes</td>\n",
       "      <td>...</td>\n",
       "      <td>No</td>\n",
       "      <td>No</td>\n",
       "      <td>No</td>\n",
       "      <td>No</td>\n",
       "      <td>Month-to-month</td>\n",
       "      <td>Yes</td>\n",
       "      <td>Mailed check</td>\n",
       "      <td>53.85</td>\n",
       "      <td>108.15</td>\n",
       "      <td>Yes</td>\n",
       "    </tr>\n",
       "    <tr>\n",
       "      <th>4</th>\n",
       "      <td>7795-CFOCW</td>\n",
       "      <td>Australia</td>\n",
       "      <td>New South Wales</td>\n",
       "      <td>2050</td>\n",
       "      <td>Male</td>\n",
       "      <td>0</td>\n",
       "      <td>No</td>\n",
       "      <td>No</td>\n",
       "      <td>45.0</td>\n",
       "      <td>No</td>\n",
       "      <td>...</td>\n",
       "      <td>Yes</td>\n",
       "      <td>Yes</td>\n",
       "      <td>No</td>\n",
       "      <td>No</td>\n",
       "      <td>One year</td>\n",
       "      <td>No</td>\n",
       "      <td>Bank transfer (automatic)</td>\n",
       "      <td>42.3</td>\n",
       "      <td>1840.75</td>\n",
       "      <td>No</td>\n",
       "    </tr>\n",
       "  </tbody>\n",
       "</table>\n",
       "<p>5 rows × 24 columns</p>\n",
       "</div>"
      ],
      "text/plain": [
       "  Customer ID    Country            State  Postal Code  Gender  \\\n",
       "0  7590-VHVEA  Australia  New South Wales         2000  Female   \n",
       "1  7590-VHVEG  Australia  New South Wales         2035  Female   \n",
       "2  5575-GNVDE  Australia  New South Wales         2014    Male   \n",
       "3  3668-QPYBK  Australia  New South Wales         2041    Male   \n",
       "4  7795-CFOCW  Australia  New South Wales         2050    Male   \n",
       "\n",
       "   Senior Citizen Partner Dependents  tenure Phone Service  ...  \\\n",
       "0               0     Yes         No     1.0            No  ...   \n",
       "1               0     Yes         No     1.0            No  ...   \n",
       "2               0      No         No    34.0           Yes  ...   \n",
       "3               0      No         No     2.0           Yes  ...   \n",
       "4               0      No         No    45.0            No  ...   \n",
       "\n",
       "  Device Protection Tech Support Streaming TV Streaming Movies  \\\n",
       "0                No           No           No               No   \n",
       "1                No           No           No               No   \n",
       "2               Yes           No           No               No   \n",
       "3                No           No           No               No   \n",
       "4               Yes          Yes           No               No   \n",
       "\n",
       "         Contract Paperless Billing             Payment Method  \\\n",
       "0  Month-to-month               Yes           Electronic check   \n",
       "1  Month-to-month               Yes           Electronic check   \n",
       "2        One year                No               Mailed check   \n",
       "3  Month-to-month               Yes               Mailed check   \n",
       "4        One year                No  Bank transfer (automatic)   \n",
       "\n",
       "  Monthly Charges Total Charges Churn  \n",
       "0           29.85         29.85    No  \n",
       "1           29.85         29.85    No  \n",
       "2           56.95       1889.50    No  \n",
       "3           53.85        108.15   Yes  \n",
       "4            42.3       1840.75    No  \n",
       "\n",
       "[5 rows x 24 columns]"
      ]
     },
     "execution_count": 2,
     "metadata": {},
     "output_type": "execute_result"
    }
   ],
   "source": [
    "#load dataset into pandas dataframe\n",
    "df = pd.read_csv('C:\\\\Users\\\\sraks\\\\AIML Internship\\\\AIML-Internship\\\\TASK\\\\T01\\\\task01.csv')\n",
    "df.head()"
   ]
  },
  {
   "cell_type": "markdown",
   "id": "2d9e20ea",
   "metadata": {},
   "source": [
    "### Data Cleaning and Preprocessing"
   ]
  },
  {
   "cell_type": "code",
   "execution_count": 3,
   "id": "7446a2a0",
   "metadata": {},
   "outputs": [
    {
     "data": {
      "text/plain": [
       "Customer ID          0\n",
       "Country              0\n",
       "State                0\n",
       "Postal Code          0\n",
       "Gender               0\n",
       "Senior Citizen       0\n",
       "Partner              0\n",
       "Dependents           0\n",
       "tenure               1\n",
       "Phone Service        0\n",
       "Multiple Lines       0\n",
       "Internet Service     1\n",
       "Online Security      1\n",
       "Online Backup        0\n",
       "Device Protection    0\n",
       "Tech Support         0\n",
       "Streaming TV         0\n",
       "Streaming Movies     0\n",
       "Contract             0\n",
       "Paperless Billing    0\n",
       "Payment Method       0\n",
       "Monthly Charges      2\n",
       "Total Charges        8\n",
       "Churn                0\n",
       "dtype: int64"
      ]
     },
     "execution_count": 3,
     "metadata": {},
     "output_type": "execute_result"
    }
   ],
   "source": [
    "#check for null values\n",
    "df.isnull().sum()"
   ]
  },
  {
   "cell_type": "code",
   "execution_count": 4,
   "id": "f4efc066",
   "metadata": {},
   "outputs": [
    {
     "data": {
      "text/plain": [
       "Customer ID          0\n",
       "Country              0\n",
       "State                0\n",
       "Postal Code          0\n",
       "Gender               0\n",
       "Senior Citizen       0\n",
       "Partner              0\n",
       "Dependents           0\n",
       "tenure               0\n",
       "Phone Service        0\n",
       "Multiple Lines       0\n",
       "Internet Service     0\n",
       "Online Security      0\n",
       "Online Backup        0\n",
       "Device Protection    0\n",
       "Tech Support         0\n",
       "Streaming TV         0\n",
       "Streaming Movies     0\n",
       "Contract             0\n",
       "Paperless Billing    0\n",
       "Payment Method       0\n",
       "Monthly Charges      0\n",
       "Total Charges        0\n",
       "Churn                0\n",
       "dtype: int64"
      ]
     },
     "execution_count": 4,
     "metadata": {},
     "output_type": "execute_result"
    }
   ],
   "source": [
    "#Since the data is huge and null values are very small it can be safely dropped\n",
    "dfv1 = df.dropna()\n",
    "dfv1.isna().sum()"
   ]
  },
  {
   "cell_type": "code",
   "execution_count": 5,
   "id": "6bf80132",
   "metadata": {},
   "outputs": [
    {
     "data": {
      "text/plain": [
       "array(['Australia'], dtype=object)"
      ]
     },
     "execution_count": 5,
     "metadata": {},
     "output_type": "execute_result"
    }
   ],
   "source": [
    "dfv1['Country'].unique()"
   ]
  },
  {
   "cell_type": "code",
   "execution_count": 6,
   "id": "741b0aa1",
   "metadata": {},
   "outputs": [
    {
     "data": {
      "text/plain": [
       "array(['New South Wales'], dtype=object)"
      ]
     },
     "execution_count": 6,
     "metadata": {},
     "output_type": "execute_result"
    }
   ],
   "source": [
    "dfv1['State'].unique()"
   ]
  },
  {
   "cell_type": "code",
   "execution_count": 7,
   "id": "88df89e6",
   "metadata": {
    "scrolled": true
   },
   "outputs": [
    {
     "data": {
      "text/html": [
       "<div>\n",
       "<style scoped>\n",
       "    .dataframe tbody tr th:only-of-type {\n",
       "        vertical-align: middle;\n",
       "    }\n",
       "\n",
       "    .dataframe tbody tr th {\n",
       "        vertical-align: top;\n",
       "    }\n",
       "\n",
       "    .dataframe thead th {\n",
       "        text-align: right;\n",
       "    }\n",
       "</style>\n",
       "<table border=\"1\" class=\"dataframe\">\n",
       "  <thead>\n",
       "    <tr style=\"text-align: right;\">\n",
       "      <th></th>\n",
       "      <th>Gender</th>\n",
       "      <th>Senior Citizen</th>\n",
       "      <th>Partner</th>\n",
       "      <th>Dependents</th>\n",
       "      <th>tenure</th>\n",
       "      <th>Phone Service</th>\n",
       "      <th>Multiple Lines</th>\n",
       "      <th>Internet Service</th>\n",
       "      <th>Online Security</th>\n",
       "      <th>Online Backup</th>\n",
       "      <th>Device Protection</th>\n",
       "      <th>Tech Support</th>\n",
       "      <th>Streaming TV</th>\n",
       "      <th>Streaming Movies</th>\n",
       "      <th>Contract</th>\n",
       "      <th>Paperless Billing</th>\n",
       "      <th>Payment Method</th>\n",
       "      <th>Monthly Charges</th>\n",
       "      <th>Total Charges</th>\n",
       "      <th>Churn</th>\n",
       "    </tr>\n",
       "  </thead>\n",
       "  <tbody>\n",
       "    <tr>\n",
       "      <th>0</th>\n",
       "      <td>Female</td>\n",
       "      <td>0</td>\n",
       "      <td>Yes</td>\n",
       "      <td>No</td>\n",
       "      <td>1.0</td>\n",
       "      <td>No</td>\n",
       "      <td>No phone service</td>\n",
       "      <td>DSL</td>\n",
       "      <td>No</td>\n",
       "      <td>Yes</td>\n",
       "      <td>No</td>\n",
       "      <td>No</td>\n",
       "      <td>No</td>\n",
       "      <td>No</td>\n",
       "      <td>Month-to-month</td>\n",
       "      <td>Yes</td>\n",
       "      <td>Electronic check</td>\n",
       "      <td>29.85</td>\n",
       "      <td>29.85</td>\n",
       "      <td>No</td>\n",
       "    </tr>\n",
       "    <tr>\n",
       "      <th>1</th>\n",
       "      <td>Female</td>\n",
       "      <td>0</td>\n",
       "      <td>Yes</td>\n",
       "      <td>No</td>\n",
       "      <td>1.0</td>\n",
       "      <td>No</td>\n",
       "      <td>No phone service</td>\n",
       "      <td>DSL</td>\n",
       "      <td>No</td>\n",
       "      <td>Yes</td>\n",
       "      <td>No</td>\n",
       "      <td>No</td>\n",
       "      <td>No</td>\n",
       "      <td>No</td>\n",
       "      <td>Month-to-month</td>\n",
       "      <td>Yes</td>\n",
       "      <td>Electronic check</td>\n",
       "      <td>29.85</td>\n",
       "      <td>29.85</td>\n",
       "      <td>No</td>\n",
       "    </tr>\n",
       "    <tr>\n",
       "      <th>2</th>\n",
       "      <td>Male</td>\n",
       "      <td>0</td>\n",
       "      <td>No</td>\n",
       "      <td>No</td>\n",
       "      <td>34.0</td>\n",
       "      <td>Yes</td>\n",
       "      <td>No</td>\n",
       "      <td>DSL</td>\n",
       "      <td>Yes</td>\n",
       "      <td>No</td>\n",
       "      <td>Yes</td>\n",
       "      <td>No</td>\n",
       "      <td>No</td>\n",
       "      <td>No</td>\n",
       "      <td>One year</td>\n",
       "      <td>No</td>\n",
       "      <td>Mailed check</td>\n",
       "      <td>56.95</td>\n",
       "      <td>1889.50</td>\n",
       "      <td>No</td>\n",
       "    </tr>\n",
       "    <tr>\n",
       "      <th>3</th>\n",
       "      <td>Male</td>\n",
       "      <td>0</td>\n",
       "      <td>No</td>\n",
       "      <td>No</td>\n",
       "      <td>2.0</td>\n",
       "      <td>Yes</td>\n",
       "      <td>No</td>\n",
       "      <td>DSL</td>\n",
       "      <td>Yes</td>\n",
       "      <td>Yes</td>\n",
       "      <td>No</td>\n",
       "      <td>No</td>\n",
       "      <td>No</td>\n",
       "      <td>No</td>\n",
       "      <td>Month-to-month</td>\n",
       "      <td>Yes</td>\n",
       "      <td>Mailed check</td>\n",
       "      <td>53.85</td>\n",
       "      <td>108.15</td>\n",
       "      <td>Yes</td>\n",
       "    </tr>\n",
       "    <tr>\n",
       "      <th>4</th>\n",
       "      <td>Male</td>\n",
       "      <td>0</td>\n",
       "      <td>No</td>\n",
       "      <td>No</td>\n",
       "      <td>45.0</td>\n",
       "      <td>No</td>\n",
       "      <td>No phone service</td>\n",
       "      <td>DSL</td>\n",
       "      <td>Yes</td>\n",
       "      <td>No</td>\n",
       "      <td>Yes</td>\n",
       "      <td>Yes</td>\n",
       "      <td>No</td>\n",
       "      <td>No</td>\n",
       "      <td>One year</td>\n",
       "      <td>No</td>\n",
       "      <td>Bank transfer (automatic)</td>\n",
       "      <td>42.3</td>\n",
       "      <td>1840.75</td>\n",
       "      <td>No</td>\n",
       "    </tr>\n",
       "  </tbody>\n",
       "</table>\n",
       "</div>"
      ],
      "text/plain": [
       "   Gender  Senior Citizen Partner Dependents  tenure Phone Service  \\\n",
       "0  Female               0     Yes         No     1.0            No   \n",
       "1  Female               0     Yes         No     1.0            No   \n",
       "2    Male               0      No         No    34.0           Yes   \n",
       "3    Male               0      No         No     2.0           Yes   \n",
       "4    Male               0      No         No    45.0            No   \n",
       "\n",
       "     Multiple Lines Internet Service Online Security Online Backup  \\\n",
       "0  No phone service              DSL              No           Yes   \n",
       "1  No phone service              DSL              No           Yes   \n",
       "2                No              DSL             Yes            No   \n",
       "3                No              DSL             Yes           Yes   \n",
       "4  No phone service              DSL             Yes            No   \n",
       "\n",
       "  Device Protection Tech Support Streaming TV Streaming Movies  \\\n",
       "0                No           No           No               No   \n",
       "1                No           No           No               No   \n",
       "2               Yes           No           No               No   \n",
       "3                No           No           No               No   \n",
       "4               Yes          Yes           No               No   \n",
       "\n",
       "         Contract Paperless Billing             Payment Method  \\\n",
       "0  Month-to-month               Yes           Electronic check   \n",
       "1  Month-to-month               Yes           Electronic check   \n",
       "2        One year                No               Mailed check   \n",
       "3  Month-to-month               Yes               Mailed check   \n",
       "4        One year                No  Bank transfer (automatic)   \n",
       "\n",
       "  Monthly Charges  Total Charges Churn  \n",
       "0           29.85          29.85    No  \n",
       "1           29.85          29.85    No  \n",
       "2           56.95        1889.50    No  \n",
       "3           53.85         108.15   Yes  \n",
       "4            42.3        1840.75    No  "
      ]
     },
     "execution_count": 7,
     "metadata": {},
     "output_type": "execute_result"
    }
   ],
   "source": [
    "#Drop the factors that doesnt effect our prediction.\n",
    "dfv2 = dfv1.drop(['Customer ID','Country','State','Postal Code'], axis = 'columns')\n",
    "dfv2.head()"
   ]
  },
  {
   "cell_type": "code",
   "execution_count": 8,
   "id": "97d8a949",
   "metadata": {},
   "outputs": [
    {
     "data": {
      "text/plain": [
       "array(['Female', 'Male', 'female'], dtype=object)"
      ]
     },
     "execution_count": 8,
     "metadata": {},
     "output_type": "execute_result"
    }
   ],
   "source": [
    "dfv2['Gender'].unique()"
   ]
  },
  {
   "cell_type": "code",
   "execution_count": 9,
   "id": "5449c6b0",
   "metadata": {},
   "outputs": [
    {
     "data": {
      "text/plain": [
       "Gender\n",
       "female    2460\n",
       "male      2526\n",
       "Name: Gender, dtype: int64"
      ]
     },
     "execution_count": 9,
     "metadata": {},
     "output_type": "execute_result"
    }
   ],
   "source": [
    "dfv2['Gender']=dfv2['Gender'].apply(lambda x : x.lower())\n",
    "dfv2['Gender'].unique()\n",
    "dfv2.groupby('Gender')['Gender'].agg('count')"
   ]
  },
  {
   "cell_type": "markdown",
   "id": "0844ed5a",
   "metadata": {},
   "source": [
    "Data Cleaning and Preprocessing"
   ]
  },
  {
   "cell_type": "code",
   "execution_count": 10,
   "id": "312622d3",
   "metadata": {},
   "outputs": [
    {
     "data": {
      "text/plain": [
       "Gender\n",
       "0    2460\n",
       "1    2526\n",
       "Name: Gender, dtype: int64"
      ]
     },
     "execution_count": 10,
     "metadata": {},
     "output_type": "execute_result"
    }
   ],
   "source": [
    "dfv2['Gender']=dfv2['Gender'].apply(lambda x : 0 if x=='female' else 1)\n",
    "dfv2.groupby('Gender')['Gender'].agg('count')"
   ]
  },
  {
   "cell_type": "code",
   "execution_count": 11,
   "id": "467ec63a",
   "metadata": {
    "scrolled": true
   },
   "outputs": [
    {
     "data": {
      "text/plain": [
       "Partner\n",
       "No     2589\n",
       "Yes    2397\n",
       "Name: Partner, dtype: int64"
      ]
     },
     "execution_count": 11,
     "metadata": {},
     "output_type": "execute_result"
    }
   ],
   "source": [
    "dfv2['Partner'].unique()\n",
    "dfv2.groupby('Partner')['Partner'].agg('count')"
   ]
  },
  {
   "cell_type": "code",
   "execution_count": 12,
   "id": "741aa946",
   "metadata": {},
   "outputs": [
    {
     "data": {
      "text/plain": [
       "Partner\n",
       "0    2589\n",
       "1    2397\n",
       "Name: Partner, dtype: int64"
      ]
     },
     "execution_count": 12,
     "metadata": {},
     "output_type": "execute_result"
    }
   ],
   "source": [
    "dfv2['Partner']=dfv2['Partner'].apply(lambda x : 1 if x == 'Yes' else 0)\n",
    "dfv2.groupby('Partner')['Partner'].agg('count')"
   ]
  },
  {
   "cell_type": "code",
   "execution_count": 13,
   "id": "6fb01169",
   "metadata": {
    "scrolled": true
   },
   "outputs": [
    {
     "data": {
      "text/plain": [
       "array(['No', 'Yes'], dtype=object)"
      ]
     },
     "execution_count": 13,
     "metadata": {},
     "output_type": "execute_result"
    }
   ],
   "source": [
    "dfv2['Dependents'].unique()"
   ]
  },
  {
   "cell_type": "code",
   "execution_count": 14,
   "id": "8588685b",
   "metadata": {},
   "outputs": [
    {
     "data": {
      "text/plain": [
       "Dependents\n",
       "No     3517\n",
       "Yes    1469\n",
       "Name: Dependents, dtype: int64"
      ]
     },
     "execution_count": 14,
     "metadata": {},
     "output_type": "execute_result"
    }
   ],
   "source": [
    "dfv2.groupby('Dependents')['Dependents'].agg('count')"
   ]
  },
  {
   "cell_type": "code",
   "execution_count": 15,
   "id": "9e506387",
   "metadata": {},
   "outputs": [
    {
     "data": {
      "text/plain": [
       "Dependents\n",
       "0    3517\n",
       "1    1469\n",
       "Name: Dependents, dtype: int64"
      ]
     },
     "execution_count": 15,
     "metadata": {},
     "output_type": "execute_result"
    }
   ],
   "source": [
    "dfv2['Dependents']=dfv2['Dependents'].apply(lambda x : 1 if x == 'Yes' else 0)\n",
    "dfv2.groupby('Dependents')['Dependents'].agg('count')"
   ]
  },
  {
   "cell_type": "code",
   "execution_count": 16,
   "id": "7bbcf935",
   "metadata": {
    "scrolled": false
   },
   "outputs": [
    {
     "data": {
      "text/plain": [
       "array(['No', 'Yes', ' '], dtype=object)"
      ]
     },
     "execution_count": 16,
     "metadata": {},
     "output_type": "execute_result"
    }
   ],
   "source": [
    "dfv2['Phone Service'].unique() "
   ]
  },
  {
   "cell_type": "code",
   "execution_count": 17,
   "id": "3bc06f7d",
   "metadata": {},
   "outputs": [
    {
     "data": {
      "text/plain": [
       "Phone Service\n",
       "          1\n",
       "No      461\n",
       "Yes    4524\n",
       "Name: Phone Service, dtype: int64"
      ]
     },
     "execution_count": 17,
     "metadata": {},
     "output_type": "execute_result"
    }
   ],
   "source": [
    "dfv2.groupby('Phone Service')['Phone Service'].agg('count')"
   ]
  },
  {
   "cell_type": "code",
   "execution_count": 18,
   "id": "53700b02",
   "metadata": {},
   "outputs": [
    {
     "data": {
      "text/plain": [
       "(4986, 20)"
      ]
     },
     "execution_count": 18,
     "metadata": {},
     "output_type": "execute_result"
    }
   ],
   "source": [
    "dfv2.shape"
   ]
  },
  {
   "cell_type": "code",
   "execution_count": 19,
   "id": "b3f73dae",
   "metadata": {},
   "outputs": [
    {
     "data": {
      "text/plain": [
       "(4985, 20)"
      ]
     },
     "execution_count": 19,
     "metadata": {},
     "output_type": "execute_result"
    }
   ],
   "source": [
    "#dropped the row containing space\n",
    "dfv3 = dfv2[dfv2['Phone Service']!=' ']\n",
    "dfv3.shape"
   ]
  },
  {
   "cell_type": "code",
   "execution_count": 20,
   "id": "1b337af9",
   "metadata": {},
   "outputs": [
    {
     "name": "stderr",
     "output_type": "stream",
     "text": [
      "C:\\Users\\sraks\\AppData\\Local\\Temp\\ipykernel_21372\\3592634444.py:1: SettingWithCopyWarning: \n",
      "A value is trying to be set on a copy of a slice from a DataFrame.\n",
      "Try using .loc[row_indexer,col_indexer] = value instead\n",
      "\n",
      "See the caveats in the documentation: https://pandas.pydata.org/pandas-docs/stable/user_guide/indexing.html#returning-a-view-versus-a-copy\n",
      "  dfv3['Phone Service']=dfv3['Phone Service'].apply(lambda x : 1 if x == 'Yes' else 0)\n"
     ]
    },
    {
     "data": {
      "text/plain": [
       "Phone Service\n",
       "0     461\n",
       "1    4524\n",
       "Name: Phone Service, dtype: int64"
      ]
     },
     "execution_count": 20,
     "metadata": {},
     "output_type": "execute_result"
    }
   ],
   "source": [
    "dfv3['Phone Service']=dfv3['Phone Service'].apply(lambda x : 1 if x == 'Yes' else 0)\n",
    "dfv3.groupby('Phone Service')['Phone Service'].agg('count')"
   ]
  },
  {
   "cell_type": "code",
   "execution_count": 21,
   "id": "ebf96037",
   "metadata": {},
   "outputs": [
    {
     "data": {
      "text/plain": [
       "array(['No phone service', 'No', 'Yes', ' ', 'N0'], dtype=object)"
      ]
     },
     "execution_count": 21,
     "metadata": {},
     "output_type": "execute_result"
    }
   ],
   "source": [
    "dfv3['Multiple Lines'].unique()"
   ]
  },
  {
   "cell_type": "code",
   "execution_count": 22,
   "id": "25760e13",
   "metadata": {},
   "outputs": [
    {
     "data": {
      "text/plain": [
       "Multiple Lines\n",
       "                       2\n",
       "N0                     1\n",
       "No                  2393\n",
       "No phone service     461\n",
       "Yes                 2128\n",
       "Name: Multiple Lines, dtype: int64"
      ]
     },
     "execution_count": 22,
     "metadata": {},
     "output_type": "execute_result"
    }
   ],
   "source": [
    "dfv3.groupby('Multiple Lines')['Multiple Lines'].agg('count')"
   ]
  },
  {
   "cell_type": "code",
   "execution_count": 23,
   "id": "cb0fdfc6",
   "metadata": {
    "scrolled": false
   },
   "outputs": [
    {
     "name": "stderr",
     "output_type": "stream",
     "text": [
      "C:\\Users\\sraks\\AppData\\Local\\Temp\\ipykernel_21372\\162196596.py:2: SettingWithCopyWarning: \n",
      "A value is trying to be set on a copy of a slice from a DataFrame.\n",
      "Try using .loc[row_indexer,col_indexer] = value instead\n",
      "\n",
      "See the caveats in the documentation: https://pandas.pydata.org/pandas-docs/stable/user_guide/indexing.html#returning-a-view-versus-a-copy\n",
      "  dfv4[\"Multiple Lines\"] = np.select([dfv4[\"Multiple Lines\"]=='Yes', dfv4[\"Multiple Lines\"]=='No phone service'], [1,0], default = 2)\n"
     ]
    },
    {
     "data": {
      "text/plain": [
       "Multiple Lines\n",
       "0     461\n",
       "1    2128\n",
       "2    2394\n",
       "Name: Multiple Lines, dtype: int64"
      ]
     },
     "execution_count": 23,
     "metadata": {},
     "output_type": "execute_result"
    }
   ],
   "source": [
    "dfv4=dfv3[dfv3['Multiple Lines']!=' ']\n",
    "dfv4[\"Multiple Lines\"] = np.select([dfv4[\"Multiple Lines\"]=='Yes', dfv4[\"Multiple Lines\"]=='No phone service'], [1,0], default = 2)\n",
    "dfv4.groupby('Multiple Lines')['Multiple Lines'].agg('count')"
   ]
  },
  {
   "cell_type": "code",
   "execution_count": 24,
   "id": "fa46c3e7",
   "metadata": {},
   "outputs": [
    {
     "data": {
      "text/plain": [
       "(4983, 20)"
      ]
     },
     "execution_count": 24,
     "metadata": {},
     "output_type": "execute_result"
    }
   ],
   "source": [
    "dfv4.shape"
   ]
  },
  {
   "cell_type": "code",
   "execution_count": 25,
   "id": "b4400901",
   "metadata": {},
   "outputs": [
    {
     "data": {
      "text/plain": [
       "array(['DSL', 'Fiber optic', 'No'], dtype=object)"
      ]
     },
     "execution_count": 25,
     "metadata": {},
     "output_type": "execute_result"
    }
   ],
   "source": [
    "dfv4['Internet Service'].unique()"
   ]
  },
  {
   "cell_type": "code",
   "execution_count": 26,
   "id": "b33134cf",
   "metadata": {
    "scrolled": true
   },
   "outputs": [
    {
     "data": {
      "text/plain": [
       "Internet Service\n",
       "DSL            1708\n",
       "Fiber optic    2186\n",
       "No             1089\n",
       "Name: Internet Service, dtype: int64"
      ]
     },
     "execution_count": 26,
     "metadata": {},
     "output_type": "execute_result"
    }
   ],
   "source": [
    "dfv4.groupby('Internet Service')['Internet Service'].agg('count')"
   ]
  },
  {
   "cell_type": "code",
   "execution_count": 27,
   "id": "e6530a68",
   "metadata": {},
   "outputs": [
    {
     "name": "stderr",
     "output_type": "stream",
     "text": [
      "C:\\Users\\sraks\\AppData\\Local\\Temp\\ipykernel_21372\\3158345500.py:1: SettingWithCopyWarning: \n",
      "A value is trying to be set on a copy of a slice from a DataFrame.\n",
      "Try using .loc[row_indexer,col_indexer] = value instead\n",
      "\n",
      "See the caveats in the documentation: https://pandas.pydata.org/pandas-docs/stable/user_guide/indexing.html#returning-a-view-versus-a-copy\n",
      "  dfv4['Internet Service']=np.select([dfv4['Internet Service']=='DSL', dfv4['Internet Service']=='Fiber optic'],\n"
     ]
    },
    {
     "data": {
      "text/plain": [
       "Internet Service\n",
       "0    1089\n",
       "1    1708\n",
       "2    2186\n",
       "Name: Internet Service, dtype: int64"
      ]
     },
     "execution_count": 27,
     "metadata": {},
     "output_type": "execute_result"
    }
   ],
   "source": [
    "dfv4['Internet Service']=np.select([dfv4['Internet Service']=='DSL', dfv4['Internet Service']=='Fiber optic'], \n",
    "                                   [1, 2], \n",
    "                                   default=0)\n",
    "dfv4.groupby('Internet Service')['Internet Service'].agg('count')"
   ]
  },
  {
   "cell_type": "code",
   "execution_count": 28,
   "id": "21b801d0",
   "metadata": {},
   "outputs": [
    {
     "data": {
      "text/plain": [
       "array(['No', 'Yes', 'No internet service'], dtype=object)"
      ]
     },
     "execution_count": 28,
     "metadata": {},
     "output_type": "execute_result"
    }
   ],
   "source": [
    "dfv4['Online Security'].unique()"
   ]
  },
  {
   "cell_type": "code",
   "execution_count": 29,
   "id": "11efe488",
   "metadata": {},
   "outputs": [
    {
     "data": {
      "text/plain": [
       "Online Security\n",
       "No                     2465\n",
       "No internet service    1089\n",
       "Yes                    1429\n",
       "Name: Online Security, dtype: int64"
      ]
     },
     "execution_count": 29,
     "metadata": {},
     "output_type": "execute_result"
    }
   ],
   "source": [
    "dfv4.groupby('Online Security')['Online Security'].agg('count')"
   ]
  },
  {
   "cell_type": "code",
   "execution_count": 30,
   "id": "b302030a",
   "metadata": {},
   "outputs": [
    {
     "name": "stderr",
     "output_type": "stream",
     "text": [
      "C:\\Users\\sraks\\AppData\\Local\\Temp\\ipykernel_21372\\32592038.py:1: SettingWithCopyWarning: \n",
      "A value is trying to be set on a copy of a slice from a DataFrame.\n",
      "Try using .loc[row_indexer,col_indexer] = value instead\n",
      "\n",
      "See the caveats in the documentation: https://pandas.pydata.org/pandas-docs/stable/user_guide/indexing.html#returning-a-view-versus-a-copy\n",
      "  dfv4['Online Security']=np.select([dfv4['Online Security']=='Yes', dfv4['Online Security']=='No'],\n"
     ]
    },
    {
     "data": {
      "text/plain": [
       "Online Security\n",
       "0    1089\n",
       "1    1429\n",
       "2    2465\n",
       "Name: Online Security, dtype: int64"
      ]
     },
     "execution_count": 30,
     "metadata": {},
     "output_type": "execute_result"
    }
   ],
   "source": [
    "dfv4['Online Security']=np.select([dfv4['Online Security']=='Yes', dfv4['Online Security']=='No'], \n",
    "                                   [1, 2], \n",
    "                                   default=0)\n",
    "dfv4.groupby('Online Security')['Online Security'].agg('count')"
   ]
  },
  {
   "cell_type": "code",
   "execution_count": 31,
   "id": "84be335f",
   "metadata": {
    "scrolled": false
   },
   "outputs": [
    {
     "data": {
      "text/plain": [
       "array(['Yes', 'No', 'No internet service'], dtype=object)"
      ]
     },
     "execution_count": 31,
     "metadata": {},
     "output_type": "execute_result"
    }
   ],
   "source": [
    "dfv4['Online Backup'].unique()"
   ]
  },
  {
   "cell_type": "code",
   "execution_count": 32,
   "id": "aafa6b5c",
   "metadata": {},
   "outputs": [
    {
     "data": {
      "text/plain": [
       "Online Backup\n",
       "No                     2174\n",
       "No internet service    1089\n",
       "Yes                    1720\n",
       "Name: Online Backup, dtype: int64"
      ]
     },
     "execution_count": 32,
     "metadata": {},
     "output_type": "execute_result"
    }
   ],
   "source": [
    "dfv4.groupby('Online Backup')['Online Backup'].agg('count')"
   ]
  },
  {
   "cell_type": "code",
   "execution_count": 33,
   "id": "0da33129",
   "metadata": {},
   "outputs": [
    {
     "name": "stderr",
     "output_type": "stream",
     "text": [
      "C:\\Users\\sraks\\AppData\\Local\\Temp\\ipykernel_21372\\2420766621.py:1: SettingWithCopyWarning: \n",
      "A value is trying to be set on a copy of a slice from a DataFrame.\n",
      "Try using .loc[row_indexer,col_indexer] = value instead\n",
      "\n",
      "See the caveats in the documentation: https://pandas.pydata.org/pandas-docs/stable/user_guide/indexing.html#returning-a-view-versus-a-copy\n",
      "  dfv4['Online Backup']=np.select([dfv4['Online Backup']=='Yes', dfv4['Online Backup']=='No'],\n"
     ]
    },
    {
     "data": {
      "text/plain": [
       "Online Backup\n",
       "0    1089\n",
       "1    1720\n",
       "2    2174\n",
       "Name: Online Backup, dtype: int64"
      ]
     },
     "execution_count": 33,
     "metadata": {},
     "output_type": "execute_result"
    }
   ],
   "source": [
    "dfv4['Online Backup']=np.select([dfv4['Online Backup']=='Yes', dfv4['Online Backup']=='No'], \n",
    "                                   [1, 2], \n",
    "                                   default=0)\n",
    "dfv4.groupby('Online Backup')['Online Backup'].agg('count')"
   ]
  },
  {
   "cell_type": "code",
   "execution_count": 34,
   "id": "5ffdd16a",
   "metadata": {},
   "outputs": [
    {
     "data": {
      "text/plain": [
       "array(['No', 'Yes', 'No internet service', 'N0'], dtype=object)"
      ]
     },
     "execution_count": 34,
     "metadata": {},
     "output_type": "execute_result"
    }
   ],
   "source": [
    "dfv4['Device Protection'].unique()"
   ]
  },
  {
   "cell_type": "code",
   "execution_count": 35,
   "id": "0f85b4e7",
   "metadata": {},
   "outputs": [
    {
     "data": {
      "text/plain": [
       "Device Protection\n",
       "N0                        1\n",
       "No                     2170\n",
       "No internet service    1089\n",
       "Yes                    1723\n",
       "Name: Device Protection, dtype: int64"
      ]
     },
     "execution_count": 35,
     "metadata": {},
     "output_type": "execute_result"
    }
   ],
   "source": [
    "dfv4.groupby('Device Protection')['Device Protection'].agg('count')"
   ]
  },
  {
   "cell_type": "code",
   "execution_count": 36,
   "id": "3a312eff",
   "metadata": {},
   "outputs": [
    {
     "name": "stderr",
     "output_type": "stream",
     "text": [
      "C:\\Users\\sraks\\AppData\\Local\\Temp\\ipykernel_21372\\2014808067.py:1: SettingWithCopyWarning: \n",
      "A value is trying to be set on a copy of a slice from a DataFrame.\n",
      "Try using .loc[row_indexer,col_indexer] = value instead\n",
      "\n",
      "See the caveats in the documentation: https://pandas.pydata.org/pandas-docs/stable/user_guide/indexing.html#returning-a-view-versus-a-copy\n",
      "  dfv4['Device Protection']=np.select([dfv4['Device Protection']=='Yes', dfv4['Device Protection']=='No internet service'],\n"
     ]
    },
    {
     "data": {
      "text/plain": [
       "Device Protection\n",
       "0    1089\n",
       "1    1723\n",
       "2    2171\n",
       "Name: Device Protection, dtype: int64"
      ]
     },
     "execution_count": 36,
     "metadata": {},
     "output_type": "execute_result"
    }
   ],
   "source": [
    "dfv4['Device Protection']=np.select([dfv4['Device Protection']=='Yes', dfv4['Device Protection']=='No internet service'], \n",
    "                                   [1, 0], \n",
    "                                   default=2)\n",
    "dfv4.groupby('Device Protection')['Device Protection'].agg('count')"
   ]
  },
  {
   "cell_type": "code",
   "execution_count": 37,
   "id": "11ca20ae",
   "metadata": {},
   "outputs": [
    {
     "data": {
      "text/plain": [
       "array(['No', 'Yes', 'No internet service'], dtype=object)"
      ]
     },
     "execution_count": 37,
     "metadata": {},
     "output_type": "execute_result"
    }
   ],
   "source": [
    "dfv4['Tech Support'].unique()"
   ]
  },
  {
   "cell_type": "code",
   "execution_count": 38,
   "id": "ef840ca7",
   "metadata": {
    "scrolled": true
   },
   "outputs": [
    {
     "data": {
      "text/plain": [
       "Tech Support\n",
       "No                     2473\n",
       "No internet service    1089\n",
       "Yes                    1421\n",
       "Name: Tech Support, dtype: int64"
      ]
     },
     "execution_count": 38,
     "metadata": {},
     "output_type": "execute_result"
    }
   ],
   "source": [
    "dfv4.groupby('Tech Support')['Tech Support'].agg('count')"
   ]
  },
  {
   "cell_type": "code",
   "execution_count": 39,
   "id": "fe20313f",
   "metadata": {},
   "outputs": [
    {
     "name": "stderr",
     "output_type": "stream",
     "text": [
      "C:\\Users\\sraks\\AppData\\Local\\Temp\\ipykernel_21372\\3864993924.py:1: SettingWithCopyWarning: \n",
      "A value is trying to be set on a copy of a slice from a DataFrame.\n",
      "Try using .loc[row_indexer,col_indexer] = value instead\n",
      "\n",
      "See the caveats in the documentation: https://pandas.pydata.org/pandas-docs/stable/user_guide/indexing.html#returning-a-view-versus-a-copy\n",
      "  dfv4['Tech Support']=np.select([dfv4['Tech Support']=='Yes', dfv4['Tech Support']=='No'],\n"
     ]
    },
    {
     "data": {
      "text/plain": [
       "Tech Support\n",
       "0    1089\n",
       "1    1421\n",
       "2    2473\n",
       "Name: Tech Support, dtype: int64"
      ]
     },
     "execution_count": 39,
     "metadata": {},
     "output_type": "execute_result"
    }
   ],
   "source": [
    "dfv4['Tech Support']=np.select([dfv4['Tech Support']=='Yes', dfv4['Tech Support']=='No'], \n",
    "                                   [1, 2], \n",
    "                                   default=0)\n",
    "dfv4.groupby('Tech Support')['Tech Support'].agg('count')"
   ]
  },
  {
   "cell_type": "code",
   "execution_count": 40,
   "id": "ae93ddea",
   "metadata": {
    "scrolled": true
   },
   "outputs": [
    {
     "data": {
      "text/plain": [
       "Streaming TV\n",
       "N0                        1\n",
       "No                     1980\n",
       "No internet service    1088\n",
       "No internetservice        1\n",
       "Yes                    1913\n",
       "Name: Streaming TV, dtype: int64"
      ]
     },
     "execution_count": 40,
     "metadata": {},
     "output_type": "execute_result"
    }
   ],
   "source": [
    "dfv4['Streaming TV'].unique()\n",
    "dfv4.groupby('Streaming TV')['Streaming TV'].agg('count')"
   ]
  },
  {
   "cell_type": "code",
   "execution_count": 41,
   "id": "a893e85a",
   "metadata": {},
   "outputs": [
    {
     "name": "stderr",
     "output_type": "stream",
     "text": [
      "C:\\Users\\sraks\\AppData\\Local\\Temp\\ipykernel_21372\\2935813465.py:1: SettingWithCopyWarning: \n",
      "A value is trying to be set on a copy of a slice from a DataFrame.\n",
      "Try using .loc[row_indexer,col_indexer] = value instead\n",
      "\n",
      "See the caveats in the documentation: https://pandas.pydata.org/pandas-docs/stable/user_guide/indexing.html#returning-a-view-versus-a-copy\n",
      "  dfv4['Streaming TV']=np.select([dfv4['Streaming TV']=='Yes', dfv4['Streaming TV']=='No internet service', dfv4['Streaming TV']=='No internetservice'],\n"
     ]
    },
    {
     "data": {
      "text/plain": [
       "Streaming TV\n",
       "0    1981\n",
       "1    1913\n",
       "2    1089\n",
       "Name: Streaming TV, dtype: int64"
      ]
     },
     "execution_count": 41,
     "metadata": {},
     "output_type": "execute_result"
    }
   ],
   "source": [
    "dfv4['Streaming TV']=np.select([dfv4['Streaming TV']=='Yes', dfv4['Streaming TV']=='No internet service', dfv4['Streaming TV']=='No internetservice'], \n",
    "                                   [1, 2, 2], \n",
    "                                   default=0)\n",
    "dfv4.groupby('Streaming TV')['Streaming TV'].agg('count')"
   ]
  },
  {
   "cell_type": "code",
   "execution_count": 42,
   "id": "c467f893",
   "metadata": {},
   "outputs": [
    {
     "data": {
      "text/plain": [
       "Streaming Movies\n",
       "                          1\n",
       "No                     1950\n",
       "No internet service    1088\n",
       "Yes                    1944\n",
       "Name: Streaming Movies, dtype: int64"
      ]
     },
     "execution_count": 42,
     "metadata": {},
     "output_type": "execute_result"
    }
   ],
   "source": [
    "dfv4['Streaming Movies'].unique()\n",
    "dfv4.groupby('Streaming Movies')['Streaming Movies'].agg('count')"
   ]
  },
  {
   "cell_type": "code",
   "execution_count": 43,
   "id": "c55a309c",
   "metadata": {},
   "outputs": [
    {
     "data": {
      "text/plain": [
       "Streaming Movies\n",
       "0    1088\n",
       "1    1944\n",
       "2    1951\n",
       "Name: Streaming Movies, dtype: int64"
      ]
     },
     "execution_count": 43,
     "metadata": {},
     "output_type": "execute_result"
    }
   ],
   "source": [
    "dfv5 = dfv4[dfv4['Streaming Movies']!=' ']\n",
    "dfv5['Streaming Movies']=np.select([dfv5['Streaming Movies']=='Yes', dfv5['Streaming Movies']=='No internet service'], \n",
    "                                   [1, 0], \n",
    "                                   default=2)\n",
    "dfv5.groupby('Streaming Movies')['Streaming Movies'].agg('count')"
   ]
  },
  {
   "cell_type": "code",
   "execution_count": 44,
   "id": "86a02870",
   "metadata": {},
   "outputs": [
    {
     "data": {
      "text/plain": [
       "array(['Month-to-month', 'One year', 'Two year'], dtype=object)"
      ]
     },
     "execution_count": 44,
     "metadata": {},
     "output_type": "execute_result"
    }
   ],
   "source": [
    "dfv5['Contract'].unique()"
   ]
  },
  {
   "cell_type": "code",
   "execution_count": 45,
   "id": "4e3d1ade",
   "metadata": {},
   "outputs": [
    {
     "data": {
      "text/plain": [
       "Contract\n",
       "Month-to-month    2770\n",
       "One year          1027\n",
       "Two year          1186\n",
       "Name: Contract, dtype: int64"
      ]
     },
     "execution_count": 45,
     "metadata": {},
     "output_type": "execute_result"
    }
   ],
   "source": [
    "dfv5.groupby('Contract')['Contract'].agg('count')"
   ]
  },
  {
   "cell_type": "code",
   "execution_count": 46,
   "id": "fdccd5e4",
   "metadata": {},
   "outputs": [
    {
     "data": {
      "text/plain": [
       "Contract\n",
       "0    2770\n",
       "1    1027\n",
       "2    1186\n",
       "Name: Contract, dtype: int64"
      ]
     },
     "execution_count": 46,
     "metadata": {},
     "output_type": "execute_result"
    }
   ],
   "source": [
    "dfv5['Contract']=np.select([dfv5['Contract']=='Month-to-month', dfv5['Contract']=='One year'], \n",
    "                           [0, 1],\n",
    "                           default=2)\n",
    "dfv5.groupby('Contract')['Contract'].agg('count')"
   ]
  },
  {
   "cell_type": "code",
   "execution_count": 47,
   "id": "5d5d4090",
   "metadata": {},
   "outputs": [
    {
     "data": {
      "text/plain": [
       "array(['Yes', 'No'], dtype=object)"
      ]
     },
     "execution_count": 47,
     "metadata": {},
     "output_type": "execute_result"
    }
   ],
   "source": [
    "dfv5['Paperless Billing'].unique()"
   ]
  },
  {
   "cell_type": "code",
   "execution_count": 48,
   "id": "4ef9e74a",
   "metadata": {},
   "outputs": [
    {
     "data": {
      "text/plain": [
       "Paperless Billing\n",
       "No     2039\n",
       "Yes    2944\n",
       "Name: Paperless Billing, dtype: int64"
      ]
     },
     "execution_count": 48,
     "metadata": {},
     "output_type": "execute_result"
    }
   ],
   "source": [
    "dfv5.groupby('Paperless Billing')['Paperless Billing'].agg('count')"
   ]
  },
  {
   "cell_type": "code",
   "execution_count": 49,
   "id": "dd25801b",
   "metadata": {},
   "outputs": [
    {
     "data": {
      "text/plain": [
       "Paperless Billing\n",
       "0    2039\n",
       "1    2944\n",
       "Name: Paperless Billing, dtype: int64"
      ]
     },
     "execution_count": 49,
     "metadata": {},
     "output_type": "execute_result"
    }
   ],
   "source": [
    "dfv5['Paperless Billing']=dfv5['Paperless Billing'].apply(lambda x : 1 if x == 'Yes' else 0)\n",
    "dfv5.groupby('Paperless Billing')['Paperless Billing'].agg('count')"
   ]
  },
  {
   "cell_type": "code",
   "execution_count": 50,
   "id": "ad813914",
   "metadata": {
    "scrolled": true
   },
   "outputs": [
    {
     "data": {
      "text/plain": [
       "array(['Electronic check', 'Mailed check', 'Bank transfer (automatic)',\n",
       "       'Credit card (automatic)'], dtype=object)"
      ]
     },
     "execution_count": 50,
     "metadata": {},
     "output_type": "execute_result"
    }
   ],
   "source": [
    "dfv5['Payment Method'].unique()"
   ]
  },
  {
   "cell_type": "code",
   "execution_count": 51,
   "id": "851eab4d",
   "metadata": {},
   "outputs": [
    {
     "data": {
      "text/plain": [
       "Payment Method\n",
       "Bank transfer (automatic)    1101\n",
       "Credit card (automatic)      1086\n",
       "Electronic check             1667\n",
       "Mailed check                 1129\n",
       "Name: Payment Method, dtype: int64"
      ]
     },
     "execution_count": 51,
     "metadata": {},
     "output_type": "execute_result"
    }
   ],
   "source": [
    "dfv5.groupby('Payment Method')['Payment Method'].agg('count')"
   ]
  },
  {
   "cell_type": "code",
   "execution_count": 52,
   "id": "5e4882a6",
   "metadata": {},
   "outputs": [],
   "source": [
    "dfv5['Payment Method']=np.select([dfv5['Payment Method']=='Bank transfer (automatic)', dfv5['Payment Method']=='Credit card (automatic)', dfv5['Payment Method']=='Electronic check'],\n",
    "                                 [0,1,2],\n",
    "                                 default=3)\n"
   ]
  },
  {
   "cell_type": "code",
   "execution_count": 53,
   "id": "4402c642",
   "metadata": {},
   "outputs": [
    {
     "data": {
      "text/plain": [
       "Payment Method\n",
       "0    1101\n",
       "1    1086\n",
       "2    1667\n",
       "3    1129\n",
       "Name: Payment Method, dtype: int64"
      ]
     },
     "execution_count": 53,
     "metadata": {},
     "output_type": "execute_result"
    }
   ],
   "source": [
    "dfv5.groupby('Payment Method')['Payment Method'].agg('count')"
   ]
  },
  {
   "cell_type": "code",
   "execution_count": 54,
   "id": "610699b9",
   "metadata": {
    "scrolled": true
   },
   "outputs": [
    {
     "data": {
      "text/plain": [
       "array(['No', 'Yes'], dtype=object)"
      ]
     },
     "execution_count": 54,
     "metadata": {},
     "output_type": "execute_result"
    }
   ],
   "source": [
    "dfv5.Churn.unique()"
   ]
  },
  {
   "cell_type": "code",
   "execution_count": 55,
   "id": "0aa2f1d9",
   "metadata": {},
   "outputs": [
    {
     "data": {
      "text/plain": [
       "Churn\n",
       "No     3672\n",
       "Yes    1311\n",
       "Name: Churn, dtype: int64"
      ]
     },
     "execution_count": 55,
     "metadata": {},
     "output_type": "execute_result"
    }
   ],
   "source": [
    "dfv5.groupby('Churn')['Churn'].agg('count')"
   ]
  },
  {
   "cell_type": "code",
   "execution_count": 56,
   "id": "ecae3c19",
   "metadata": {},
   "outputs": [
    {
     "data": {
      "text/plain": [
       "Churn\n",
       "0    3672\n",
       "1    1311\n",
       "Name: Churn, dtype: int64"
      ]
     },
     "execution_count": 56,
     "metadata": {},
     "output_type": "execute_result"
    }
   ],
   "source": [
    "dfv5.Churn=dfv5.Churn.apply(lambda x : 1 if x == 'Yes' else 0)\n",
    "dfv5.groupby('Churn')['Churn'].agg('count')"
   ]
  },
  {
   "cell_type": "code",
   "execution_count": 57,
   "id": "4cf94441",
   "metadata": {},
   "outputs": [
    {
     "data": {
      "text/html": [
       "<div>\n",
       "<style scoped>\n",
       "    .dataframe tbody tr th:only-of-type {\n",
       "        vertical-align: middle;\n",
       "    }\n",
       "\n",
       "    .dataframe tbody tr th {\n",
       "        vertical-align: top;\n",
       "    }\n",
       "\n",
       "    .dataframe thead th {\n",
       "        text-align: right;\n",
       "    }\n",
       "</style>\n",
       "<table border=\"1\" class=\"dataframe\">\n",
       "  <thead>\n",
       "    <tr style=\"text-align: right;\">\n",
       "      <th></th>\n",
       "      <th>Gender</th>\n",
       "      <th>Senior Citizen</th>\n",
       "      <th>Partner</th>\n",
       "      <th>Dependents</th>\n",
       "      <th>tenure</th>\n",
       "      <th>Phone Service</th>\n",
       "      <th>Multiple Lines</th>\n",
       "      <th>Internet Service</th>\n",
       "      <th>Online Security</th>\n",
       "      <th>Online Backup</th>\n",
       "      <th>Device Protection</th>\n",
       "      <th>Tech Support</th>\n",
       "      <th>Streaming TV</th>\n",
       "      <th>Streaming Movies</th>\n",
       "      <th>Contract</th>\n",
       "      <th>Paperless Billing</th>\n",
       "      <th>Payment Method</th>\n",
       "      <th>Monthly Charges</th>\n",
       "      <th>Total Charges</th>\n",
       "      <th>Churn</th>\n",
       "    </tr>\n",
       "  </thead>\n",
       "  <tbody>\n",
       "    <tr>\n",
       "      <th>0</th>\n",
       "      <td>0</td>\n",
       "      <td>0</td>\n",
       "      <td>1</td>\n",
       "      <td>0</td>\n",
       "      <td>1.0</td>\n",
       "      <td>0</td>\n",
       "      <td>0</td>\n",
       "      <td>1</td>\n",
       "      <td>2</td>\n",
       "      <td>1</td>\n",
       "      <td>2</td>\n",
       "      <td>2</td>\n",
       "      <td>0</td>\n",
       "      <td>2</td>\n",
       "      <td>0</td>\n",
       "      <td>1</td>\n",
       "      <td>2</td>\n",
       "      <td>29.85</td>\n",
       "      <td>29.85</td>\n",
       "      <td>0</td>\n",
       "    </tr>\n",
       "    <tr>\n",
       "      <th>1</th>\n",
       "      <td>0</td>\n",
       "      <td>0</td>\n",
       "      <td>1</td>\n",
       "      <td>0</td>\n",
       "      <td>1.0</td>\n",
       "      <td>0</td>\n",
       "      <td>0</td>\n",
       "      <td>1</td>\n",
       "      <td>2</td>\n",
       "      <td>1</td>\n",
       "      <td>2</td>\n",
       "      <td>2</td>\n",
       "      <td>0</td>\n",
       "      <td>2</td>\n",
       "      <td>0</td>\n",
       "      <td>1</td>\n",
       "      <td>2</td>\n",
       "      <td>29.85</td>\n",
       "      <td>29.85</td>\n",
       "      <td>0</td>\n",
       "    </tr>\n",
       "    <tr>\n",
       "      <th>2</th>\n",
       "      <td>1</td>\n",
       "      <td>0</td>\n",
       "      <td>0</td>\n",
       "      <td>0</td>\n",
       "      <td>34.0</td>\n",
       "      <td>1</td>\n",
       "      <td>2</td>\n",
       "      <td>1</td>\n",
       "      <td>1</td>\n",
       "      <td>2</td>\n",
       "      <td>1</td>\n",
       "      <td>2</td>\n",
       "      <td>0</td>\n",
       "      <td>2</td>\n",
       "      <td>1</td>\n",
       "      <td>0</td>\n",
       "      <td>3</td>\n",
       "      <td>56.95</td>\n",
       "      <td>1889.50</td>\n",
       "      <td>0</td>\n",
       "    </tr>\n",
       "    <tr>\n",
       "      <th>3</th>\n",
       "      <td>1</td>\n",
       "      <td>0</td>\n",
       "      <td>0</td>\n",
       "      <td>0</td>\n",
       "      <td>2.0</td>\n",
       "      <td>1</td>\n",
       "      <td>2</td>\n",
       "      <td>1</td>\n",
       "      <td>1</td>\n",
       "      <td>1</td>\n",
       "      <td>2</td>\n",
       "      <td>2</td>\n",
       "      <td>0</td>\n",
       "      <td>2</td>\n",
       "      <td>0</td>\n",
       "      <td>1</td>\n",
       "      <td>3</td>\n",
       "      <td>53.85</td>\n",
       "      <td>108.15</td>\n",
       "      <td>1</td>\n",
       "    </tr>\n",
       "    <tr>\n",
       "      <th>4</th>\n",
       "      <td>1</td>\n",
       "      <td>0</td>\n",
       "      <td>0</td>\n",
       "      <td>0</td>\n",
       "      <td>45.0</td>\n",
       "      <td>0</td>\n",
       "      <td>0</td>\n",
       "      <td>1</td>\n",
       "      <td>1</td>\n",
       "      <td>2</td>\n",
       "      <td>1</td>\n",
       "      <td>1</td>\n",
       "      <td>0</td>\n",
       "      <td>2</td>\n",
       "      <td>1</td>\n",
       "      <td>0</td>\n",
       "      <td>0</td>\n",
       "      <td>42.3</td>\n",
       "      <td>1840.75</td>\n",
       "      <td>0</td>\n",
       "    </tr>\n",
       "    <tr>\n",
       "      <th>...</th>\n",
       "      <td>...</td>\n",
       "      <td>...</td>\n",
       "      <td>...</td>\n",
       "      <td>...</td>\n",
       "      <td>...</td>\n",
       "      <td>...</td>\n",
       "      <td>...</td>\n",
       "      <td>...</td>\n",
       "      <td>...</td>\n",
       "      <td>...</td>\n",
       "      <td>...</td>\n",
       "      <td>...</td>\n",
       "      <td>...</td>\n",
       "      <td>...</td>\n",
       "      <td>...</td>\n",
       "      <td>...</td>\n",
       "      <td>...</td>\n",
       "      <td>...</td>\n",
       "      <td>...</td>\n",
       "      <td>...</td>\n",
       "    </tr>\n",
       "    <tr>\n",
       "      <th>4993</th>\n",
       "      <td>1</td>\n",
       "      <td>0</td>\n",
       "      <td>1</td>\n",
       "      <td>0</td>\n",
       "      <td>51.0</td>\n",
       "      <td>0</td>\n",
       "      <td>0</td>\n",
       "      <td>1</td>\n",
       "      <td>2</td>\n",
       "      <td>1</td>\n",
       "      <td>2</td>\n",
       "      <td>2</td>\n",
       "      <td>0</td>\n",
       "      <td>2</td>\n",
       "      <td>0</td>\n",
       "      <td>1</td>\n",
       "      <td>1</td>\n",
       "      <td>30.05</td>\n",
       "      <td>1529.45</td>\n",
       "      <td>0</td>\n",
       "    </tr>\n",
       "    <tr>\n",
       "      <th>4994</th>\n",
       "      <td>1</td>\n",
       "      <td>0</td>\n",
       "      <td>1</td>\n",
       "      <td>1</td>\n",
       "      <td>72.0</td>\n",
       "      <td>0</td>\n",
       "      <td>0</td>\n",
       "      <td>1</td>\n",
       "      <td>1</td>\n",
       "      <td>1</td>\n",
       "      <td>1</td>\n",
       "      <td>1</td>\n",
       "      <td>1</td>\n",
       "      <td>1</td>\n",
       "      <td>2</td>\n",
       "      <td>1</td>\n",
       "      <td>0</td>\n",
       "      <td>65.65</td>\n",
       "      <td>4664.50</td>\n",
       "      <td>0</td>\n",
       "    </tr>\n",
       "    <tr>\n",
       "      <th>4995</th>\n",
       "      <td>0</td>\n",
       "      <td>0</td>\n",
       "      <td>0</td>\n",
       "      <td>0</td>\n",
       "      <td>18.0</td>\n",
       "      <td>1</td>\n",
       "      <td>2</td>\n",
       "      <td>2</td>\n",
       "      <td>1</td>\n",
       "      <td>2</td>\n",
       "      <td>2</td>\n",
       "      <td>2</td>\n",
       "      <td>1</td>\n",
       "      <td>1</td>\n",
       "      <td>0</td>\n",
       "      <td>1</td>\n",
       "      <td>2</td>\n",
       "      <td>96.05</td>\n",
       "      <td>1740.70</td>\n",
       "      <td>1</td>\n",
       "    </tr>\n",
       "    <tr>\n",
       "      <th>4996</th>\n",
       "      <td>0</td>\n",
       "      <td>0</td>\n",
       "      <td>0</td>\n",
       "      <td>0</td>\n",
       "      <td>7.0</td>\n",
       "      <td>1</td>\n",
       "      <td>1</td>\n",
       "      <td>2</td>\n",
       "      <td>2</td>\n",
       "      <td>2</td>\n",
       "      <td>2</td>\n",
       "      <td>2</td>\n",
       "      <td>0</td>\n",
       "      <td>2</td>\n",
       "      <td>0</td>\n",
       "      <td>1</td>\n",
       "      <td>0</td>\n",
       "      <td>75.1</td>\n",
       "      <td>552.95</td>\n",
       "      <td>1</td>\n",
       "    </tr>\n",
       "    <tr>\n",
       "      <th>4997</th>\n",
       "      <td>0</td>\n",
       "      <td>0</td>\n",
       "      <td>0</td>\n",
       "      <td>0</td>\n",
       "      <td>47.0</td>\n",
       "      <td>1</td>\n",
       "      <td>1</td>\n",
       "      <td>1</td>\n",
       "      <td>1</td>\n",
       "      <td>1</td>\n",
       "      <td>2</td>\n",
       "      <td>1</td>\n",
       "      <td>0</td>\n",
       "      <td>1</td>\n",
       "      <td>2</td>\n",
       "      <td>0</td>\n",
       "      <td>3</td>\n",
       "      <td>74.05</td>\n",
       "      <td>3496.30</td>\n",
       "      <td>0</td>\n",
       "    </tr>\n",
       "  </tbody>\n",
       "</table>\n",
       "<p>4983 rows × 20 columns</p>\n",
       "</div>"
      ],
      "text/plain": [
       "      Gender  Senior Citizen  Partner  Dependents  tenure  Phone Service  \\\n",
       "0          0               0        1           0     1.0              0   \n",
       "1          0               0        1           0     1.0              0   \n",
       "2          1               0        0           0    34.0              1   \n",
       "3          1               0        0           0     2.0              1   \n",
       "4          1               0        0           0    45.0              0   \n",
       "...      ...             ...      ...         ...     ...            ...   \n",
       "4993       1               0        1           0    51.0              0   \n",
       "4994       1               0        1           1    72.0              0   \n",
       "4995       0               0        0           0    18.0              1   \n",
       "4996       0               0        0           0     7.0              1   \n",
       "4997       0               0        0           0    47.0              1   \n",
       "\n",
       "      Multiple Lines  Internet Service  Online Security  Online Backup  \\\n",
       "0                  0                 1                2              1   \n",
       "1                  0                 1                2              1   \n",
       "2                  2                 1                1              2   \n",
       "3                  2                 1                1              1   \n",
       "4                  0                 1                1              2   \n",
       "...              ...               ...              ...            ...   \n",
       "4993               0                 1                2              1   \n",
       "4994               0                 1                1              1   \n",
       "4995               2                 2                1              2   \n",
       "4996               1                 2                2              2   \n",
       "4997               1                 1                1              1   \n",
       "\n",
       "      Device Protection  Tech Support  Streaming TV  Streaming Movies  \\\n",
       "0                     2             2             0                 2   \n",
       "1                     2             2             0                 2   \n",
       "2                     1             2             0                 2   \n",
       "3                     2             2             0                 2   \n",
       "4                     1             1             0                 2   \n",
       "...                 ...           ...           ...               ...   \n",
       "4993                  2             2             0                 2   \n",
       "4994                  1             1             1                 1   \n",
       "4995                  2             2             1                 1   \n",
       "4996                  2             2             0                 2   \n",
       "4997                  2             1             0                 1   \n",
       "\n",
       "      Contract  Paperless Billing  Payment Method Monthly Charges  \\\n",
       "0            0                  1               2           29.85   \n",
       "1            0                  1               2           29.85   \n",
       "2            1                  0               3           56.95   \n",
       "3            0                  1               3           53.85   \n",
       "4            1                  0               0            42.3   \n",
       "...        ...                ...             ...             ...   \n",
       "4993         0                  1               1           30.05   \n",
       "4994         2                  1               0           65.65   \n",
       "4995         0                  1               2           96.05   \n",
       "4996         0                  1               0            75.1   \n",
       "4997         2                  0               3           74.05   \n",
       "\n",
       "      Total Charges  Churn  \n",
       "0             29.85      0  \n",
       "1             29.85      0  \n",
       "2           1889.50      0  \n",
       "3            108.15      1  \n",
       "4           1840.75      0  \n",
       "...             ...    ...  \n",
       "4993        1529.45      0  \n",
       "4994        4664.50      0  \n",
       "4995        1740.70      1  \n",
       "4996         552.95      1  \n",
       "4997        3496.30      0  \n",
       "\n",
       "[4983 rows x 20 columns]"
      ]
     },
     "execution_count": 57,
     "metadata": {},
     "output_type": "execute_result"
    }
   ],
   "source": [
    "dfv5"
   ]
  },
  {
   "cell_type": "markdown",
   "id": "033b98b4",
   "metadata": {},
   "source": [
    "is_float function converts the datapoints to float values."
   ]
  },
  {
   "cell_type": "code",
   "execution_count": 58,
   "id": "03febddd",
   "metadata": {
    "scrolled": true
   },
   "outputs": [
    {
     "data": {
      "text/html": [
       "<div>\n",
       "<style scoped>\n",
       "    .dataframe tbody tr th:only-of-type {\n",
       "        vertical-align: middle;\n",
       "    }\n",
       "\n",
       "    .dataframe tbody tr th {\n",
       "        vertical-align: top;\n",
       "    }\n",
       "\n",
       "    .dataframe thead th {\n",
       "        text-align: right;\n",
       "    }\n",
       "</style>\n",
       "<table border=\"1\" class=\"dataframe\">\n",
       "  <thead>\n",
       "    <tr style=\"text-align: right;\">\n",
       "      <th></th>\n",
       "      <th>Gender</th>\n",
       "      <th>Senior Citizen</th>\n",
       "      <th>Partner</th>\n",
       "      <th>Dependents</th>\n",
       "      <th>tenure</th>\n",
       "      <th>Phone Service</th>\n",
       "      <th>Multiple Lines</th>\n",
       "      <th>Internet Service</th>\n",
       "      <th>Online Security</th>\n",
       "      <th>Online Backup</th>\n",
       "      <th>Device Protection</th>\n",
       "      <th>Tech Support</th>\n",
       "      <th>Streaming TV</th>\n",
       "      <th>Streaming Movies</th>\n",
       "      <th>Contract</th>\n",
       "      <th>Paperless Billing</th>\n",
       "      <th>Payment Method</th>\n",
       "      <th>Monthly Charges</th>\n",
       "      <th>Total Charges</th>\n",
       "      <th>Churn</th>\n",
       "    </tr>\n",
       "  </thead>\n",
       "  <tbody>\n",
       "    <tr>\n",
       "      <th>4774</th>\n",
       "      <td>1</td>\n",
       "      <td>0</td>\n",
       "      <td>0</td>\n",
       "      <td>0</td>\n",
       "      <td>44.0</td>\n",
       "      <td>0</td>\n",
       "      <td>0</td>\n",
       "      <td>1</td>\n",
       "      <td>2</td>\n",
       "      <td>1</td>\n",
       "      <td>1</td>\n",
       "      <td>2</td>\n",
       "      <td>1</td>\n",
       "      <td>1</td>\n",
       "      <td>1</td>\n",
       "      <td>1</td>\n",
       "      <td>3</td>\n",
       "      <td>53,95</td>\n",
       "      <td>2375.4</td>\n",
       "      <td>1</td>\n",
       "    </tr>\n",
       "  </tbody>\n",
       "</table>\n",
       "</div>"
      ],
      "text/plain": [
       "      Gender  Senior Citizen  Partner  Dependents  tenure  Phone Service  \\\n",
       "4774       1               0        0           0    44.0              0   \n",
       "\n",
       "      Multiple Lines  Internet Service  Online Security  Online Backup  \\\n",
       "4774               0                 1                2              1   \n",
       "\n",
       "      Device Protection  Tech Support  Streaming TV  Streaming Movies  \\\n",
       "4774                  1             2             1                 1   \n",
       "\n",
       "      Contract  Paperless Billing  Payment Method Monthly Charges  \\\n",
       "4774         1                  1               3           53,95   \n",
       "\n",
       "      Total Charges  Churn  \n",
       "4774         2375.4      1  "
      ]
     },
     "execution_count": 58,
     "metadata": {},
     "output_type": "execute_result"
    }
   ],
   "source": [
    "def is_float(x):\n",
    "    try:\n",
    "        float(x)\n",
    "    except:\n",
    "        return False\n",
    "    return True\n",
    "\n",
    "#prints the dataframe containing the datapoints other than float in Monthly Charges.\n",
    "dfv5[~dfv5['Monthly Charges'].apply(is_float)]\n"
   ]
  },
  {
   "cell_type": "code",
   "execution_count": 59,
   "id": "c9c1ff00",
   "metadata": {},
   "outputs": [
    {
     "name": "stderr",
     "output_type": "stream",
     "text": [
      "C:\\Users\\sraks\\AppData\\Local\\Temp\\ipykernel_21372\\3906737598.py:2: SettingWithCopyWarning: \n",
      "A value is trying to be set on a copy of a slice from a DataFrame\n",
      "\n",
      "See the caveats in the documentation: https://pandas.pydata.org/pandas-docs/stable/user_guide/indexing.html#returning-a-view-versus-a-copy\n",
      "  dfv5['Monthly Charges'].loc[4774]=53.95\n"
     ]
    },
    {
     "data": {
      "text/plain": [
       "53.95"
      ]
     },
     "execution_count": 59,
     "metadata": {},
     "output_type": "execute_result"
    }
   ],
   "source": [
    "#Replace the string value 53,95 by 53.95\n",
    "dfv5['Monthly Charges'].loc[4774]=53.95\n",
    "dfv5['Monthly Charges'].loc[4774]"
   ]
  },
  {
   "cell_type": "markdown",
   "id": "879c2288",
   "metadata": {},
   "source": [
    "Plot a scatter plot"
   ]
  },
  {
   "cell_type": "code",
   "execution_count": 60,
   "id": "48aaaeea",
   "metadata": {},
   "outputs": [
    {
     "data": {
      "text/plain": [
       "['Gender',\n",
       " 'Senior Citizen',\n",
       " 'Partner',\n",
       " 'Dependents',\n",
       " 'tenure',\n",
       " 'Phone Service',\n",
       " 'Multiple Lines',\n",
       " 'Internet Service',\n",
       " 'Online Security',\n",
       " 'Online Backup',\n",
       " 'Device Protection',\n",
       " 'Tech Support',\n",
       " 'Streaming TV',\n",
       " 'Streaming Movies',\n",
       " 'Contract',\n",
       " 'Paperless Billing',\n",
       " 'Payment Method',\n",
       " 'Monthly Charges',\n",
       " 'Churn']"
      ]
     },
     "execution_count": 60,
     "metadata": {},
     "output_type": "execute_result"
    }
   ],
   "source": [
    "import matplotlib.pyplot as plt\n",
    "%matplotlib inline\n",
    "cn = list(dfv5.columns)\n",
    "cn\n",
    "remove = [-2]\n",
    "for i in remove:\n",
    "    cn.pop(i)  \n",
    "cn"
   ]
  },
  {
   "cell_type": "code",
   "execution_count": 61,
   "id": "94beb16c",
   "metadata": {},
   "outputs": [
    {
     "data": {
      "image/png": "[encoded data removed]",
      "text/plain": [
       "<Figure size 640x480 with 1 Axes>"
      ]
     },
     "metadata": {},
     "output_type": "display_data"
    }
   ],
   "source": [
    "dfv5['Monthly Charges']=dfv5['Monthly Charges'].astype(float)\n",
    "d = dfv5.copy()\n",
    "d = d.astype(int)\n",
    "for i in cn:\n",
    "    plt.scatter(d[i], d['Total Charges'])"
   ]
  },
  {
   "cell_type": "code",
   "execution_count": 62,
   "id": "5a6a7850",
   "metadata": {},
   "outputs": [
    {
     "data": {
      "text/plain": [
       "Gender                 int64\n",
       "Senior Citizen         int64\n",
       "Partner                int64\n",
       "Dependents             int64\n",
       "tenure               float64\n",
       "Phone Service          int64\n",
       "Multiple Lines         int32\n",
       "Internet Service       int32\n",
       "Online Security        int32\n",
       "Online Backup          int32\n",
       "Device Protection      int32\n",
       "Tech Support           int32\n",
       "Streaming TV           int32\n",
       "Streaming Movies       int32\n",
       "Contract               int32\n",
       "Paperless Billing      int64\n",
       "Payment Method         int32\n",
       "Monthly Charges      float64\n",
       "Total Charges        float64\n",
       "Churn                  int64\n",
       "dtype: object"
      ]
     },
     "execution_count": 62,
     "metadata": {},
     "output_type": "execute_result"
    }
   ],
   "source": [
    "dfv5.dtypes"
   ]
  },
  {
   "cell_type": "markdown",
   "id": "ded681e4",
   "metadata": {},
   "source": [
    "### Split the data set into Training set and Testing set."
   ]
  },
  {
   "cell_type": "code",
   "execution_count": 86,
   "id": "9172e08e",
   "metadata": {},
   "outputs": [
    {
     "data": {
      "text/plain": [
       "(3986, 997)"
      ]
     },
     "execution_count": 86,
     "metadata": {},
     "output_type": "execute_result"
    }
   ],
   "source": [
    "from sklearn.model_selection import train_test_split\n",
    "x_train, x_test, y_train, y_test = train_test_split(dfv5.drop(['Total Charges'], axis = \"columns\"), dfv5['Total Charges'], test_size=0.2)\n",
    "len(x_train), len(x_test)"
   ]
  },
  {
   "cell_type": "markdown",
   "id": "7245c99f",
   "metadata": {},
   "source": [
    "## Model Building"
   ]
  },
  {
   "cell_type": "markdown",
   "id": "25cf2ac5",
   "metadata": {},
   "source": [
    "### Training the model using Linear Regressin"
   ]
  },
  {
   "cell_type": "code",
   "execution_count": 87,
   "id": "39f629a3",
   "metadata": {},
   "outputs": [
    {
     "data": {
      "text/plain": [
       "(0.9067438484084986, 0.9013999064455014)"
      ]
     },
     "execution_count": 87,
     "metadata": {},
     "output_type": "execute_result"
    }
   ],
   "source": [
    "from sklearn.linear_model import LinearRegression\n",
    "lmodel = LinearRegression()\n",
    "lmodel.fit(x_train, y_train)\n",
    "lmodel.score(x_train, y_train) , lmodel.score(x_test, y_test)"
   ]
  },
  {
   "cell_type": "markdown",
   "id": "93caf566",
   "metadata": {},
   "source": [
    "KFolad cross validation"
   ]
  },
  {
   "cell_type": "code",
   "execution_count": 88,
   "id": "55edc4c2",
   "metadata": {},
   "outputs": [
    {
     "data": {
      "text/plain": [
       "0.9046339732800593"
      ]
     },
     "execution_count": 88,
     "metadata": {},
     "output_type": "execute_result"
    }
   ],
   "source": [
    "from sklearn.model_selection import cross_val_score\n",
    "scores = cross_val_score(lmodel, dfv5.drop(['Total Charges'], axis = \"columns\"), dfv5['Total Charges'], cv = 5)\n",
    "avy_score = np.average(scores)\n",
    "avy_score"
   ]
  },
  {
   "cell_type": "code",
   "execution_count": 67,
   "id": "1b704c2e",
   "metadata": {},
   "outputs": [
    {
     "data": {
      "text/plain": [
       "0.909783507800748"
      ]
     },
     "execution_count": 67,
     "metadata": {},
     "output_type": "execute_result"
    }
   ],
   "source": [
    "from sklearn.metrics import r2_score\n",
    "y_pred_linear = lmodel.predict(x_test)\n",
    "r2_score(y_test, y_pred_linear)"
   ]
  },
  {
   "cell_type": "code",
   "execution_count": null,
   "id": "a515efac",
   "metadata": {},
   "outputs": [],
   "source": [
    "#Mean squared error\n",
    "from sklearn.metrics import meaan_squared_error"
   ]
  },
  {
   "cell_type": "markdown",
   "id": "d8becf4a",
   "metadata": {},
   "source": [
    "### Training the model using Lesso Regularization (L1 Regularization)"
   ]
  },
  {
   "cell_type": "code",
   "execution_count": 68,
   "id": "8ae1af14",
   "metadata": {},
   "outputs": [
    {
     "data": {
      "text/plain": [
       "(0.8945747462871495, 0.901872833465231)"
      ]
     },
     "execution_count": 68,
     "metadata": {},
     "output_type": "execute_result"
    }
   ],
   "source": [
    "from sklearn.linear_model import Lasso\n",
    "lreg = Lasso(alpha=40, max_iter = 100, tol = 0.1)\n",
    "lreg.fit(x_train, y_train)\n",
    "lreg.score(x_train, y_train), lreg.score(x_test, y_test)"
   ]
  },
  {
   "cell_type": "markdown",
   "id": "534c31cb",
   "metadata": {},
   "source": [
    "KFold cross validation"
   ]
  },
  {
   "cell_type": "code",
   "execution_count": 69,
   "id": "90b9baa4",
   "metadata": {},
   "outputs": [
    {
     "data": {
      "text/plain": [
       "0.8958183500059768"
      ]
     },
     "execution_count": 69,
     "metadata": {},
     "output_type": "execute_result"
    }
   ],
   "source": [
    "scores = cross_val_score(lreg, dfv5.drop(['Total Charges'], axis = \"columns\"), dfv5['Total Charges'], cv = 5)\n",
    "avy_score = np.average(scores)\n",
    "avy_score"
   ]
  },
  {
   "cell_type": "code",
   "execution_count": 72,
   "id": "8c1a40de",
   "metadata": {},
   "outputs": [
    {
     "data": {
      "text/plain": [
       "0.901872833465231"
      ]
     },
     "execution_count": 72,
     "metadata": {},
     "output_type": "execute_result"
    }
   ],
   "source": [
    "y_pred_lesso = lreg.predict(x_test)\n",
    "r2_score(y_test, y_pred_lesso)"
   ]
  },
  {
   "cell_type": "markdown",
   "id": "bdc55b3c",
   "metadata": {},
   "source": [
    "### Training the model using Ridge Regression (L2 Regularization)"
   ]
  },
  {
   "cell_type": "code",
   "execution_count": 73,
   "id": "3f75bb5f",
   "metadata": {},
   "outputs": [
    {
     "data": {
      "text/plain": [
       "(0.9042207488435575, 0.9098090902849582)"
      ]
     },
     "execution_count": 73,
     "metadata": {},
     "output_type": "execute_result"
    }
   ],
   "source": [
    "from sklearn.linear_model import Ridge\n",
    "rreg = Ridge(alpha=40, max_iter = 100, tol = 0.1)\n",
    "rreg.fit(x_train, y_train)\n",
    "rreg.score(x_train, y_train), rreg.score(x_test, y_test)"
   ]
  },
  {
   "cell_type": "markdown",
   "id": "79bb6376",
   "metadata": {},
   "source": [
    "KFold cross validation"
   ]
  },
  {
   "cell_type": "code",
   "execution_count": 74,
   "id": "b8728125",
   "metadata": {},
   "outputs": [
    {
     "data": {
      "text/plain": [
       "0.9044311205274397"
      ]
     },
     "execution_count": 74,
     "metadata": {},
     "output_type": "execute_result"
    }
   ],
   "source": [
    "scores = cross_val_score(rreg, dfv5.drop(['Total Charges'], axis = \"columns\"), dfv5['Total Charges'], cv = 5)\n",
    "avy_score = np.average(scores)\n",
    "avy_score"
   ]
  },
  {
   "cell_type": "code",
   "execution_count": 76,
   "id": "f911a92d",
   "metadata": {},
   "outputs": [
    {
     "data": {
      "text/plain": [
       "0.9098090902849582"
      ]
     },
     "execution_count": 76,
     "metadata": {},
     "output_type": "execute_result"
    }
   ],
   "source": [
    "y_pred_ridge = rreg.predict(x_test)\n",
    "r2_score(y_test, y_pred_ridge)"
   ]
  },
  {
   "cell_type": "markdown",
   "id": "64ff8bb9",
   "metadata": {},
   "source": [
    "### Training the model using Decision Tree Regressor"
   ]
  },
  {
   "cell_type": "code",
   "execution_count": 77,
   "id": "123bde8c",
   "metadata": {},
   "outputs": [
    {
     "data": {
      "text/plain": [
       "(0.9999999992606219, 0.9973776670243649)"
      ]
     },
     "execution_count": 77,
     "metadata": {},
     "output_type": "execute_result"
    }
   ],
   "source": [
    "from sklearn.tree import DecisionTreeRegressor\n",
    "dmodel = DecisionTreeRegressor()\n",
    "dmodel.fit(x_train, y_train)\n",
    "dmodel.score(x_train, y_train) , dmodel.score(x_test, y_test)"
   ]
  },
  {
   "cell_type": "markdown",
   "id": "d953ca4f",
   "metadata": {},
   "source": [
    "KFold cross validation"
   ]
  },
  {
   "cell_type": "code",
   "execution_count": 78,
   "id": "01eb481e",
   "metadata": {},
   "outputs": [
    {
     "data": {
      "text/plain": [
       "0.9967886438792959"
      ]
     },
     "execution_count": 78,
     "metadata": {},
     "output_type": "execute_result"
    }
   ],
   "source": [
    "scores = cross_val_score(dmodel, dfv5.drop(['Total Charges'], axis = \"columns\"), dfv5['Total Charges'], cv = 5)\n",
    "avy_score = np.average(scores)\n",
    "avy_score"
   ]
  },
  {
   "cell_type": "code",
   "execution_count": 79,
   "id": "86753eac",
   "metadata": {},
   "outputs": [
    {
     "data": {
      "text/plain": [
       "0.9973776670243649"
      ]
     },
     "execution_count": 79,
     "metadata": {},
     "output_type": "execute_result"
    }
   ],
   "source": [
    "y_pred_tree = dmodel.predict(x_test)\n",
    "r2_score(y_test, y_pred_tree)"
   ]
  },
  {
   "cell_type": "markdown",
   "id": "84edf7f9",
   "metadata": {},
   "source": [
    "### Training the model using Random Forest Regressor"
   ]
  },
  {
   "cell_type": "code",
   "execution_count": 80,
   "id": "f4dacfc6",
   "metadata": {},
   "outputs": [
    {
     "data": {
      "text/plain": [
       "(0.9997122681094627, 0.998561977835025)"
      ]
     },
     "execution_count": 80,
     "metadata": {},
     "output_type": "execute_result"
    }
   ],
   "source": [
    "from sklearn.ensemble import RandomForestRegressor\n",
    "rmodel = RandomForestRegressor(n_estimators = 10)\n",
    "rmodel.fit(x_train, y_train)\n",
    "rmodel.score(x_train, y_train) , rmodel.score(x_test, y_test)"
   ]
  },
  {
   "cell_type": "markdown",
   "id": "e3220e1e",
   "metadata": {},
   "source": [
    "KFold cross validation"
   ]
  },
  {
   "cell_type": "code",
   "execution_count": 81,
   "id": "b32d92da",
   "metadata": {},
   "outputs": [
    {
     "data": {
      "text/plain": [
       "0.9984130188244279"
      ]
     },
     "execution_count": 81,
     "metadata": {},
     "output_type": "execute_result"
    }
   ],
   "source": [
    "scores = cross_val_score(rmodel, dfv5.drop(['Total Charges'], axis = \"columns\"), dfv5['Total Charges'], cv = 5)\n",
    "avy_score = np.average(scores)\n",
    "avy_score"
   ]
  },
  {
   "cell_type": "code",
   "execution_count": 85,
   "id": "a93769b2",
   "metadata": {},
   "outputs": [
    {
     "data": {
      "text/plain": [
       "0.998561977835025"
      ]
     },
     "execution_count": 85,
     "metadata": {},
     "output_type": "execute_result"
    }
   ],
   "source": [
    "y_pred_forest = rmodel.predict(x_test)\n",
    "r2_score(y_test, y_pred_forest)"
   ]
  },
  {
   "cell_type": "markdown",
   "id": "5238a8fc",
   "metadata": {},
   "source": [
    "### Exporting the model to a pickle file"
   ]
  },
  {
   "cell_type": "code",
   "execution_count": 748,
   "id": "278e0a34",
   "metadata": {},
   "outputs": [],
   "source": [
    "import pickle\n",
    "with open('prediction.pickle', 'wb') as f:\n",
    "    pickle.dump(rmodel,f)"
   ]
  },
  {
   "cell_type": "code",
   "execution_count": 747,
   "id": "cb6e42a0",
   "metadata": {},
   "outputs": [],
   "source": [
    "x = dfv5.drop(['Total Charges'], axis = \"columns\")\n",
    "import json\n",
    "columns = {\n",
    "    'data_columns' : [col.lower() for col in x.columns]\n",
    "}\n",
    "with open(\"columns.json\",\"w\") as f:\n",
    "    f.write(json.dumps(columns))"
   ]
  },
  {
   "cell_type": "code",
   "execution_count": 716,
   "id": "c2b9a06b",
   "metadata": {},
   "outputs": [
    {
     "data": {
      "text/plain": [
       "count    4983.000000\n",
       "mean       64.809643\n",
       "std        30.111979\n",
       "min        18.250000\n",
       "25%        35.525000\n",
       "50%        70.450000\n",
       "75%        89.950000\n",
       "max       118.750000\n",
       "Name: Monthly Charges, dtype: float64"
      ]
     },
     "execution_count": 716,
     "metadata": {},
     "output_type": "execute_result"
    }
   ],
   "source": [
    "dfv5[\"Monthly Charges\"].describe()"
   ]
  },
  {
   "cell_type": "code",
   "execution_count": 722,
   "id": "2d0f0f5a",
   "metadata": {},
   "outputs": [
    {
     "data": {
      "text/html": [
       "<div>\n",
       "<style scoped>\n",
       "    .dataframe tbody tr th:only-of-type {\n",
       "        vertical-align: middle;\n",
       "    }\n",
       "\n",
       "    .dataframe tbody tr th {\n",
       "        vertical-align: top;\n",
       "    }\n",
       "\n",
       "    .dataframe thead th {\n",
       "        text-align: right;\n",
       "    }\n",
       "</style>\n",
       "<table border=\"1\" class=\"dataframe\">\n",
       "  <thead>\n",
       "    <tr style=\"text-align: right;\">\n",
       "      <th></th>\n",
       "      <th>Gender</th>\n",
       "      <th>Senior Citizen</th>\n",
       "      <th>Partner</th>\n",
       "      <th>Dependents</th>\n",
       "      <th>tenure</th>\n",
       "      <th>Phone Service</th>\n",
       "      <th>Multiple Lines</th>\n",
       "      <th>Internet Service</th>\n",
       "      <th>Online Security</th>\n",
       "      <th>Online Backup</th>\n",
       "      <th>Device Protection</th>\n",
       "      <th>Tech Support</th>\n",
       "      <th>Streaming TV</th>\n",
       "      <th>Streaming Movies</th>\n",
       "      <th>Contract</th>\n",
       "      <th>Paperless Billing</th>\n",
       "      <th>Payment Method</th>\n",
       "      <th>Monthly Charges</th>\n",
       "      <th>Churn</th>\n",
       "    </tr>\n",
       "  </thead>\n",
       "  <tbody>\n",
       "    <tr>\n",
       "      <th>3706</th>\n",
       "      <td>0</td>\n",
       "      <td>0</td>\n",
       "      <td>1</td>\n",
       "      <td>1</td>\n",
       "      <td>69.0</td>\n",
       "      <td>1</td>\n",
       "      <td>1</td>\n",
       "      <td>1</td>\n",
       "      <td>1</td>\n",
       "      <td>2</td>\n",
       "      <td>2</td>\n",
       "      <td>1</td>\n",
       "      <td>0</td>\n",
       "      <td>2</td>\n",
       "      <td>2</td>\n",
       "      <td>0</td>\n",
       "      <td>1</td>\n",
       "      <td>61.40</td>\n",
       "      <td>0</td>\n",
       "    </tr>\n",
       "    <tr>\n",
       "      <th>617</th>\n",
       "      <td>1</td>\n",
       "      <td>0</td>\n",
       "      <td>0</td>\n",
       "      <td>0</td>\n",
       "      <td>8.0</td>\n",
       "      <td>0</td>\n",
       "      <td>0</td>\n",
       "      <td>1</td>\n",
       "      <td>2</td>\n",
       "      <td>2</td>\n",
       "      <td>2</td>\n",
       "      <td>2</td>\n",
       "      <td>0</td>\n",
       "      <td>2</td>\n",
       "      <td>0</td>\n",
       "      <td>1</td>\n",
       "      <td>1</td>\n",
       "      <td>25.25</td>\n",
       "      <td>0</td>\n",
       "    </tr>\n",
       "    <tr>\n",
       "      <th>3138</th>\n",
       "      <td>0</td>\n",
       "      <td>0</td>\n",
       "      <td>1</td>\n",
       "      <td>1</td>\n",
       "      <td>41.0</td>\n",
       "      <td>1</td>\n",
       "      <td>1</td>\n",
       "      <td>2</td>\n",
       "      <td>2</td>\n",
       "      <td>1</td>\n",
       "      <td>1</td>\n",
       "      <td>1</td>\n",
       "      <td>1</td>\n",
       "      <td>1</td>\n",
       "      <td>1</td>\n",
       "      <td>1</td>\n",
       "      <td>0</td>\n",
       "      <td>109.10</td>\n",
       "      <td>0</td>\n",
       "    </tr>\n",
       "    <tr>\n",
       "      <th>306</th>\n",
       "      <td>1</td>\n",
       "      <td>0</td>\n",
       "      <td>1</td>\n",
       "      <td>1</td>\n",
       "      <td>52.0</td>\n",
       "      <td>1</td>\n",
       "      <td>1</td>\n",
       "      <td>0</td>\n",
       "      <td>0</td>\n",
       "      <td>0</td>\n",
       "      <td>0</td>\n",
       "      <td>0</td>\n",
       "      <td>2</td>\n",
       "      <td>0</td>\n",
       "      <td>2</td>\n",
       "      <td>0</td>\n",
       "      <td>3</td>\n",
       "      <td>24.80</td>\n",
       "      <td>0</td>\n",
       "    </tr>\n",
       "    <tr>\n",
       "      <th>4341</th>\n",
       "      <td>1</td>\n",
       "      <td>0</td>\n",
       "      <td>0</td>\n",
       "      <td>1</td>\n",
       "      <td>5.0</td>\n",
       "      <td>1</td>\n",
       "      <td>2</td>\n",
       "      <td>1</td>\n",
       "      <td>2</td>\n",
       "      <td>2</td>\n",
       "      <td>2</td>\n",
       "      <td>1</td>\n",
       "      <td>0</td>\n",
       "      <td>2</td>\n",
       "      <td>0</td>\n",
       "      <td>1</td>\n",
       "      <td>0</td>\n",
       "      <td>48.65</td>\n",
       "      <td>0</td>\n",
       "    </tr>\n",
       "    <tr>\n",
       "      <th>...</th>\n",
       "      <td>...</td>\n",
       "      <td>...</td>\n",
       "      <td>...</td>\n",
       "      <td>...</td>\n",
       "      <td>...</td>\n",
       "      <td>...</td>\n",
       "      <td>...</td>\n",
       "      <td>...</td>\n",
       "      <td>...</td>\n",
       "      <td>...</td>\n",
       "      <td>...</td>\n",
       "      <td>...</td>\n",
       "      <td>...</td>\n",
       "      <td>...</td>\n",
       "      <td>...</td>\n",
       "      <td>...</td>\n",
       "      <td>...</td>\n",
       "      <td>...</td>\n",
       "      <td>...</td>\n",
       "    </tr>\n",
       "    <tr>\n",
       "      <th>1400</th>\n",
       "      <td>0</td>\n",
       "      <td>0</td>\n",
       "      <td>1</td>\n",
       "      <td>1</td>\n",
       "      <td>14.0</td>\n",
       "      <td>1</td>\n",
       "      <td>2</td>\n",
       "      <td>0</td>\n",
       "      <td>0</td>\n",
       "      <td>0</td>\n",
       "      <td>0</td>\n",
       "      <td>0</td>\n",
       "      <td>2</td>\n",
       "      <td>0</td>\n",
       "      <td>1</td>\n",
       "      <td>0</td>\n",
       "      <td>3</td>\n",
       "      <td>19.55</td>\n",
       "      <td>0</td>\n",
       "    </tr>\n",
       "    <tr>\n",
       "      <th>806</th>\n",
       "      <td>0</td>\n",
       "      <td>0</td>\n",
       "      <td>1</td>\n",
       "      <td>1</td>\n",
       "      <td>72.0</td>\n",
       "      <td>1</td>\n",
       "      <td>1</td>\n",
       "      <td>1</td>\n",
       "      <td>2</td>\n",
       "      <td>2</td>\n",
       "      <td>1</td>\n",
       "      <td>2</td>\n",
       "      <td>1</td>\n",
       "      <td>1</td>\n",
       "      <td>2</td>\n",
       "      <td>1</td>\n",
       "      <td>0</td>\n",
       "      <td>76.80</td>\n",
       "      <td>0</td>\n",
       "    </tr>\n",
       "    <tr>\n",
       "      <th>3218</th>\n",
       "      <td>0</td>\n",
       "      <td>0</td>\n",
       "      <td>0</td>\n",
       "      <td>0</td>\n",
       "      <td>2.0</td>\n",
       "      <td>1</td>\n",
       "      <td>2</td>\n",
       "      <td>0</td>\n",
       "      <td>0</td>\n",
       "      <td>0</td>\n",
       "      <td>0</td>\n",
       "      <td>0</td>\n",
       "      <td>2</td>\n",
       "      <td>0</td>\n",
       "      <td>0</td>\n",
       "      <td>1</td>\n",
       "      <td>3</td>\n",
       "      <td>20.45</td>\n",
       "      <td>0</td>\n",
       "    </tr>\n",
       "    <tr>\n",
       "      <th>4202</th>\n",
       "      <td>0</td>\n",
       "      <td>0</td>\n",
       "      <td>1</td>\n",
       "      <td>1</td>\n",
       "      <td>72.0</td>\n",
       "      <td>1</td>\n",
       "      <td>2</td>\n",
       "      <td>0</td>\n",
       "      <td>0</td>\n",
       "      <td>0</td>\n",
       "      <td>0</td>\n",
       "      <td>0</td>\n",
       "      <td>2</td>\n",
       "      <td>0</td>\n",
       "      <td>2</td>\n",
       "      <td>0</td>\n",
       "      <td>0</td>\n",
       "      <td>19.55</td>\n",
       "      <td>0</td>\n",
       "    </tr>\n",
       "    <tr>\n",
       "      <th>1830</th>\n",
       "      <td>1</td>\n",
       "      <td>0</td>\n",
       "      <td>0</td>\n",
       "      <td>0</td>\n",
       "      <td>8.0</td>\n",
       "      <td>1</td>\n",
       "      <td>1</td>\n",
       "      <td>2</td>\n",
       "      <td>2</td>\n",
       "      <td>2</td>\n",
       "      <td>2</td>\n",
       "      <td>2</td>\n",
       "      <td>0</td>\n",
       "      <td>2</td>\n",
       "      <td>0</td>\n",
       "      <td>1</td>\n",
       "      <td>2</td>\n",
       "      <td>74.85</td>\n",
       "      <td>0</td>\n",
       "    </tr>\n",
       "  </tbody>\n",
       "</table>\n",
       "<p>3986 rows × 19 columns</p>\n",
       "</div>"
      ],
      "text/plain": [
       "      Gender  Senior Citizen  Partner  Dependents  tenure  Phone Service  \\\n",
       "3706       0               0        1           1    69.0              1   \n",
       "617        1               0        0           0     8.0              0   \n",
       "3138       0               0        1           1    41.0              1   \n",
       "306        1               0        1           1    52.0              1   \n",
       "4341       1               0        0           1     5.0              1   \n",
       "...      ...             ...      ...         ...     ...            ...   \n",
       "1400       0               0        1           1    14.0              1   \n",
       "806        0               0        1           1    72.0              1   \n",
       "3218       0               0        0           0     2.0              1   \n",
       "4202       0               0        1           1    72.0              1   \n",
       "1830       1               0        0           0     8.0              1   \n",
       "\n",
       "      Multiple Lines  Internet Service  Online Security  Online Backup  \\\n",
       "3706               1                 1                1              2   \n",
       "617                0                 1                2              2   \n",
       "3138               1                 2                2              1   \n",
       "306                1                 0                0              0   \n",
       "4341               2                 1                2              2   \n",
       "...              ...               ...              ...            ...   \n",
       "1400               2                 0                0              0   \n",
       "806                1                 1                2              2   \n",
       "3218               2                 0                0              0   \n",
       "4202               2                 0                0              0   \n",
       "1830               1                 2                2              2   \n",
       "\n",
       "      Device Protection  Tech Support  Streaming TV  Streaming Movies  \\\n",
       "3706                  2             1             0                 2   \n",
       "617                   2             2             0                 2   \n",
       "3138                  1             1             1                 1   \n",
       "306                   0             0             2                 0   \n",
       "4341                  2             1             0                 2   \n",
       "...                 ...           ...           ...               ...   \n",
       "1400                  0             0             2                 0   \n",
       "806                   1             2             1                 1   \n",
       "3218                  0             0             2                 0   \n",
       "4202                  0             0             2                 0   \n",
       "1830                  2             2             0                 2   \n",
       "\n",
       "      Contract  Paperless Billing  Payment Method  Monthly Charges  Churn  \n",
       "3706         2                  0               1            61.40      0  \n",
       "617          0                  1               1            25.25      0  \n",
       "3138         1                  1               0           109.10      0  \n",
       "306          2                  0               3            24.80      0  \n",
       "4341         0                  1               0            48.65      0  \n",
       "...        ...                ...             ...              ...    ...  \n",
       "1400         1                  0               3            19.55      0  \n",
       "806          2                  1               0            76.80      0  \n",
       "3218         0                  1               3            20.45      0  \n",
       "4202         2                  0               0            19.55      0  \n",
       "1830         0                  1               2            74.85      0  \n",
       "\n",
       "[3986 rows x 19 columns]"
      ]
     },
     "execution_count": 722,
     "metadata": {},
     "output_type": "execute_result"
    }
   ],
   "source": [
    "x_train"
   ]
  },
  {
   "cell_type": "code",
   "execution_count": 721,
   "id": "36e6df58",
   "metadata": {},
   "outputs": [
    {
     "data": {
      "text/plain": [
       "3706    4059.85\n",
       "617      186.30\n",
       "3138    4454.25\n",
       "306     1229.10\n",
       "4341     235.20\n",
       "         ...   \n",
       "1400     294.50\n",
       "806     5468.45\n",
       "3218      42.45\n",
       "4202    1463.45\n",
       "1830     572.45\n",
       "Name: Total Charges, Length: 3986, dtype: float64"
      ]
     },
     "execution_count": 721,
     "metadata": {},
     "output_type": "execute_result"
    }
   ],
   "source": [
    "y_train"
   ]
  },
  {
   "cell_type": "code",
   "execution_count": 723,
   "id": "df1e210a",
   "metadata": {
    "scrolled": true
   },
   "outputs": [
    {
     "name": "stderr",
     "output_type": "stream",
     "text": [
      "C:\\Users\\sraks\\AppData\\Roaming\\Python\\Python311\\site-packages\\sklearn\\base.py:465: UserWarning: X does not have valid feature names, but RandomForestRegressor was fitted with feature names\n",
      "  warnings.warn(\n"
     ]
    },
    {
     "data": {
      "text/plain": [
       "array([4109.875])"
      ]
     },
     "execution_count": 723,
     "metadata": {},
     "output_type": "execute_result"
    }
   ],
   "source": [
    "rmodel.predict([[0,0,1,1,69.0,1,1,1,1,2,2,1,0,2,2,0,1,61.40,0]])"
   ]
  },
  {
   "cell_type": "code",
   "execution_count": null,
   "id": "b97a0b27",
   "metadata": {},
   "outputs": [],
   "source": []
  }
 ],
 "metadata": {
  "kernelspec": {
   "display_name": "Python 3 (ipykernel)",
   "language": "python",
   "name": "python3"
  },
  "language_info": {
   "codemirror_mode": {
    "name": "ipython",
    "version": 3
   },
   "file_extension": ".py",
   "mimetype": "text/x-python",
   "name": "python",
   "nbconvert_exporter": "python",
   "pygments_lexer": "ipython3",
   "version": "3.11.5"
  }
 },
 "nbformat": 4,
 "nbformat_minor": 5
}
